{
  "nbformat": 4,
  "nbformat_minor": 0,
  "metadata": {
    "colab": {
      "provenance": [],
      "collapsed_sections": [],
      "authorship_tag": "ABX9TyMHtfddjdKbe5I/oPb54AHT",
      "include_colab_link": true
    },
    "kernelspec": {
      "name": "python3",
      "display_name": "Python 3"
    },
    "language_info": {
      "name": "python"
    }
  },
  "cells": [
    {
      "cell_type": "markdown",
      "metadata": {
        "id": "view-in-github",
        "colab_type": "text"
      },
      "source": [
        "<a href=\"https://colab.research.google.com/github/lala991204/AI-based-financial-data-analysis/blob/master/Search/%EC%9D%B4%EC%BD%94%ED%85%8C/%5BDay_5%5D1_%EC%9D%8C%EB%A3%8C%EC%88%98_%EC%96%BC%EB%A0%A4_%EB%A8%B9%EA%B8%B0.ipynb\" target=\"_parent\"><img src=\"https://colab.research.google.com/assets/colab-badge.svg\" alt=\"Open In Colab\"/></a>"
      ]
    },
    {
      "cell_type": "code",
      "source": [
        "n, m = map(int, input().split())\n",
        "graph = []\n",
        "for i in range(n):\n",
        "    graph.append(list(map(int, input().split())))\n",
        "\n",
        "def dfs(x, y):\n",
        "    if x < 0 or y < 0 or x >= n or y >= m:\n",
        "        return False\n",
        "    if graph[x][y] == 0:\n",
        "        graph[x][y] = 1  # 방문 처리\n",
        "        dfs(x-1, y)\n",
        "        dfs(x+1, y)\n",
        "        dfs(x, y-1)\n",
        "        dfs(x, y+1)\n",
        "        return True\n",
        "    return False\n",
        "\n",
        "\n",
        "result = 0\n",
        "for i in range(n):\n",
        "    for j in range(m):\n",
        "        if dfs(i, j):\n",
        "            result += 1\n",
        "print(result)"
      ],
      "metadata": {
        "id": "RDRUlFETr1sj",
        "colab": {
          "base_uri": "https://localhost:8080/"
        },
        "outputId": "24c339b4-f55b-4a3e-9ac5-0ecfaceb9f0a"
      },
      "execution_count": 1,
      "outputs": [
        {
          "output_type": "stream",
          "name": "stdout",
          "text": [
            "3 3\n",
            "0 0 1\n",
            "0 1 0\n",
            "1 0 1\n",
            "3\n"
          ]
        }
      ]
    }
  ]
}