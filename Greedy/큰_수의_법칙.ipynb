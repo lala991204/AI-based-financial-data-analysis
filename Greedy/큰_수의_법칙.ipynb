{
  "nbformat": 4,
  "nbformat_minor": 0,
  "metadata": {
    "colab": {
      "name": "큰 수의 법칙.ipynb",
      "provenance": [],
      "collapsed_sections": [],
      "authorship_tag": "ABX9TyMAgYOyrHwRWjPmwPCUR2ps",
      "include_colab_link": true
    },
    "kernelspec": {
      "name": "python3",
      "display_name": "Python 3"
    },
    "language_info": {
      "name": "python"
    }
  },
  "cells": [
    {
      "cell_type": "markdown",
      "metadata": {
        "id": "view-in-github",
        "colab_type": "text"
      },
      "source": [
        "<a href=\"https://colab.research.google.com/github/lala991204/AI-based-financial-data-analysis/blob/master/Greedy/%ED%81%B0_%EC%88%98%EC%9D%98_%EB%B2%95%EC%B9%99.ipynb\" target=\"_parent\"><img src=\"https://colab.research.google.com/assets/colab-badge.svg\" alt=\"Open In Colab\"/></a>"
      ]
    },
    {
      "cell_type": "markdown",
      "source": [
        "# 문제"
      ],
      "metadata": {
        "id": "dhP0Ml1U0mcD"
      }
    },
    {
      "cell_type": "code",
      "execution_count": null,
      "metadata": {
        "id": "l3R79HU60b2q"
      },
      "outputs": [],
      "source": [
        "# 문제: 다양한 수들로 이루어진 배열이 있을 때 주어진 수들을 \"M번\" 더하여 가장 큰 수를 만드는 법칙이다.\n",
        "# 단, 배열의 특정한 인덱스(번호)에 해당하는 수가 연속해서 \"K번\"을 초과하여 더해질 수 없다.\n",
        "# 배열의 크기 N, 숫자가 더해지는 횟수 M, 그리고 K가 주어질 때 큰 수의 법칙에 따른 결과를 출력하시오."
      ]
    },
    {
      "cell_type": "markdown",
      "source": [
        "# 작성 코드"
      ],
      "metadata": {
        "id": "qgdghfZj20kA"
      }
    },
    {
      "cell_type": "code",
      "source": [
        "import time\n",
        "\n",
        "N,M,K = input().split()\n",
        "li1 = input()\n",
        "li = []\n",
        "for i in range(int(N)):\n",
        "    li.append(int(li1.split()[i]))\n",
        "\n",
        "start = time.time()     # 입력 다음부터 시간 카운트 아마?\n",
        "li.sort(reverse=True)\n",
        "\n",
        "s = 0\n",
        "count = int(M)\n",
        "while count > 0:       # 이 조건이 참인 동안에 다음 반복문이 수행됨.\n",
        "    if count > int(K):      # 더하는 횟수 > 제한 횟수\n",
        "        for j in range(int(K)):\n",
        "            s+=li[0]\n",
        "            count-=1\n",
        "        s+=li[1]\n",
        "        count-=1\n",
        "    else:\n",
        "        for j in range(count):\n",
        "            s+=li[0]\n",
        "            count-=1 \n",
        "print(s)\n",
        "\n",
        "end = time.time()\n",
        "print(end-start)"
      ],
      "metadata": {
        "id": "Xnf97yaO21_y",
        "colab": {
          "base_uri": "https://localhost:8080/"
        },
        "outputId": "644ecff4-3839-4720-909b-d89a4126dd73"
      },
      "execution_count": 28,
      "outputs": [
        {
          "output_type": "stream",
          "name": "stdout",
          "text": [
            "5 8 3\n",
            "2 4 5 4 6\n",
            "46\n",
            "0.0013089179992675781\n"
          ]
        }
      ]
    },
    {
      "cell_type": "markdown",
      "source": [
        "# 모범 답안"
      ],
      "metadata": {
        "id": "H1qFOB6322rw"
      }
    },
    {
      "cell_type": "code",
      "source": [
        "# N,M,K 공백으로 구분하여 입력받기\n",
        "n,m,k = map(int, input().split())\n",
        "# N개의 수를 공백으로 구분하여 입력받기\n",
        "data = list(map(int, input().split()))\n",
        "\n",
        "start = time.time()\n",
        "data.sort()      # 입력받은 수 정렬\n",
        "first = data[n-1]     # 가장 큰 수\n",
        "second = data[n-2]    # 두 번째로 가장 큰 수\n",
        "\n",
        "# 가장 큰 수가 더해지는 횟수 계산  \n",
        "count = int(m/(k+1)) * k\n",
        "count += m % (k+1)\n",
        "\n",
        "result = 0\n",
        "result += (count) * first        # 가장 큰 수 더하기\n",
        "result += (m - count) * second    # 두 번째로 큰 수 더하기\n",
        "print(result)\n",
        "\n",
        "end = time.time()\n",
        "print(end-start)\n",
        "\n",
        "# Tip1: 시간 초과받지 않게 작성하는 것이 중요\n",
        "# Tip2: 가장 큰 수와 두 번째로 큰 수가 더해질 때는 특정한 수열 형태로 일정하게 반복해서 더해짐\n",
        "# ex: 6 6 6 5 => 여기서는 다음의 수열이 반복됨 즉, (K+1) 길이의 수열. \n",
        "# Tip3: 수열이 반복되는 횟수 * 숫자 반복 횟수 K + 나머지 부분 더해지는 횟수= 가장 큰 수가 더해지는 횟수"
      ],
      "metadata": {
        "id": "iIDLm5g824jl",
        "colab": {
          "base_uri": "https://localhost:8080/"
        },
        "outputId": "21a02b62-e3b9-434f-fc3b-fc2b3d8ee7b1"
      },
      "execution_count": 29,
      "outputs": [
        {
          "output_type": "stream",
          "name": "stdout",
          "text": [
            "5 8 3\n",
            "2 4 5 4 6\n",
            "46\n",
            "0.0006103515625\n"
          ]
        }
      ]
    }
  ]
}