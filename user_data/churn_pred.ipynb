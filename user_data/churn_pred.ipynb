{
 "cells": [
  {
   "cell_type": "code",
   "execution_count": 2,
   "id": "851b035c",
   "metadata": {},
   "outputs": [
    {
     "name": "stderr",
     "output_type": "stream",
     "text": [
      "C:\\Users\\wjd72\\anaconda3\\lib\\site-packages\\scipy\\__init__.py:146: UserWarning: A NumPy version >=1.16.5 and <1.23.0 is required for this version of SciPy (detected version 1.23.4\n",
      "  warnings.warn(f\"A NumPy version >={np_minversion} and <{np_maxversion}\"\n"
     ]
    }
   ],
   "source": [
    "import numpy as np\n",
    "import pandas as pd\n",
    "import matplotlib.pyplot as plt\n",
    "import seaborn as sns\n",
    "sns.set_style('darkgrid')"
   ]
  },
  {
   "cell_type": "code",
   "execution_count": 3,
   "id": "84727a39",
   "metadata": {
    "scrolled": false
   },
   "outputs": [],
   "source": [
    "df1 = pd.read_csv('submission/MLRD_UserData_20220120.csv', encoding='cp949')\n",
    "df = df1.sort_values(by='signup_time', ascending=False)"
   ]
  },
  {
   "cell_type": "code",
   "execution_count": 4,
   "id": "b74fd19c",
   "metadata": {},
   "outputs": [],
   "source": [
    "df2 = df[~df['no_of_days_since_last_trade'].isnull()]\n",
    "df3 = df2.reset_index()\n",
    "df4 = df3.drop('index', axis=1)"
   ]
  },
  {
   "cell_type": "code",
   "execution_count": 125,
   "id": "b93b3df5",
   "metadata": {},
   "outputs": [
    {
     "data": {
      "text/plain": [
       "count    85859.000000\n",
       "mean        53.971872\n",
       "std         53.007347\n",
       "min          0.000000\n",
       "25%         10.000000\n",
       "50%         41.000000\n",
       "75%         78.000000\n",
       "max        230.000000\n",
       "Name: no_of_days_since_last_trade, dtype: float64"
      ]
     },
     "execution_count": 125,
     "metadata": {},
     "output_type": "execute_result"
    }
   ],
   "source": [
    "df4['no_of_days_since_last_trade'].describe()"
   ]
  },
  {
   "cell_type": "code",
   "execution_count": 126,
   "id": "76888978",
   "metadata": {},
   "outputs": [
    {
     "data": {
      "text/plain": [
       "0        127.0\n",
       "1         11.0\n",
       "2         22.0\n",
       "3          7.0\n",
       "4         48.0\n",
       "         ...  \n",
       "85854      2.0\n",
       "85855     10.0\n",
       "85856     16.0\n",
       "85857      1.0\n",
       "85858      0.0\n",
       "Name: no_of_days_since_last_trade, Length: 85859, dtype: float64"
      ]
     },
     "execution_count": 126,
     "metadata": {},
     "output_type": "execute_result"
    }
   ],
   "source": [
    "df4['no_of_days_since_last_trade']"
   ]
  },
  {
   "cell_type": "code",
   "execution_count": 6,
   "id": "5e64af47",
   "metadata": {},
   "outputs": [
    {
     "name": "stderr",
     "output_type": "stream",
     "text": [
      "C:\\Users\\wjd72\\AppData\\Local\\Temp/ipykernel_10476/2819976482.py:6: SettingWithCopyWarning: \n",
      "A value is trying to be set on a copy of a slice from a DataFrame\n",
      "\n",
      "See the caveats in the documentation: https://pandas.pydata.org/pandas-docs/stable/user_guide/indexing.html#returning-a-view-versus-a-copy\n",
      "  df4['churn'][j] = 0.0\n",
      "C:\\Users\\wjd72\\AppData\\Local\\Temp/ipykernel_10476/2819976482.py:4: SettingWithCopyWarning: \n",
      "A value is trying to be set on a copy of a slice from a DataFrame\n",
      "\n",
      "See the caveats in the documentation: https://pandas.pydata.org/pandas-docs/stable/user_guide/indexing.html#returning-a-view-versus-a-copy\n",
      "  df4['churn'][j] = 1.0     # 이탈\n"
     ]
    }
   ],
   "source": [
    "df4['churn'] = 0\n",
    "for j in range(len(df4)):\n",
    "    if df4['no_of_days_since_last_trade'][j] < 53.0:      # mean 미만\n",
    "        df4['churn'][j] = 1.0     # 이탈\n",
    "    else:\n",
    "        df4['churn'][j] = 0.0"
   ]
  },
  {
   "cell_type": "code",
   "execution_count": 7,
   "id": "bdc3bfc0",
   "metadata": {},
   "outputs": [
    {
     "name": "stdout",
     "output_type": "stream",
     "text": [
      "<class 'pandas.core.frame.DataFrame'>\n",
      "RangeIndex: 85859 entries, 0 to 85858\n",
      "Data columns (total 74 columns):\n",
      " #   Column                                            Non-Null Count  Dtype  \n",
      "---  ------                                            --------------  -----  \n",
      " 0   user_id                                           85859 non-null  int64  \n",
      " 1   signup_time                                       85859 non-null  object \n",
      " 2   no_of_days_since_signed_up                        85859 non-null  int64  \n",
      " 3   signup_device_type                                85859 non-null  object \n",
      " 4   signup_country_en                                 85859 non-null  object \n",
      " 5   final_country_en                                  85859 non-null  object \n",
      " 6   signup_broker_name                                85859 non-null  object \n",
      " 7   signup_channel_id                                 85859 non-null  object \n",
      " 8   signup_channel_type                               85859 non-null  object \n",
      " 9   user_identity                                     85859 non-null  object \n",
      " 10  user_invite_type                                  85859 non-null  object \n",
      " 11  final_channel_type_en                             85859 non-null  object \n",
      " 12  partner_user_id                                   25667 non-null  float64\n",
      " 13  max_kyc_level                                     85859 non-null  int64  \n",
      " 14  kyc_country_name_en                               85859 non-null  object \n",
      " 15  kyc1_update_time                                  41237 non-null  object \n",
      " 16  kyc2_update_time                                  18792 non-null  object \n",
      " 17  kyc3_update_time                                  2855 non-null   object \n",
      " 18  fee_level                                         85859 non-null  int64  \n",
      " 19  is_community_user                                 85859 non-null  object \n",
      " 20  is_email                                          85859 non-null  object \n",
      " 21  is_phone                                          85859 non-null  object \n",
      " 22  is_funds_password                                 85859 non-null  object \n",
      " 23  is_authenticator                                  85859 non-null  object \n",
      " 24  is_antiphising_code                               85859 non-null  object \n",
      " 25  is_2fa                                            85859 non-null  object \n",
      " 26  is_apply_apikey                                   85859 non-null  object \n",
      " 27  is_freebitcoin                                    85859 non-null  object \n",
      " 28  app_mode_okex                                     85859 non-null  object \n",
      " 29  first_deposit_method                              85859 non-null  object \n",
      " 30  first_deposit_time                                85303 non-null  object \n",
      " 31  first_deposit_amount_in_usdt                      85859 non-null  float64\n",
      " 32  first_deposit_cuurrency                           85859 non-null  object \n",
      " 33  first_trade_method                                85859 non-null  object \n",
      " 34  first_trade_time                                  85859 non-null  object \n",
      " 35  first_trade_currency                              85859 non-null  object \n",
      " 36  first_trade_usdt                                  85859 non-null  float64\n",
      " 37  spot_equity_account                               85859 non-null  int64  \n",
      " 38  margin_equity_account                             85859 non-null  int64  \n",
      " 39  future_equity_account                             85859 non-null  int64  \n",
      " 40  pp_equity_account                                 85859 non-null  int64  \n",
      " 41  op_equity_account                                 85859 non-null  int64  \n",
      " 42  openc2c_equity_account                            85859 non-null  int64  \n",
      " 43  asset_equity_account                              85859 non-null  int64  \n",
      " 44  financial_equity_account                          85859 non-null  int64  \n",
      " 45  orepool_equity_account                            85859 non-null  int64  \n",
      " 46  loans_equity_account                              85859 non-null  int64  \n",
      " 47  boss_defi_balance                                 85859 non-null  int64  \n",
      " 48  jumpstart_balance                                 85859 non-null  int64  \n",
      " 49  pm_equity_account                                 85859 non-null  int64  \n",
      " 50  total_equity_account                              85859 non-null  int64  \n",
      " 51  trade_usdt_daily                                  85859 non-null  int64  \n",
      " 52  first_day_trade_amount_usdt                       85859 non-null  float64\n",
      " 53  accumulative_trading_amount_in_usdt               85859 non-null  float64\n",
      " 54  total_deposit_amount_in_usdt                      85856 non-null  float64\n",
      " 55  total_withdraw_amount_in_usdt                     85856 non-null  float64\n",
      " 56  total_no_of_deposit_times                         85856 non-null  float64\n",
      " 57  total_no_of_withdraw_times                        85856 non-null  float64\n",
      " 58  accumulative_user_revenue_since_20210101          85739 non-null  float64\n",
      " 59  total_no_of_trade_times                           85859 non-null  float64\n",
      " 60  last_trade_time                                   85859 non-null  object \n",
      " 61  no_of_days_since_last_trade                       85859 non-null  float64\n",
      " 62  last_trade_amount_in_usdt                         85859 non-null  float64\n",
      " 63  no_of_trade_days                                  85859 non-null  float64\n",
      " 64  max_daily_total_balance_since_sign_up             85704 non-null  float64\n",
      " 65  spot_fee_total_usdt_since_signup                  85859 non-null  float64\n",
      " 66  margin_fee_total_usdt_since_signup                85859 non-null  float64\n",
      " 67  future_fee_total_usdt_since_signup                85859 non-null  float64\n",
      " 68  pp_fee_total_usdt_since_signup                    85859 non-null  float64\n",
      " 69  op_fee_total_usdt_since_signup                    85859 non-null  float64\n",
      " 70  fee_total_usdt_since_signup                       85859 non-null  float64\n",
      " 71  top_coin_holding_in_last_30_days                  84345 non-null  object \n",
      " 72  top_coin_holding_balance_in_last_30_days_in_usdt  84345 non-null  float64\n",
      " 73  churn                                             85859 non-null  int64  \n",
      "dtypes: float64(22), int64(20), object(32)\n",
      "memory usage: 48.5+ MB\n"
     ]
    }
   ],
   "source": [
    "df4.info()"
   ]
  },
  {
   "cell_type": "code",
   "execution_count": 8,
   "id": "a663b0c7",
   "metadata": {},
   "outputs": [],
   "source": [
    "# df5 = df4[[\n",
    "#  'is_email',           \n",
    "#  'is_phone',           \n",
    "#  'is_funds_password',  \n",
    "#  'is_authenticator',   \n",
    "#  'is_antiphising_code',\n",
    "#  'is_2fa',             \n",
    "#   'churn']]      \n",
    "\n",
    "# df6 = df5.dropna(axis=1)\n",
    "# df6.info()"
   ]
  },
  {
   "cell_type": "code",
   "execution_count": 9,
   "id": "af700e8d",
   "metadata": {},
   "outputs": [],
   "source": [
    "df5 = df4[[\n",
    "    'signup_device_type',         \n",
    " 'signup_country_en',          \n",
    "#  'final_country_en',           \n",
    "#  'signup_broker_name',         \n",
    " 'signup_channel_id',          \n",
    " 'signup_channel_type',             \n",
    "#  'user_invite_type',           \n",
    "#  'final_channel_type_en',\n",
    "#   'max_kyc_level',     \n",
    "#  'kyc_country_name_en',\n",
    " 'fee_level',          \n",
    "#  'is_community_user',  \n",
    "#  'is_email',           \n",
    "#  'is_phone',           \n",
    "#  'is_funds_password',  \n",
    "#  'is_authenticator',   \n",
    "#  'is_antiphising_code',\n",
    "#  'is_2fa',             \n",
    "#  'is_apply_apikey',    \n",
    "#  'is_freebitcoin',\n",
    "  'churn']]      \n",
    "\n",
    "df6 = df5.dropna(axis=1)"
   ]
  },
  {
   "cell_type": "code",
   "execution_count": 10,
   "id": "678570d1",
   "metadata": {},
   "outputs": [],
   "source": [
    "# df6 = df6.replace('yes', 1)\n",
    "# df6 = df6.replace('no', 0)\n",
    "# df6 = df6.replace('No', 0)\n",
    "# df6 = df6.replace('Connected', 1)\n",
    "# df7 = df6.replace('Not_yet_Connected', 0)\n",
    "# df7.info()"
   ]
  },
  {
   "cell_type": "code",
   "execution_count": 11,
   "id": "aa131102",
   "metadata": {},
   "outputs": [],
   "source": [
    "# Features and Labels \n",
    "X = df6.iloc[:, 0:5].values\n",
    "y = df6.iloc[:, 5].values # Churn\n",
    "  \n",
    "# Encoding categorical data in X\n",
    "from sklearn.preprocessing import LabelEncoder\n",
    "  \n",
    "labelencoder_X_1 = LabelEncoder()\n",
    "X[:, 0] = labelencoder_X_1.fit_transform(X[:, 0])\n",
    "  \n",
    "labelencoder_X_2 = LabelEncoder()\n",
    "X[:, 1] = labelencoder_X_2.fit_transform(X[:, 1])\n",
    "\n",
    "labelencoder_X_3 = LabelEncoder()\n",
    "X[:, 2] = labelencoder_X_3.fit_transform(X[:, 2])\n",
    "\n",
    "labelencoder_X_4 = LabelEncoder()\n",
    "X[:, 3] = labelencoder_X_4.fit_transform(X[:, 3])\n",
    "\n",
    "# Encoding categorical data in y\n",
    "labelencoder_y = LabelEncoder()\n",
    "y = labelencoder_y.fit_transform(y)"
   ]
  },
  {
   "cell_type": "code",
   "execution_count": 12,
   "id": "ef1b7d49",
   "metadata": {},
   "outputs": [],
   "source": [
    "# Removing extra column to avoid dummy variable trap\n",
    "X_State = pd.get_dummies(X[:, 0], drop_first = True)\n",
    "X_State1 = pd.get_dummies(X[:, 1], drop_first = True)\n",
    "X_State2 = pd.get_dummies(X[:, 2], drop_first = True)\n",
    "X_State3 = pd.get_dummies(X[:, 3], drop_first = True)\n",
    "# Converting X to a dataframe\n",
    "X = pd.DataFrame(X)\n",
    "  \n",
    "# Dropping the 'State' column\n",
    "X = X.drop([0], axis = 1)\n",
    "X = X.drop([1], axis = 1)\n",
    "X = X.drop([2], axis = 1)\n",
    "X = X.drop([3], axis = 1)\n",
    "\n",
    "# Merging two dataframes\n",
    "frames = [X_State,X_State1,X_State2,X_State3,X]\n",
    "result = pd.concat(frames, axis = 1, ignore_index = True)\n",
    "  \n",
    "# Final dataset with all numeric features\n",
    "X = result"
   ]
  },
  {
   "cell_type": "code",
   "execution_count": 133,
   "id": "aba5cdba",
   "metadata": {},
   "outputs": [],
   "source": [
    "# Splitting the dataset into the Training and Test sets\n",
    "from sklearn.model_selection import train_test_split\n",
    "X_train, X_test, y_train, y_test = train_test_split(X, y, \n",
    "                                                    test_size = 0.2, \n",
    "                                                    random_state = 0)"
   ]
  },
  {
   "cell_type": "code",
   "execution_count": 134,
   "id": "6b60e75e",
   "metadata": {},
   "outputs": [],
   "source": [
    "# Feature Scaling\n",
    "from sklearn.preprocessing import StandardScaler\n",
    "sc = StandardScaler()\n",
    "X_train = sc.fit_transform(X_train)\n",
    "X_test = sc.transform(X_test)"
   ]
  },
  {
   "cell_type": "code",
   "execution_count": 135,
   "id": "45565039",
   "metadata": {},
   "outputs": [
    {
     "data": {
      "text/plain": [
       "RandomForestClassifier()"
      ]
     },
     "execution_count": 135,
     "metadata": {},
     "output_type": "execute_result"
    }
   ],
   "source": [
    "# Import RandomForestClassifier\n",
    "from sklearn.ensemble import RandomForestClassifier\n",
    "  \n",
    "# Instantiate the classifier\n",
    "clf = RandomForestClassifier()\n",
    "  \n",
    "# Fit to the training data\n",
    "clf.fit(X_train, y_train)"
   ]
  },
  {
   "cell_type": "code",
   "execution_count": 136,
   "id": "dde6714b",
   "metadata": {},
   "outputs": [
    {
     "data": {
      "text/plain": [
       "array([1, 1, 1, ..., 1, 1, 0], dtype=int64)"
      ]
     },
     "execution_count": 136,
     "metadata": {},
     "output_type": "execute_result"
    }
   ],
   "source": [
    "# Predict the labels for the test set\n",
    "y_pred = clf.predict(X_test)\n",
    "y_pred"
   ]
  },
  {
   "cell_type": "code",
   "execution_count": 137,
   "id": "5308b2b1",
   "metadata": {},
   "outputs": [
    {
     "data": {
      "text/plain": [
       "0.6224668064290706"
      ]
     },
     "execution_count": 137,
     "metadata": {},
     "output_type": "execute_result"
    }
   ],
   "source": [
    "# Compute accuracy\n",
    "from sklearn.metrics import accuracy_score\n",
    "  \n",
    "accuracy_score(y_test, y_pred)"
   ]
  },
  {
   "cell_type": "code",
   "execution_count": 138,
   "id": "f2d4c58f",
   "metadata": {},
   "outputs": [
    {
     "name": "stdout",
     "output_type": "stream",
     "text": [
      "[[1859 5252]\n",
      " [1231 8830]]\n"
     ]
    }
   ],
   "source": [
    "from sklearn.metrics import confusion_matrix\n",
    "print(confusion_matrix(y_test, y_pred))"
   ]
  },
  {
   "cell_type": "markdown",
   "id": "c90a0cf8",
   "metadata": {},
   "source": [
    "(월 시작 이탈고객수 - 월 말 이탈 고객수) / 월 시작 이탈 고객수 = (그 달의)이탈률\n",
    "LTV = ARPU(유저 당 평균 수익,가입자 1명이 특정 기간 동안 지출한 평균 금액=특정기간의 수익/특정기간의 유저 수) /churn\n",
    ": 고객과 회사의 관계를 통해 회사가 얻을 수 있는 수입의 가치이다. \n",
    "신규 고객을 확보하거나 기존 고객을 유지하고자 할때 얼마나 비용을 들이는게 적절한지 설명하는 개념"
   ]
  },
  {
   "cell_type": "code",
   "execution_count": null,
   "id": "103ae959",
   "metadata": {},
   "outputs": [],
   "source": [
    "# 달 마다 LTV계산해서 다음 달, 혹은 추후의 고객가치를 본다는 것\n",
    "# 예를들어 12월의 LTV계산하면 이전 달에 비해 높으면 12월 전체의 상황이 좋았다는 것이니 1월에 마케팅이 될수도있고\n",
    "# 아님 이를 예측을 직접하든지 등"
   ]
  }
 ],
 "metadata": {
  "kernelspec": {
   "display_name": "Python 3 (ipykernel)",
   "language": "python",
   "name": "python3"
  },
  "language_info": {
   "codemirror_mode": {
    "name": "ipython",
    "version": 3
   },
   "file_extension": ".py",
   "mimetype": "text/x-python",
   "name": "python",
   "nbconvert_exporter": "python",
   "pygments_lexer": "ipython3",
   "version": "3.9.7"
  }
 },
 "nbformat": 4,
 "nbformat_minor": 5
}
