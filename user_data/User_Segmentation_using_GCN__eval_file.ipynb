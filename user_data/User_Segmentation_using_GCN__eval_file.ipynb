{
 "cells": [
  {
   "cell_type": "code",
   "execution_count": 4,
   "metadata": {
    "id": "zKPxdTstUk3_",
    "scrolled": true
   },
   "outputs": [],
   "source": [
    "import pandas as pd\n",
    "from tqdm import tqdm\n",
    "import json\n",
    "import os\n",
    "import umap\n",
    "import numpy as np\n",
    "import scipy.sparse as sp\n",
    "from sklearn.model_selection import train_test_split\n",
    "from sklearn.preprocessing import LabelBinarizer\n",
    "from sklearn.metrics import f1_score, roc_auc_score, average_precision_score, confusion_matrix\n",
    "\n",
    "\n",
    "import stellargraph as sg\n",
    "from stellargraph.mapper import FullBatchNodeGenerator\n",
    "\n",
    "from stellargraph.layer import GCN\n",
    "\n",
    "import warnings\n",
    "import tensorflow as tf\n",
    "from tensorflow.keras import backend as K\n",
    "from tensorflow.keras import activations, initializers, constraints, regularizers\n",
    "from tensorflow.keras.layers import Input, Layer, Lambda, Dropout, Reshape, Dense\n",
    "from tensorflow.keras.callbacks import EarlyStopping\n",
    "\n",
    "from tensorflow.keras import layers, optimizers, losses, metrics, Model\n",
    "import matplotlib.pyplot as plt\n",
    "import seaborn as sns\n",
    "%matplotlib inline"
   ]
  },
  {
   "cell_type": "markdown",
   "metadata": {
    "id": "Knl8dzhvrgAk"
   },
   "source": [
    "# Data"
   ]
  },
  {
   "cell_type": "markdown",
   "metadata": {
    "id": "LyDpI22NVs3N"
   },
   "source": [
    "## Read in edges, features, and targets"
   ]
  },
  {
   "cell_type": "code",
   "execution_count": 1,
   "metadata": {},
   "outputs": [],
   "source": [
    "data_df= pd.read_csv('MLRD_UserData_20220120.csv', encoding='cp949')\n",
    "data_df"
   ]
  },
  {
   "cell_type": "code",
   "execution_count": 2,
   "metadata": {},
   "outputs": [],
   "source": [
    "data_sort = data_df.sort_values(by='signup_time')        \n",
    "data_sort1 = data_sort.reset_index()\n",
    "data_sort2 = data_sort1.drop('index', axis=1)\n",
    "data_sort2"
   ]
  },
  {
   "cell_type": "code",
   "execution_count": 3,
   "metadata": {},
   "outputs": [],
   "source": [
    "data_sort2['signup_country_en'].value_counts()"
   ]
  },
  {
   "cell_type": "code",
   "execution_count": 4,
   "metadata": {},
   "outputs": [],
   "source": [
    "data1 = data_sort2[['user_id', 'no_of_days_since_last_trade', 'total_no_of_trade_times', 'accumulative_trading_amount_in_usdt',\n",
    "                'signup_channel_type', 'signup_device_type', 'signup_country_en', 'max_kyc_level', 'first_deposit_method']]\n",
    "data1"
   ]
  },
  {
   "cell_type": "code",
   "execution_count": 5,
   "metadata": {},
   "outputs": [],
   "source": [
    "# 세 개의 컬럼에 대해 결측치 행 모두 제거\n",
    "data3 =data1.dropna(axis=0)\n",
    "data3.info()\n",
    "\n",
    "data4 = data3.reset_index()\n",
    "data5 = data4.drop('index', axis=1)\n",
    "data5"
   ]
  },
  {
   "cell_type": "code",
   "execution_count": 6,
   "metadata": {},
   "outputs": [],
   "source": [
    "rfm_df2 = pd.DataFrame()\n",
    "rfm_df2['CustomerID'] = data5['user_id']\n",
    "rfm_df2['Recency'] = data5['no_of_days_since_last_trade']            # 최근 거래 후 몇일 지났는지\n",
    "rfm_df2['Frequency'] = data5['total_no_of_trade_times']              # 거래 총 수\n",
    "rfm_df2['Monetary'] = data5['accumulative_trading_amount_in_usdt']   # 총 거래 금액(USDT)\n",
    "rfm_df2"
   ]
  },
  {
   "cell_type": "code",
   "execution_count": 7,
   "metadata": {},
   "outputs": [],
   "source": [
    "rfm_df1 = rfm_df2.reset_index()\n",
    "rfm_df = rfm_df1.drop('index', axis=1)\n",
    "rfm_df"
   ]
  },
  {
   "cell_type": "code",
   "execution_count": 12,
   "metadata": {},
   "outputs": [
    {
     "name": "stdout",
     "output_type": "stream",
     "text": [
      "실루엣 스코어는 : 0.366\n"
     ]
    }
   ],
   "source": [
    "### Log 변환을 통해 데이터 변환\n",
    "from sklearn.preprocessing import StandardScaler\n",
    "from sklearn.cluster import KMeans\n",
    "from sklearn.metrics import silhouette_score, silhouette_samples\n",
    "\n",
    "# Recency, Frequecny, Monetary 컬럼에 np.log1p() 로 Log Transformation\n",
    "rfm_df['Recency_log'] = np.log1p(rfm_df['Recency'])\n",
    "rfm_df['Frequency_log'] = np.log1p(rfm_df['Frequency'])\n",
    "rfm_df['Monetary_log'] = np.log1p(rfm_df['Monetary'])\n",
    "\n",
    "# Log Transformation 데이터에 StandardScaler 적용\n",
    "X_features = rfm_df[['Recency_log','Frequency_log','Monetary_log']].values\n",
    "X_features_scaled = StandardScaler().fit_transform(X_features)\n",
    "\n",
    "kmeans = KMeans(n_clusters=3, random_state=0)\n",
    "labels = kmeans.fit_predict(X_features_scaled)\n",
    "rfm_df['cluster_label'] = labels\n",
    "\n",
    "print('실루엣 스코어는 : {0:.3f}'.format(silhouette_score(X_features_scaled,labels)))     # cluster=3에서의 실루엣 점수(로그 변환 전보다는 스코어가 떨어짐)"
   ]
  },
  {
   "cell_type": "code",
   "execution_count": 8,
   "metadata": {},
   "outputs": [],
   "source": [
    "data5['cluster'] = rfm_df['cluster_label']\n",
    "data5"
   ]
  },
  {
   "cell_type": "code",
   "execution_count": 9,
   "metadata": {},
   "outputs": [],
   "source": [
    "data6 = data5[(data5['cluster']==0) | (data5['cluster']==2)]\n",
    "data6"
   ]
  },
  {
   "cell_type": "code",
   "execution_count": 10,
   "metadata": {},
   "outputs": [],
   "source": [
    "data6['cluster'] = data6['cluster'].replace(2,1)\n",
    "data7 = data6.reset_index()\n",
    "data8 = data7.drop('index', axis=1)\n",
    "data8"
   ]
  },
  {
   "cell_type": "code",
   "execution_count": 16,
   "metadata": {},
   "outputs": [
    {
     "data": {
      "text/plain": [
       "1    20460\n",
       "0    17525\n",
       "Name: cluster, dtype: int64"
      ]
     },
     "execution_count": 16,
     "metadata": {},
     "output_type": "execute_result"
    }
   ],
   "source": [
    "data8['cluster'].value_counts()"
   ]
  },
  {
   "cell_type": "code",
   "execution_count": 17,
   "metadata": {},
   "outputs": [],
   "source": [
    "# 최종 경로 유형에 따라 엣지 df만들기\n",
    "arr_app = np.array(data8[data8['signup_channel_type']=='App paid apk'].index)\n",
    "arr_org = np.array(data8[data8['signup_channel_type']=='Organic traffic'].index)\n",
    "arr_ref = np.array(data8[data8['signup_channel_type']=='Referral'].index)\n",
    "arr_seo = np.array(data8[data8['signup_channel_type']=='SEO'].index)\n",
    "arr_aff = np.array(data8[data8['signup_channel_type']=='Affiliate'].index)\n",
    "arr_cam = np.array(data8[data8['signup_channel_type']=='Campaign promotion'].index)\n",
    "arr_oth = np.array(data8[data8['signup_channel_type']=='Others'].index)"
   ]
  },
  {
   "cell_type": "code",
   "execution_count": 18,
   "metadata": {},
   "outputs": [
    {
     "name": "stderr",
     "output_type": "stream",
     "text": [
      "100%|███████████████████████████████████████████████████████████████████████████████████| 1/1 [00:00<00:00, 342.39it/s]\n"
     ]
    }
   ],
   "source": [
    "from tqdm import tqdm \n",
    "\n",
    "edges_df = pd.DataFrame()\n",
    "start=[]\n",
    "end=[]\n",
    "# arrs=[arr_app, arr_org, arr_ref, arr_seo, arr_aff, arr_cam, arr_oth]\n",
    "arrs = [arr_cam]\n",
    "\n",
    "for arr in tqdm(arrs):\n",
    "    for i in range(len(arr)-1):\n",
    "        for j in range(i+1, len(arr)):\n",
    "            start.append(arr[i])\n",
    "            end.append(arr[j])\n",
    "\n",
    "edges_df['source'] = start\n",
    "edges_df['target'] = end        "
   ]
  },
  {
   "cell_type": "code",
   "execution_count": 81,
   "metadata": {},
   "outputs": [
    {
     "name": "stdout",
     "output_type": "stream",
     "text": [
      "116\n"
     ]
    },
    {
     "data": {
      "text/plain": [
       "116"
      ]
     },
     "execution_count": 81,
     "metadata": {},
     "output_type": "execute_result"
    }
   ],
   "source": [
    "print(len(set(start)))\n",
    "len(set(end))"
   ]
  },
  {
   "cell_type": "code",
   "execution_count": 19,
   "metadata": {},
   "outputs": [
    {
     "data": {
      "text/html": [
       "<div>\n",
       "<style scoped>\n",
       "    .dataframe tbody tr th:only-of-type {\n",
       "        vertical-align: middle;\n",
       "    }\n",
       "\n",
       "    .dataframe tbody tr th {\n",
       "        vertical-align: top;\n",
       "    }\n",
       "\n",
       "    .dataframe thead th {\n",
       "        text-align: right;\n",
       "    }\n",
       "</style>\n",
       "<table border=\"1\" class=\"dataframe\">\n",
       "  <thead>\n",
       "    <tr style=\"text-align: right;\">\n",
       "      <th></th>\n",
       "      <th>source</th>\n",
       "      <th>target</th>\n",
       "    </tr>\n",
       "  </thead>\n",
       "  <tbody>\n",
       "    <tr>\n",
       "      <th>0</th>\n",
       "      <td>32</td>\n",
       "      <td>407</td>\n",
       "    </tr>\n",
       "    <tr>\n",
       "      <th>1</th>\n",
       "      <td>32</td>\n",
       "      <td>512</td>\n",
       "    </tr>\n",
       "    <tr>\n",
       "      <th>2</th>\n",
       "      <td>32</td>\n",
       "      <td>722</td>\n",
       "    </tr>\n",
       "    <tr>\n",
       "      <th>3</th>\n",
       "      <td>32</td>\n",
       "      <td>731</td>\n",
       "    </tr>\n",
       "    <tr>\n",
       "      <th>4</th>\n",
       "      <td>32</td>\n",
       "      <td>736</td>\n",
       "    </tr>\n",
       "    <tr>\n",
       "      <th>...</th>\n",
       "      <td>...</td>\n",
       "      <td>...</td>\n",
       "    </tr>\n",
       "    <tr>\n",
       "      <th>6781</th>\n",
       "      <td>34530</td>\n",
       "      <td>36065</td>\n",
       "    </tr>\n",
       "    <tr>\n",
       "      <th>6782</th>\n",
       "      <td>34530</td>\n",
       "      <td>36366</td>\n",
       "    </tr>\n",
       "    <tr>\n",
       "      <th>6783</th>\n",
       "      <td>35079</td>\n",
       "      <td>36065</td>\n",
       "    </tr>\n",
       "    <tr>\n",
       "      <th>6784</th>\n",
       "      <td>35079</td>\n",
       "      <td>36366</td>\n",
       "    </tr>\n",
       "    <tr>\n",
       "      <th>6785</th>\n",
       "      <td>36065</td>\n",
       "      <td>36366</td>\n",
       "    </tr>\n",
       "  </tbody>\n",
       "</table>\n",
       "<p>6786 rows × 2 columns</p>\n",
       "</div>"
      ],
      "text/plain": [
       "      source  target\n",
       "0         32     407\n",
       "1         32     512\n",
       "2         32     722\n",
       "3         32     731\n",
       "4         32     736\n",
       "...      ...     ...\n",
       "6781   34530   36065\n",
       "6782   34530   36366\n",
       "6783   35079   36065\n",
       "6784   35079   36366\n",
       "6785   36065   36366\n",
       "\n",
       "[6786 rows x 2 columns]"
      ]
     },
     "execution_count": 19,
     "metadata": {},
     "output_type": "execute_result"
    }
   ],
   "source": [
    "edges_df"
   ]
  },
  {
   "cell_type": "code",
   "execution_count": 20,
   "metadata": {},
   "outputs": [
    {
     "name": "stderr",
     "output_type": "stream",
     "text": [
      "100%|███████████████████████████████████████████████████████████████████████████████████| 4/4 [00:00<00:00, 124.97it/s]"
     ]
    },
    {
     "name": "stdout",
     "output_type": "stream",
     "text": [
      "       0    1    2    3    4    5    6    7    8    9    ...  94   95   96   \\\n",
      "0        0    0    1    0    0    0    0    0    0    0  ...    0    1    0   \n",
      "1        1    0    0    0    0    0    0    0    0    0  ...    0    0    1   \n",
      "2        1    0    0    0    0    0    0    0    0    0  ...    0    1    0   \n",
      "3        0    0    1    0    0    0    0    0    0    0  ...    0    0    0   \n",
      "4        0    1    0    0    0    0    0    0    0    0  ...    0    1    0   \n",
      "...    ...  ...  ...  ...  ...  ...  ...  ...  ...  ...  ...  ...  ...  ...   \n",
      "37980    1    0    0    0    0    0    0    0    0    0  ...    0    0    0   \n",
      "37981    1    0    0    0    0    0    0    0    0    0  ...    0    1    0   \n",
      "37982    0    0    1    0    0    0    0    0    0    0  ...    0    1    0   \n",
      "37983    0    0    1    0    0    0    0    0    0    0  ...    0    0    1   \n",
      "37984    0    0    1    0    0    0    0    0    1    0  ...    0    0    0   \n",
      "\n",
      "       97   98   99   100  101  102  103  \n",
      "0        0    0    1    0    0    0    0  \n",
      "1        0    0    1    0    0    0    0  \n",
      "2        0    0    1    0    0    0    0  \n",
      "3        1    0    1    0    0    0    0  \n",
      "4        0    0    1    0    0    0    0  \n",
      "...    ...  ...  ...  ...  ...  ...  ...  \n",
      "37980    0    1    1    0    0    0    0  \n",
      "37981    0    0    1    0    0    0    0  \n",
      "37982    0    0    1    0    0    0    0  \n",
      "37983    0    0    1    0    0    0    0  \n",
      "37984    1    0    1    0    0    0    0  \n",
      "\n",
      "[37985 rows x 104 columns]\n"
     ]
    },
    {
     "name": "stderr",
     "output_type": "stream",
     "text": [
      "\n"
     ]
    }
   ],
   "source": [
    "features_df = pd.DataFrame()\n",
    "\n",
    "f1 = pd.get_dummies(data8['signup_device_type'])\n",
    "f2 = pd.get_dummies(data8['signup_country_en'])\n",
    "f3 = pd.get_dummies(data8['max_kyc_level'])\n",
    "f4 = pd.get_dummies(data8['first_deposit_method'])\n",
    "\n",
    "\n",
    "i=0\n",
    "fs=[f1,f2,f3,f4]\n",
    "for f in tqdm(fs):\n",
    "    for col in f.columns:\n",
    "        features_df[i] = f[col]\n",
    "        i+=1\n",
    "    \n",
    "print(features_df)"
   ]
  },
  {
   "cell_type": "markdown",
   "metadata": {},
   "source": [
    "# RFM TARGET"
   ]
  },
  {
   "cell_type": "code",
   "execution_count": 21,
   "metadata": {},
   "outputs": [
    {
     "data": {
      "text/html": [
       "<div>\n",
       "<style scoped>\n",
       "    .dataframe tbody tr th:only-of-type {\n",
       "        vertical-align: middle;\n",
       "    }\n",
       "\n",
       "    .dataframe tbody tr th {\n",
       "        vertical-align: top;\n",
       "    }\n",
       "\n",
       "    .dataframe thead th {\n",
       "        text-align: right;\n",
       "    }\n",
       "</style>\n",
       "<table border=\"1\" class=\"dataframe\">\n",
       "  <thead>\n",
       "    <tr style=\"text-align: right;\">\n",
       "      <th></th>\n",
       "      <th>id</th>\n",
       "      <th>target</th>\n",
       "    </tr>\n",
       "  </thead>\n",
       "  <tbody>\n",
       "    <tr>\n",
       "      <th>0</th>\n",
       "      <td>602567404</td>\n",
       "      <td>0</td>\n",
       "    </tr>\n",
       "    <tr>\n",
       "      <th>1</th>\n",
       "      <td>602656046</td>\n",
       "      <td>0</td>\n",
       "    </tr>\n",
       "    <tr>\n",
       "      <th>2</th>\n",
       "      <td>602572035</td>\n",
       "      <td>1</td>\n",
       "    </tr>\n",
       "    <tr>\n",
       "      <th>3</th>\n",
       "      <td>602707370</td>\n",
       "      <td>0</td>\n",
       "    </tr>\n",
       "    <tr>\n",
       "      <th>4</th>\n",
       "      <td>602674754</td>\n",
       "      <td>0</td>\n",
       "    </tr>\n",
       "    <tr>\n",
       "      <th>...</th>\n",
       "      <td>...</td>\n",
       "      <td>...</td>\n",
       "    </tr>\n",
       "    <tr>\n",
       "      <th>37980</th>\n",
       "      <td>602737479</td>\n",
       "      <td>0</td>\n",
       "    </tr>\n",
       "    <tr>\n",
       "      <th>37981</th>\n",
       "      <td>602828191</td>\n",
       "      <td>1</td>\n",
       "    </tr>\n",
       "    <tr>\n",
       "      <th>37982</th>\n",
       "      <td>602823532</td>\n",
       "      <td>0</td>\n",
       "    </tr>\n",
       "    <tr>\n",
       "      <th>37983</th>\n",
       "      <td>602639489</td>\n",
       "      <td>1</td>\n",
       "    </tr>\n",
       "    <tr>\n",
       "      <th>37984</th>\n",
       "      <td>602742078</td>\n",
       "      <td>0</td>\n",
       "    </tr>\n",
       "  </tbody>\n",
       "</table>\n",
       "<p>37985 rows × 2 columns</p>\n",
       "</div>"
      ],
      "text/plain": [
       "              id  target\n",
       "0      602567404       0\n",
       "1      602656046       0\n",
       "2      602572035       1\n",
       "3      602707370       0\n",
       "4      602674754       0\n",
       "...          ...     ...\n",
       "37980  602737479       0\n",
       "37981  602828191       1\n",
       "37982  602823532       0\n",
       "37983  602639489       1\n",
       "37984  602742078       0\n",
       "\n",
       "[37985 rows x 2 columns]"
      ]
     },
     "execution_count": 21,
     "metadata": {},
     "output_type": "execute_result"
    }
   ],
   "source": [
    "targets_df1 = pd.DataFrame()\n",
    "targets_df1['id'] = data8['user_id']\n",
    "targets_df1['target'] = data8['cluster']\n",
    "targets_df2 = targets_df1.reset_index()\n",
    "targets_df = targets_df2.drop('index', axis=1)\n",
    "targets_df"
   ]
  },
  {
   "cell_type": "code",
   "execution_count": 22,
   "metadata": {},
   "outputs": [
    {
     "data": {
      "text/plain": [
       "1    20460\n",
       "0    17525\n",
       "Name: target, dtype: int64"
      ]
     },
     "execution_count": 22,
     "metadata": {},
     "output_type": "execute_result"
    }
   ],
   "source": [
    "targets_df['target'].value_counts()"
   ]
  },
  {
   "cell_type": "code",
   "execution_count": 23,
   "metadata": {},
   "outputs": [
    {
     "data": {
      "text/html": [
       "<div>\n",
       "<style scoped>\n",
       "    .dataframe tbody tr th:only-of-type {\n",
       "        vertical-align: middle;\n",
       "    }\n",
       "\n",
       "    .dataframe tbody tr th {\n",
       "        vertical-align: top;\n",
       "    }\n",
       "\n",
       "    .dataframe thead th {\n",
       "        text-align: right;\n",
       "    }\n",
       "</style>\n",
       "<table border=\"1\" class=\"dataframe\">\n",
       "  <thead>\n",
       "    <tr style=\"text-align: right;\">\n",
       "      <th></th>\n",
       "      <th>0</th>\n",
       "      <th>1</th>\n",
       "      <th>2</th>\n",
       "      <th>3</th>\n",
       "      <th>4</th>\n",
       "      <th>5</th>\n",
       "      <th>6</th>\n",
       "      <th>7</th>\n",
       "      <th>8</th>\n",
       "      <th>9</th>\n",
       "      <th>...</th>\n",
       "      <th>94</th>\n",
       "      <th>95</th>\n",
       "      <th>96</th>\n",
       "      <th>97</th>\n",
       "      <th>98</th>\n",
       "      <th>99</th>\n",
       "      <th>100</th>\n",
       "      <th>101</th>\n",
       "      <th>102</th>\n",
       "      <th>103</th>\n",
       "    </tr>\n",
       "  </thead>\n",
       "  <tbody>\n",
       "    <tr>\n",
       "      <th>0</th>\n",
       "      <td>0</td>\n",
       "      <td>0</td>\n",
       "      <td>1</td>\n",
       "      <td>0</td>\n",
       "      <td>0</td>\n",
       "      <td>0</td>\n",
       "      <td>0</td>\n",
       "      <td>0</td>\n",
       "      <td>0</td>\n",
       "      <td>0</td>\n",
       "      <td>...</td>\n",
       "      <td>0</td>\n",
       "      <td>1</td>\n",
       "      <td>0</td>\n",
       "      <td>0</td>\n",
       "      <td>0</td>\n",
       "      <td>1</td>\n",
       "      <td>0</td>\n",
       "      <td>0</td>\n",
       "      <td>0</td>\n",
       "      <td>0</td>\n",
       "    </tr>\n",
       "    <tr>\n",
       "      <th>1</th>\n",
       "      <td>1</td>\n",
       "      <td>0</td>\n",
       "      <td>0</td>\n",
       "      <td>0</td>\n",
       "      <td>0</td>\n",
       "      <td>0</td>\n",
       "      <td>0</td>\n",
       "      <td>0</td>\n",
       "      <td>0</td>\n",
       "      <td>0</td>\n",
       "      <td>...</td>\n",
       "      <td>0</td>\n",
       "      <td>0</td>\n",
       "      <td>1</td>\n",
       "      <td>0</td>\n",
       "      <td>0</td>\n",
       "      <td>1</td>\n",
       "      <td>0</td>\n",
       "      <td>0</td>\n",
       "      <td>0</td>\n",
       "      <td>0</td>\n",
       "    </tr>\n",
       "    <tr>\n",
       "      <th>2</th>\n",
       "      <td>1</td>\n",
       "      <td>0</td>\n",
       "      <td>0</td>\n",
       "      <td>0</td>\n",
       "      <td>0</td>\n",
       "      <td>0</td>\n",
       "      <td>0</td>\n",
       "      <td>0</td>\n",
       "      <td>0</td>\n",
       "      <td>0</td>\n",
       "      <td>...</td>\n",
       "      <td>0</td>\n",
       "      <td>1</td>\n",
       "      <td>0</td>\n",
       "      <td>0</td>\n",
       "      <td>0</td>\n",
       "      <td>1</td>\n",
       "      <td>0</td>\n",
       "      <td>0</td>\n",
       "      <td>0</td>\n",
       "      <td>0</td>\n",
       "    </tr>\n",
       "    <tr>\n",
       "      <th>3</th>\n",
       "      <td>0</td>\n",
       "      <td>0</td>\n",
       "      <td>1</td>\n",
       "      <td>0</td>\n",
       "      <td>0</td>\n",
       "      <td>0</td>\n",
       "      <td>0</td>\n",
       "      <td>0</td>\n",
       "      <td>0</td>\n",
       "      <td>0</td>\n",
       "      <td>...</td>\n",
       "      <td>0</td>\n",
       "      <td>0</td>\n",
       "      <td>0</td>\n",
       "      <td>1</td>\n",
       "      <td>0</td>\n",
       "      <td>1</td>\n",
       "      <td>0</td>\n",
       "      <td>0</td>\n",
       "      <td>0</td>\n",
       "      <td>0</td>\n",
       "    </tr>\n",
       "    <tr>\n",
       "      <th>4</th>\n",
       "      <td>0</td>\n",
       "      <td>1</td>\n",
       "      <td>0</td>\n",
       "      <td>0</td>\n",
       "      <td>0</td>\n",
       "      <td>0</td>\n",
       "      <td>0</td>\n",
       "      <td>0</td>\n",
       "      <td>0</td>\n",
       "      <td>0</td>\n",
       "      <td>...</td>\n",
       "      <td>0</td>\n",
       "      <td>1</td>\n",
       "      <td>0</td>\n",
       "      <td>0</td>\n",
       "      <td>0</td>\n",
       "      <td>1</td>\n",
       "      <td>0</td>\n",
       "      <td>0</td>\n",
       "      <td>0</td>\n",
       "      <td>0</td>\n",
       "    </tr>\n",
       "    <tr>\n",
       "      <th>...</th>\n",
       "      <td>...</td>\n",
       "      <td>...</td>\n",
       "      <td>...</td>\n",
       "      <td>...</td>\n",
       "      <td>...</td>\n",
       "      <td>...</td>\n",
       "      <td>...</td>\n",
       "      <td>...</td>\n",
       "      <td>...</td>\n",
       "      <td>...</td>\n",
       "      <td>...</td>\n",
       "      <td>...</td>\n",
       "      <td>...</td>\n",
       "      <td>...</td>\n",
       "      <td>...</td>\n",
       "      <td>...</td>\n",
       "      <td>...</td>\n",
       "      <td>...</td>\n",
       "      <td>...</td>\n",
       "      <td>...</td>\n",
       "      <td>...</td>\n",
       "    </tr>\n",
       "    <tr>\n",
       "      <th>37980</th>\n",
       "      <td>1</td>\n",
       "      <td>0</td>\n",
       "      <td>0</td>\n",
       "      <td>0</td>\n",
       "      <td>0</td>\n",
       "      <td>0</td>\n",
       "      <td>0</td>\n",
       "      <td>0</td>\n",
       "      <td>0</td>\n",
       "      <td>0</td>\n",
       "      <td>...</td>\n",
       "      <td>0</td>\n",
       "      <td>0</td>\n",
       "      <td>0</td>\n",
       "      <td>0</td>\n",
       "      <td>1</td>\n",
       "      <td>1</td>\n",
       "      <td>0</td>\n",
       "      <td>0</td>\n",
       "      <td>0</td>\n",
       "      <td>0</td>\n",
       "    </tr>\n",
       "    <tr>\n",
       "      <th>37981</th>\n",
       "      <td>1</td>\n",
       "      <td>0</td>\n",
       "      <td>0</td>\n",
       "      <td>0</td>\n",
       "      <td>0</td>\n",
       "      <td>0</td>\n",
       "      <td>0</td>\n",
       "      <td>0</td>\n",
       "      <td>0</td>\n",
       "      <td>0</td>\n",
       "      <td>...</td>\n",
       "      <td>0</td>\n",
       "      <td>1</td>\n",
       "      <td>0</td>\n",
       "      <td>0</td>\n",
       "      <td>0</td>\n",
       "      <td>1</td>\n",
       "      <td>0</td>\n",
       "      <td>0</td>\n",
       "      <td>0</td>\n",
       "      <td>0</td>\n",
       "    </tr>\n",
       "    <tr>\n",
       "      <th>37982</th>\n",
       "      <td>0</td>\n",
       "      <td>0</td>\n",
       "      <td>1</td>\n",
       "      <td>0</td>\n",
       "      <td>0</td>\n",
       "      <td>0</td>\n",
       "      <td>0</td>\n",
       "      <td>0</td>\n",
       "      <td>0</td>\n",
       "      <td>0</td>\n",
       "      <td>...</td>\n",
       "      <td>0</td>\n",
       "      <td>1</td>\n",
       "      <td>0</td>\n",
       "      <td>0</td>\n",
       "      <td>0</td>\n",
       "      <td>1</td>\n",
       "      <td>0</td>\n",
       "      <td>0</td>\n",
       "      <td>0</td>\n",
       "      <td>0</td>\n",
       "    </tr>\n",
       "    <tr>\n",
       "      <th>37983</th>\n",
       "      <td>0</td>\n",
       "      <td>0</td>\n",
       "      <td>1</td>\n",
       "      <td>0</td>\n",
       "      <td>0</td>\n",
       "      <td>0</td>\n",
       "      <td>0</td>\n",
       "      <td>0</td>\n",
       "      <td>0</td>\n",
       "      <td>0</td>\n",
       "      <td>...</td>\n",
       "      <td>0</td>\n",
       "      <td>0</td>\n",
       "      <td>1</td>\n",
       "      <td>0</td>\n",
       "      <td>0</td>\n",
       "      <td>1</td>\n",
       "      <td>0</td>\n",
       "      <td>0</td>\n",
       "      <td>0</td>\n",
       "      <td>0</td>\n",
       "    </tr>\n",
       "    <tr>\n",
       "      <th>37984</th>\n",
       "      <td>0</td>\n",
       "      <td>0</td>\n",
       "      <td>1</td>\n",
       "      <td>0</td>\n",
       "      <td>0</td>\n",
       "      <td>0</td>\n",
       "      <td>0</td>\n",
       "      <td>0</td>\n",
       "      <td>1</td>\n",
       "      <td>0</td>\n",
       "      <td>...</td>\n",
       "      <td>0</td>\n",
       "      <td>0</td>\n",
       "      <td>0</td>\n",
       "      <td>1</td>\n",
       "      <td>0</td>\n",
       "      <td>1</td>\n",
       "      <td>0</td>\n",
       "      <td>0</td>\n",
       "      <td>0</td>\n",
       "      <td>0</td>\n",
       "    </tr>\n",
       "  </tbody>\n",
       "</table>\n",
       "<p>37985 rows × 104 columns</p>\n",
       "</div>"
      ],
      "text/plain": [
       "       0    1    2    3    4    5    6    7    8    9    ...  94   95   96   \\\n",
       "0        0    0    1    0    0    0    0    0    0    0  ...    0    1    0   \n",
       "1        1    0    0    0    0    0    0    0    0    0  ...    0    0    1   \n",
       "2        1    0    0    0    0    0    0    0    0    0  ...    0    1    0   \n",
       "3        0    0    1    0    0    0    0    0    0    0  ...    0    0    0   \n",
       "4        0    1    0    0    0    0    0    0    0    0  ...    0    1    0   \n",
       "...    ...  ...  ...  ...  ...  ...  ...  ...  ...  ...  ...  ...  ...  ...   \n",
       "37980    1    0    0    0    0    0    0    0    0    0  ...    0    0    0   \n",
       "37981    1    0    0    0    0    0    0    0    0    0  ...    0    1    0   \n",
       "37982    0    0    1    0    0    0    0    0    0    0  ...    0    1    0   \n",
       "37983    0    0    1    0    0    0    0    0    0    0  ...    0    0    1   \n",
       "37984    0    0    1    0    0    0    0    0    1    0  ...    0    0    0   \n",
       "\n",
       "       97   98   99   100  101  102  103  \n",
       "0        0    0    1    0    0    0    0  \n",
       "1        0    0    1    0    0    0    0  \n",
       "2        0    0    1    0    0    0    0  \n",
       "3        1    0    1    0    0    0    0  \n",
       "4        0    0    1    0    0    0    0  \n",
       "...    ...  ...  ...  ...  ...  ...  ...  \n",
       "37980    0    1    1    0    0    0    0  \n",
       "37981    0    0    1    0    0    0    0  \n",
       "37982    0    0    1    0    0    0    0  \n",
       "37983    0    0    1    0    0    0    0  \n",
       "37984    1    0    1    0    0    0    0  \n",
       "\n",
       "[37985 rows x 104 columns]"
      ]
     },
     "execution_count": 23,
     "metadata": {},
     "output_type": "execute_result"
    }
   ],
   "source": [
    "features_df"
   ]
  },
  {
   "cell_type": "code",
   "execution_count": 24,
   "metadata": {},
   "outputs": [
    {
     "data": {
      "text/html": [
       "<div>\n",
       "<style scoped>\n",
       "    .dataframe tbody tr th:only-of-type {\n",
       "        vertical-align: middle;\n",
       "    }\n",
       "\n",
       "    .dataframe tbody tr th {\n",
       "        vertical-align: top;\n",
       "    }\n",
       "\n",
       "    .dataframe thead th {\n",
       "        text-align: right;\n",
       "    }\n",
       "</style>\n",
       "<table border=\"1\" class=\"dataframe\">\n",
       "  <thead>\n",
       "    <tr style=\"text-align: right;\">\n",
       "      <th></th>\n",
       "      <th>source</th>\n",
       "      <th>target</th>\n",
       "    </tr>\n",
       "  </thead>\n",
       "  <tbody>\n",
       "    <tr>\n",
       "      <th>0</th>\n",
       "      <td>32</td>\n",
       "      <td>407</td>\n",
       "    </tr>\n",
       "    <tr>\n",
       "      <th>1</th>\n",
       "      <td>32</td>\n",
       "      <td>512</td>\n",
       "    </tr>\n",
       "    <tr>\n",
       "      <th>2</th>\n",
       "      <td>32</td>\n",
       "      <td>722</td>\n",
       "    </tr>\n",
       "    <tr>\n",
       "      <th>3</th>\n",
       "      <td>32</td>\n",
       "      <td>731</td>\n",
       "    </tr>\n",
       "    <tr>\n",
       "      <th>4</th>\n",
       "      <td>32</td>\n",
       "      <td>736</td>\n",
       "    </tr>\n",
       "    <tr>\n",
       "      <th>...</th>\n",
       "      <td>...</td>\n",
       "      <td>...</td>\n",
       "    </tr>\n",
       "    <tr>\n",
       "      <th>6781</th>\n",
       "      <td>34530</td>\n",
       "      <td>36065</td>\n",
       "    </tr>\n",
       "    <tr>\n",
       "      <th>6782</th>\n",
       "      <td>34530</td>\n",
       "      <td>36366</td>\n",
       "    </tr>\n",
       "    <tr>\n",
       "      <th>6783</th>\n",
       "      <td>35079</td>\n",
       "      <td>36065</td>\n",
       "    </tr>\n",
       "    <tr>\n",
       "      <th>6784</th>\n",
       "      <td>35079</td>\n",
       "      <td>36366</td>\n",
       "    </tr>\n",
       "    <tr>\n",
       "      <th>6785</th>\n",
       "      <td>36065</td>\n",
       "      <td>36366</td>\n",
       "    </tr>\n",
       "  </tbody>\n",
       "</table>\n",
       "<p>6786 rows × 2 columns</p>\n",
       "</div>"
      ],
      "text/plain": [
       "      source  target\n",
       "0         32     407\n",
       "1         32     512\n",
       "2         32     722\n",
       "3         32     731\n",
       "4         32     736\n",
       "...      ...     ...\n",
       "6781   34530   36065\n",
       "6782   34530   36366\n",
       "6783   35079   36065\n",
       "6784   35079   36366\n",
       "6785   36065   36366\n",
       "\n",
       "[6786 rows x 2 columns]"
      ]
     },
     "execution_count": 24,
     "metadata": {},
     "output_type": "execute_result"
    }
   ],
   "source": [
    "edges_df"
   ]
  },
  {
   "cell_type": "code",
   "execution_count": 25,
   "metadata": {},
   "outputs": [
    {
     "data": {
      "text/html": [
       "<div>\n",
       "<style scoped>\n",
       "    .dataframe tbody tr th:only-of-type {\n",
       "        vertical-align: middle;\n",
       "    }\n",
       "\n",
       "    .dataframe tbody tr th {\n",
       "        vertical-align: top;\n",
       "    }\n",
       "\n",
       "    .dataframe thead th {\n",
       "        text-align: right;\n",
       "    }\n",
       "</style>\n",
       "<table border=\"1\" class=\"dataframe\">\n",
       "  <thead>\n",
       "    <tr style=\"text-align: right;\">\n",
       "      <th></th>\n",
       "      <th>id</th>\n",
       "      <th>target</th>\n",
       "    </tr>\n",
       "  </thead>\n",
       "  <tbody>\n",
       "    <tr>\n",
       "      <th>0</th>\n",
       "      <td>602567404</td>\n",
       "      <td>0</td>\n",
       "    </tr>\n",
       "    <tr>\n",
       "      <th>1</th>\n",
       "      <td>602656046</td>\n",
       "      <td>0</td>\n",
       "    </tr>\n",
       "    <tr>\n",
       "      <th>2</th>\n",
       "      <td>602572035</td>\n",
       "      <td>1</td>\n",
       "    </tr>\n",
       "    <tr>\n",
       "      <th>3</th>\n",
       "      <td>602707370</td>\n",
       "      <td>0</td>\n",
       "    </tr>\n",
       "    <tr>\n",
       "      <th>4</th>\n",
       "      <td>602674754</td>\n",
       "      <td>0</td>\n",
       "    </tr>\n",
       "    <tr>\n",
       "      <th>...</th>\n",
       "      <td>...</td>\n",
       "      <td>...</td>\n",
       "    </tr>\n",
       "    <tr>\n",
       "      <th>37980</th>\n",
       "      <td>602737479</td>\n",
       "      <td>0</td>\n",
       "    </tr>\n",
       "    <tr>\n",
       "      <th>37981</th>\n",
       "      <td>602828191</td>\n",
       "      <td>1</td>\n",
       "    </tr>\n",
       "    <tr>\n",
       "      <th>37982</th>\n",
       "      <td>602823532</td>\n",
       "      <td>0</td>\n",
       "    </tr>\n",
       "    <tr>\n",
       "      <th>37983</th>\n",
       "      <td>602639489</td>\n",
       "      <td>1</td>\n",
       "    </tr>\n",
       "    <tr>\n",
       "      <th>37984</th>\n",
       "      <td>602742078</td>\n",
       "      <td>0</td>\n",
       "    </tr>\n",
       "  </tbody>\n",
       "</table>\n",
       "<p>37985 rows × 2 columns</p>\n",
       "</div>"
      ],
      "text/plain": [
       "              id  target\n",
       "0      602567404       0\n",
       "1      602656046       0\n",
       "2      602572035       1\n",
       "3      602707370       0\n",
       "4      602674754       0\n",
       "...          ...     ...\n",
       "37980  602737479       0\n",
       "37981  602828191       1\n",
       "37982  602823532       0\n",
       "37983  602639489       1\n",
       "37984  602742078       0\n",
       "\n",
       "[37985 rows x 2 columns]"
      ]
     },
     "execution_count": 25,
     "metadata": {},
     "output_type": "execute_result"
    }
   ],
   "source": [
    "targets_df"
   ]
  },
  {
   "cell_type": "markdown",
   "metadata": {
    "id": "OQLdGFeRliqj"
   },
   "source": [
    "## StellarGraph Data"
   ]
  },
  {
   "cell_type": "markdown",
   "metadata": {
    "id": "snOd-Zjqqs5e"
   },
   "source": [
    "StellarGraph는 자체적인 그래프 데이터 구조를 가지고 있다."
   ]
  },
  {
   "cell_type": "code",
   "execution_count": 28,
   "metadata": {},
   "outputs": [
    {
     "data": {
      "text/plain": [
       "15"
      ]
     },
     "execution_count": 28,
     "metadata": {},
     "output_type": "execute_result"
    }
   ],
   "source": [
    "import gc\n",
    "gc.collect()      "
   ]
  },
  {
   "cell_type": "code",
   "execution_count": 29,
   "metadata": {
    "id": "2vvSNzXojQM2"
   },
   "outputs": [],
   "source": [
    "G = sg.StellarGraph(features_df, edges_df)"
   ]
  },
  {
   "cell_type": "code",
   "execution_count": 30,
   "metadata": {
    "colab": {
     "base_uri": "https://localhost:8080/"
    },
    "id": "z2hdq6m1qgGZ",
    "outputId": "76ceef5d-3ce5-4370-ef29-554d97b968c4"
   },
   "outputs": [
    {
     "name": "stdout",
     "output_type": "stream",
     "text": [
      "StellarGraph: Undirected multigraph\n",
      " Nodes: 37985, Edges: 6786\n",
      "\n",
      " Node types:\n",
      "  default: [37985]\n",
      "    Features: float32 vector, length 104\n",
      "    Edge types: default-default->default\n",
      "\n",
      " Edge types:\n",
      "    default-default->default: [6786]\n",
      "        Weights: all 1 (default)\n",
      "        Features: none\n"
     ]
    }
   ],
   "source": [
    "print(G.info())"
   ]
  },
  {
   "cell_type": "markdown",
   "metadata": {
    "id": "D8SyB5qErVZB"
   },
   "source": [
    "## Train/Test/Val split"
   ]
  },
  {
   "cell_type": "markdown",
   "metadata": {
    "id": "jtO8v5cPryAg"
   },
   "source": [
    "참고로, GCN은 purely supervised models(e.g. Random Forest)에 비해 label이 훨씬 적게 필요한 'semi-supervised model'이다. "
   ]
  },
  {
   "cell_type": "code",
   "execution_count": 31,
   "metadata": {},
   "outputs": [
    {
     "data": {
      "text/html": [
       "<div>\n",
       "<style scoped>\n",
       "    .dataframe tbody tr th:only-of-type {\n",
       "        vertical-align: middle;\n",
       "    }\n",
       "\n",
       "    .dataframe tbody tr th {\n",
       "        vertical-align: top;\n",
       "    }\n",
       "\n",
       "    .dataframe thead th {\n",
       "        text-align: right;\n",
       "    }\n",
       "</style>\n",
       "<table border=\"1\" class=\"dataframe\">\n",
       "  <thead>\n",
       "    <tr style=\"text-align: right;\">\n",
       "      <th></th>\n",
       "      <th>id</th>\n",
       "      <th>target</th>\n",
       "    </tr>\n",
       "  </thead>\n",
       "  <tbody>\n",
       "    <tr>\n",
       "      <th>0</th>\n",
       "      <td>602567404</td>\n",
       "      <td>0</td>\n",
       "    </tr>\n",
       "    <tr>\n",
       "      <th>1</th>\n",
       "      <td>602656046</td>\n",
       "      <td>0</td>\n",
       "    </tr>\n",
       "    <tr>\n",
       "      <th>2</th>\n",
       "      <td>602572035</td>\n",
       "      <td>1</td>\n",
       "    </tr>\n",
       "    <tr>\n",
       "      <th>3</th>\n",
       "      <td>602707370</td>\n",
       "      <td>0</td>\n",
       "    </tr>\n",
       "    <tr>\n",
       "      <th>4</th>\n",
       "      <td>602674754</td>\n",
       "      <td>0</td>\n",
       "    </tr>\n",
       "    <tr>\n",
       "      <th>...</th>\n",
       "      <td>...</td>\n",
       "      <td>...</td>\n",
       "    </tr>\n",
       "    <tr>\n",
       "      <th>37980</th>\n",
       "      <td>602737479</td>\n",
       "      <td>0</td>\n",
       "    </tr>\n",
       "    <tr>\n",
       "      <th>37981</th>\n",
       "      <td>602828191</td>\n",
       "      <td>1</td>\n",
       "    </tr>\n",
       "    <tr>\n",
       "      <th>37982</th>\n",
       "      <td>602823532</td>\n",
       "      <td>0</td>\n",
       "    </tr>\n",
       "    <tr>\n",
       "      <th>37983</th>\n",
       "      <td>602639489</td>\n",
       "      <td>1</td>\n",
       "    </tr>\n",
       "    <tr>\n",
       "      <th>37984</th>\n",
       "      <td>602742078</td>\n",
       "      <td>0</td>\n",
       "    </tr>\n",
       "  </tbody>\n",
       "</table>\n",
       "<p>37985 rows × 2 columns</p>\n",
       "</div>"
      ],
      "text/plain": [
       "              id  target\n",
       "0      602567404       0\n",
       "1      602656046       0\n",
       "2      602572035       1\n",
       "3      602707370       0\n",
       "4      602674754       0\n",
       "...          ...     ...\n",
       "37980  602737479       0\n",
       "37981  602828191       1\n",
       "37982  602823532       0\n",
       "37983  602639489       1\n",
       "37984  602742078       0\n",
       "\n",
       "[37985 rows x 2 columns]"
      ]
     },
     "execution_count": 31,
     "metadata": {},
     "output_type": "execute_result"
    }
   ],
   "source": [
    "targets_df"
   ]
  },
  {
   "cell_type": "code",
   "execution_count": 32,
   "metadata": {
    "id": "9cYXxuDLqkPh"
   },
   "outputs": [],
   "source": [
    "# 200 training examples\n",
    "train_pages1, test_pages1 = train_test_split(targets_df, train_size=200)\n",
    "val_pages1, test_pages1 = train_test_split(test_pages1, train_size=200)"
   ]
  },
  {
   "cell_type": "code",
   "execution_count": 33,
   "metadata": {
    "colab": {
     "base_uri": "https://localhost:8080/"
    },
    "id": "DMzrvvKBs0LI",
    "outputId": "a4d70483-846e-436a-de9e-52dfe01935b7"
   },
   "outputs": [
    {
     "data": {
      "text/plain": [
       "((200, 2), (200, 2), (37585, 2))"
      ]
     },
     "execution_count": 33,
     "metadata": {},
     "output_type": "execute_result"
    }
   ],
   "source": [
    "train_pages1.shape, val_pages1.shape, test_pages1.shape"
   ]
  },
  {
   "cell_type": "code",
   "execution_count": 34,
   "metadata": {},
   "outputs": [
    {
     "data": {
      "text/plain": [
       "1    20238\n",
       "0    17347\n",
       "Name: target, dtype: int64"
      ]
     },
     "execution_count": 34,
     "metadata": {},
     "output_type": "execute_result"
    }
   ],
   "source": [
    "test_pages1['target'].value_counts()"
   ]
  },
  {
   "cell_type": "markdown",
   "metadata": {
    "id": "Yw6Gx5mUtcIQ"
   },
   "source": [
    "# Pre-processing"
   ]
  },
  {
   "cell_type": "markdown",
   "metadata": {
    "id": "dvNjEf5otfLl"
   },
   "source": [
    "## Target pre-processing"
   ]
  },
  {
   "cell_type": "code",
   "execution_count": 35,
   "metadata": {},
   "outputs": [],
   "source": [
    "target_encoding = LabelBinarizer()  # 2개의 클래스가 있을 때, 이에 대한 벡터를 반환함\n",
    "train_targets1 = target_encoding.fit_transform(train_pages1['target'])\n",
    "val_targets1 = target_encoding.transform(val_pages1['target'])\n",
    "test_targets1 = target_encoding.transform(test_pages1['target'])"
   ]
  },
  {
   "cell_type": "code",
   "execution_count": 36,
   "metadata": {
    "colab": {
     "base_uri": "https://localhost:8080/"
    },
    "id": "AM-MxXAQuDfk",
    "outputId": "4109d1b5-5add-49a1-dbbf-62821683e4f0"
   },
   "outputs": [
    {
     "data": {
      "text/plain": [
       "array([[1],\n",
       "       [0],\n",
       "       [0]])"
      ]
     },
     "execution_count": 36,
     "metadata": {},
     "output_type": "execute_result"
    }
   ],
   "source": [
    "train_targets1[:3]"
   ]
  },
  {
   "cell_type": "markdown",
   "metadata": {
    "id": "Y7nxUyPEz6Pl"
   },
   "source": [
    "출력 layer에서 softmax 기능을 사용하는 neural network에 제공할 수 있도록 원핫 인코딩 형식이 필요함"
   ]
  },
  {
   "cell_type": "markdown",
   "metadata": {
    "id": "Orbqg9pq0FLB"
   },
   "source": [
    "## Graph Data Pre-processing"
   ]
  },
  {
   "cell_type": "markdown",
   "metadata": {
    "id": "QnU7YQGyR1AA"
   },
   "source": [
    "GCN은 기능과 그래프 인접 정보를 결합할 수 있는 강력한 심층 신경망 아키텍처이다. 이것은 컨볼루션 필터 역할을 하는 정규화된 인접 행렬에 이전 계층 값을 곱함으로써 달성된다. 이 곱셈의 결과로 이웃 노드의 기능이 집계되고 평소처럼 역 전파를 사용하여 전체 임베딩을 학습할 수 있다."
   ]
  },
  {
   "cell_type": "markdown",
   "metadata": {
    "id": "f2puKu-S_A7a"
   },
   "source": [
    "# GCN Model"
   ]
  },
  {
   "cell_type": "markdown",
   "metadata": {},
   "source": [
    "실험을 더 빠르고 덜 복잡하게 하기 위해 StellarGraph API를 완전히 사용해보자.\n",
    "graph data의 모든 전처리는 사실 StellarGraph가 모두 하고 있다. BatchGenerator 개체를 초기화하고 사용하기만 하면 된다."
   ]
  },
  {
   "cell_type": "code",
   "execution_count": 37,
   "metadata": {},
   "outputs": [
    {
     "name": "stdout",
     "output_type": "stream",
     "text": [
      "Using GCN (local pooling) filters...\n"
     ]
    }
   ],
   "source": [
    "# Initialize the generator\n",
    "generator = FullBatchNodeGenerator(G, method=\"gcn\")\n",
    "\n",
    "# Use the .flow method to prepare it for use with GCN\n",
    "train_gen1 = generator.flow(train_pages1.index, train_targets1)\n",
    "val_gen1 = generator.flow(val_pages1.index, val_targets1)\n",
    "test_gen1 = generator.flow(test_pages1.index, test_targets1)"
   ]
  },
  {
   "cell_type": "markdown",
   "metadata": {},
   "source": [
    "GCN 모델을 구축하는 것 또한 StellarGraph를 이용하면 매우 쉽다."
   ]
  },
  {
   "cell_type": "code",
   "execution_count": 38,
   "metadata": {},
   "outputs": [],
   "source": [
    "# Build necessary layers\n",
    "gcn = GCN(\n",
    "    layer_sizes=[32,32], activations=[\"relu\", \"relu\"], generator=generator, dropout=0.5\n",
    "    )\n",
    "\n",
    "# Access the input and output tensors\n",
    "x_inp, x_out = gcn.in_out_tensors()\n",
    "\n",
    "# Pass the output tensor through the dense layer with sigmoid\n",
    "predictions = layers.Dense(units=train_targets1.shape[1], activation=\"sigmoid\")(x_out)"
   ]
  },
  {
   "cell_type": "code",
   "execution_count": 39,
   "metadata": {},
   "outputs": [
    {
     "name": "stderr",
     "output_type": "stream",
     "text": [
      "C:\\Users\\admin\\anaconda3\\lib\\site-packages\\keras\\optimizer_v2\\optimizer_v2.py:355: UserWarning: The `lr` argument is deprecated, use `learning_rate` instead.\n",
      "  warnings.warn(\n"
     ]
    }
   ],
   "source": [
    "model = Model(inputs=x_inp, outputs=predictions)\n",
    "model.compile(\n",
    "    optimizer = optimizers.Adam(lr=0.01),\n",
    "    loss = losses.binary_crossentropy,\n",
    "    metrics = [\"acc\"]\n",
    ")"
   ]
  },
  {
   "cell_type": "markdown",
   "metadata": {},
   "source": [
    "generator 객체가 처리하므로, 모델에 모든 inputs들을 제공하는 것에 대해 걱정할 필요가 없다."
   ]
  },
  {
   "cell_type": "code",
   "execution_count": 40,
   "metadata": {},
   "outputs": [
    {
     "name": "stdout",
     "output_type": "stream",
     "text": [
      "Epoch 1/200\n",
      "1/1 [==============================] - 1s 1s/step - loss: 0.7078 - acc: 0.5300 - val_loss: 0.6941 - val_acc: 0.4800\n",
      "Epoch 2/200\n",
      "1/1 [==============================] - 0s 98ms/step - loss: 0.7021 - acc: 0.5000 - val_loss: 0.6955 - val_acc: 0.4850\n",
      "Epoch 3/200\n",
      "1/1 [==============================] - 0s 101ms/step - loss: 0.6860 - acc: 0.5400 - val_loss: 0.6924 - val_acc: 0.5350\n",
      "Epoch 4/200\n",
      "1/1 [==============================] - 0s 106ms/step - loss: 0.6793 - acc: 0.5750 - val_loss: 0.6888 - val_acc: 0.5300\n",
      "Epoch 5/200\n",
      "1/1 [==============================] - 0s 101ms/step - loss: 0.6745 - acc: 0.5650 - val_loss: 0.6866 - val_acc: 0.5400\n",
      "Epoch 6/200\n",
      "1/1 [==============================] - 0s 90ms/step - loss: 0.6815 - acc: 0.5600 - val_loss: 0.6866 - val_acc: 0.5400\n",
      "Epoch 7/200\n",
      "1/1 [==============================] - 0s 76ms/step - loss: 0.6873 - acc: 0.5600 - val_loss: 0.6868 - val_acc: 0.5400\n",
      "Epoch 8/200\n",
      "1/1 [==============================] - 0s 75ms/step - loss: 0.6762 - acc: 0.5750 - val_loss: 0.6875 - val_acc: 0.5400\n",
      "Epoch 9/200\n",
      "1/1 [==============================] - 0s 80ms/step - loss: 0.6882 - acc: 0.5800 - val_loss: 0.6872 - val_acc: 0.5550\n",
      "Epoch 10/200\n",
      "1/1 [==============================] - 0s 83ms/step - loss: 0.6606 - acc: 0.5950 - val_loss: 0.6867 - val_acc: 0.5350\n",
      "Epoch 11/200\n",
      "1/1 [==============================] - 0s 83ms/step - loss: 0.6713 - acc: 0.5950 - val_loss: 0.6868 - val_acc: 0.5350\n",
      "Epoch 12/200\n",
      "1/1 [==============================] - 0s 75ms/step - loss: 0.6575 - acc: 0.5950 - val_loss: 0.6874 - val_acc: 0.5400\n",
      "Epoch 13/200\n",
      "1/1 [==============================] - 0s 85ms/step - loss: 0.6642 - acc: 0.6100 - val_loss: 0.6880 - val_acc: 0.5550\n",
      "Epoch 14/200\n",
      "1/1 [==============================] - 0s 75ms/step - loss: 0.6653 - acc: 0.5950 - val_loss: 0.6892 - val_acc: 0.5350\n",
      "Epoch 15/200\n",
      "1/1 [==============================] - 0s 78ms/step - loss: 0.6460 - acc: 0.6200 - val_loss: 0.6895 - val_acc: 0.5450\n",
      "Epoch 16/200\n",
      "1/1 [==============================] - 0s 78ms/step - loss: 0.6795 - acc: 0.5950 - val_loss: 0.6896 - val_acc: 0.5450\n",
      "Epoch 17/200\n",
      "1/1 [==============================] - 0s 81ms/step - loss: 0.6627 - acc: 0.5900 - val_loss: 0.6893 - val_acc: 0.5550\n",
      "Epoch 18/200\n",
      "1/1 [==============================] - 0s 80ms/step - loss: 0.6663 - acc: 0.5950 - val_loss: 0.6889 - val_acc: 0.5700\n",
      "Epoch 19/200\n",
      "1/1 [==============================] - 0s 80ms/step - loss: 0.6620 - acc: 0.6150 - val_loss: 0.6881 - val_acc: 0.5700\n",
      "Epoch 20/200\n",
      "1/1 [==============================] - 0s 81ms/step - loss: 0.6759 - acc: 0.5550 - val_loss: 0.6872 - val_acc: 0.5800\n",
      "Epoch 21/200\n",
      "1/1 [==============================] - 0s 100ms/step - loss: 0.6429 - acc: 0.6400 - val_loss: 0.6863 - val_acc: 0.5700\n",
      "Epoch 22/200\n",
      "1/1 [==============================] - 0s 78ms/step - loss: 0.6476 - acc: 0.6050 - val_loss: 0.6859 - val_acc: 0.5750\n",
      "Epoch 23/200\n",
      "1/1 [==============================] - 0s 85ms/step - loss: 0.6619 - acc: 0.6000 - val_loss: 0.6857 - val_acc: 0.5750\n",
      "Epoch 24/200\n",
      "1/1 [==============================] - 0s 93ms/step - loss: 0.6498 - acc: 0.6300 - val_loss: 0.6857 - val_acc: 0.5600\n",
      "Epoch 25/200\n",
      "1/1 [==============================] - 0s 80ms/step - loss: 0.6595 - acc: 0.6200 - val_loss: 0.6860 - val_acc: 0.5600\n",
      "Epoch 26/200\n",
      "1/1 [==============================] - 0s 77ms/step - loss: 0.6567 - acc: 0.6000 - val_loss: 0.6860 - val_acc: 0.5600\n",
      "Epoch 27/200\n",
      "1/1 [==============================] - 0s 79ms/step - loss: 0.6667 - acc: 0.5650 - val_loss: 0.6857 - val_acc: 0.5650\n",
      "Epoch 28/200\n",
      "1/1 [==============================] - 0s 88ms/step - loss: 0.6626 - acc: 0.5950 - val_loss: 0.6855 - val_acc: 0.5700\n",
      "Epoch 29/200\n",
      "1/1 [==============================] - 0s 81ms/step - loss: 0.6448 - acc: 0.5900 - val_loss: 0.6855 - val_acc: 0.5600\n",
      "Epoch 30/200\n",
      "1/1 [==============================] - 0s 77ms/step - loss: 0.6411 - acc: 0.6150 - val_loss: 0.6858 - val_acc: 0.5600\n",
      "Epoch 31/200\n",
      "1/1 [==============================] - 0s 97ms/step - loss: 0.6693 - acc: 0.5650 - val_loss: 0.6862 - val_acc: 0.5650\n",
      "Epoch 32/200\n",
      "1/1 [==============================] - 0s 79ms/step - loss: 0.6282 - acc: 0.6300 - val_loss: 0.6870 - val_acc: 0.5600\n",
      "Epoch 33/200\n",
      "1/1 [==============================] - 0s 80ms/step - loss: 0.6589 - acc: 0.6000 - val_loss: 0.6880 - val_acc: 0.5600\n",
      "Epoch 34/200\n",
      "1/1 [==============================] - 0s 82ms/step - loss: 0.6030 - acc: 0.6550 - val_loss: 0.6892 - val_acc: 0.5600\n",
      "Epoch 35/200\n",
      "1/1 [==============================] - 0s 80ms/step - loss: 0.6281 - acc: 0.6250 - val_loss: 0.6900 - val_acc: 0.5600\n",
      "Epoch 36/200\n",
      "1/1 [==============================] - 0s 79ms/step - loss: 0.6736 - acc: 0.5900 - val_loss: 0.6909 - val_acc: 0.5600\n",
      "Epoch 37/200\n",
      "1/1 [==============================] - 0s 78ms/step - loss: 0.6410 - acc: 0.5950 - val_loss: 0.6917 - val_acc: 0.5600\n",
      "Epoch 38/200\n",
      "1/1 [==============================] - 0s 79ms/step - loss: 0.6387 - acc: 0.6300 - val_loss: 0.6923 - val_acc: 0.5650\n",
      "Epoch 39/200\n",
      "1/1 [==============================] - 0s 81ms/step - loss: 0.6324 - acc: 0.6050 - val_loss: 0.6929 - val_acc: 0.5700\n",
      "Epoch 40/200\n",
      "1/1 [==============================] - 0s 83ms/step - loss: 0.6633 - acc: 0.5950 - val_loss: 0.6931 - val_acc: 0.5800\n",
      "Epoch 41/200\n",
      "1/1 [==============================] - 0s 78ms/step - loss: 0.6371 - acc: 0.6150 - val_loss: 0.6936 - val_acc: 0.5650\n",
      "Epoch 42/200\n",
      "1/1 [==============================] - 0s 79ms/step - loss: 0.6464 - acc: 0.6100 - val_loss: 0.6943 - val_acc: 0.5650\n",
      "Epoch 43/200\n",
      "1/1 [==============================] - 0s 82ms/step - loss: 0.6624 - acc: 0.6050 - val_loss: 0.6946 - val_acc: 0.5700\n",
      "Epoch 44/200\n",
      "1/1 [==============================] - 0s 82ms/step - loss: 0.6252 - acc: 0.6100 - val_loss: 0.6952 - val_acc: 0.5750\n",
      "Epoch 45/200\n",
      "1/1 [==============================] - 0s 81ms/step - loss: 0.6189 - acc: 0.6350 - val_loss: 0.6954 - val_acc: 0.5850\n",
      "Epoch 46/200\n",
      "1/1 [==============================] - 0s 78ms/step - loss: 0.6145 - acc: 0.6350 - val_loss: 0.6961 - val_acc: 0.5900\n",
      "Epoch 47/200\n",
      "1/1 [==============================] - 0s 82ms/step - loss: 0.6625 - acc: 0.5450 - val_loss: 0.6966 - val_acc: 0.5900\n",
      "Epoch 48/200\n",
      "1/1 [==============================] - 0s 80ms/step - loss: 0.6330 - acc: 0.6200 - val_loss: 0.6977 - val_acc: 0.5750\n",
      "Epoch 49/200\n",
      "1/1 [==============================] - 0s 79ms/step - loss: 0.6223 - acc: 0.6150 - val_loss: 0.6994 - val_acc: 0.5750\n",
      "Epoch 50/200\n",
      "1/1 [==============================] - 0s 96ms/step - loss: 0.6558 - acc: 0.5850 - val_loss: 0.7008 - val_acc: 0.5750\n",
      "Epoch 51/200\n",
      "1/1 [==============================] - 0s 80ms/step - loss: 0.6220 - acc: 0.6500 - val_loss: 0.7016 - val_acc: 0.5800\n",
      "Epoch 52/200\n",
      "1/1 [==============================] - 0s 85ms/step - loss: 0.6394 - acc: 0.6250 - val_loss: 0.7018 - val_acc: 0.5800\n",
      "Epoch 53/200\n",
      "1/1 [==============================] - 0s 95ms/step - loss: 0.6211 - acc: 0.6550 - val_loss: 0.7017 - val_acc: 0.6050\n",
      "Epoch 54/200\n",
      "1/1 [==============================] - 0s 80ms/step - loss: 0.6103 - acc: 0.6150 - val_loss: 0.7018 - val_acc: 0.5950\n",
      "Epoch 55/200\n",
      "1/1 [==============================] - 0s 80ms/step - loss: 0.6184 - acc: 0.6150 - val_loss: 0.7022 - val_acc: 0.6000\n",
      "Epoch 56/200\n",
      "1/1 [==============================] - 0s 78ms/step - loss: 0.6129 - acc: 0.6250 - val_loss: 0.7027 - val_acc: 0.6000\n",
      "Epoch 57/200\n",
      "1/1 [==============================] - 0s 81ms/step - loss: 0.6110 - acc: 0.6550 - val_loss: 0.7025 - val_acc: 0.6000\n",
      "Epoch 58/200\n",
      "1/1 [==============================] - 0s 79ms/step - loss: 0.6497 - acc: 0.5900 - val_loss: 0.7019 - val_acc: 0.5950\n",
      "Epoch 59/200\n",
      "1/1 [==============================] - 0s 95ms/step - loss: 0.6144 - acc: 0.6400 - val_loss: 0.7012 - val_acc: 0.5900\n",
      "Epoch 60/200\n",
      "1/1 [==============================] - 0s 95ms/step - loss: 0.6051 - acc: 0.6550 - val_loss: 0.7010 - val_acc: 0.5900\n",
      "Epoch 61/200\n",
      "1/1 [==============================] - 0s 97ms/step - loss: 0.6186 - acc: 0.6400 - val_loss: 0.7007 - val_acc: 0.5900\n",
      "Epoch 62/200\n",
      "1/1 [==============================] - 0s 83ms/step - loss: 0.6270 - acc: 0.6400 - val_loss: 0.7004 - val_acc: 0.5950\n",
      "Epoch 63/200\n",
      "1/1 [==============================] - 0s 65ms/step - loss: 0.6264 - acc: 0.6250 - val_loss: 0.6998 - val_acc: 0.5950\n",
      "Epoch 64/200\n",
      "1/1 [==============================] - 0s 65ms/step - loss: 0.6296 - acc: 0.6050 - val_loss: 0.6990 - val_acc: 0.5950\n",
      "Epoch 65/200\n",
      "1/1 [==============================] - 0s 66ms/step - loss: 0.6052 - acc: 0.6200 - val_loss: 0.6988 - val_acc: 0.5950\n",
      "Epoch 66/200\n",
      "1/1 [==============================] - 0s 65ms/step - loss: 0.6066 - acc: 0.6350 - val_loss: 0.6996 - val_acc: 0.5950\n",
      "Epoch 67/200\n",
      "1/1 [==============================] - 0s 64ms/step - loss: 0.6054 - acc: 0.6600 - val_loss: 0.7011 - val_acc: 0.5750\n",
      "Epoch 68/200\n",
      "1/1 [==============================] - 0s 63ms/step - loss: 0.6258 - acc: 0.6100 - val_loss: 0.7023 - val_acc: 0.5700\n",
      "Epoch 69/200\n",
      "1/1 [==============================] - 0s 64ms/step - loss: 0.6314 - acc: 0.6200 - val_loss: 0.7027 - val_acc: 0.5750\n",
      "Epoch 70/200\n",
      "1/1 [==============================] - 0s 65ms/step - loss: 0.6654 - acc: 0.6100 - val_loss: 0.7019 - val_acc: 0.5800\n",
      "Epoch 71/200\n",
      "1/1 [==============================] - 0s 64ms/step - loss: 0.6338 - acc: 0.6300 - val_loss: 0.7010 - val_acc: 0.5800\n",
      "Epoch 72/200\n",
      "1/1 [==============================] - 0s 64ms/step - loss: 0.5958 - acc: 0.6400 - val_loss: 0.7007 - val_acc: 0.5800\n",
      "Epoch 73/200\n",
      "1/1 [==============================] - 0s 64ms/step - loss: 0.6578 - acc: 0.6200 - val_loss: 0.7003 - val_acc: 0.5750\n",
      "Epoch 74/200\n",
      "1/1 [==============================] - 0s 63ms/step - loss: 0.5894 - acc: 0.7200 - val_loss: 0.7006 - val_acc: 0.5700\n",
      "Epoch 75/200\n",
      "1/1 [==============================] - 0s 63ms/step - loss: 0.6068 - acc: 0.6400 - val_loss: 0.7014 - val_acc: 0.5700\n",
      "Epoch 76/200\n",
      "1/1 [==============================] - 0s 63ms/step - loss: 0.6232 - acc: 0.6300 - val_loss: 0.7012 - val_acc: 0.5700\n",
      "Epoch 77/200\n",
      "1/1 [==============================] - 0s 65ms/step - loss: 0.6330 - acc: 0.5950 - val_loss: 0.7009 - val_acc: 0.5700\n",
      "Epoch 78/200\n",
      "1/1 [==============================] - 0s 65ms/step - loss: 0.6272 - acc: 0.6500 - val_loss: 0.7005 - val_acc: 0.5700\n",
      "Epoch 79/200\n",
      "1/1 [==============================] - 0s 64ms/step - loss: 0.6121 - acc: 0.6350 - val_loss: 0.7005 - val_acc: 0.5750\n",
      "Epoch 80/200\n",
      "1/1 [==============================] - 0s 64ms/step - loss: 0.5936 - acc: 0.6550 - val_loss: 0.7007 - val_acc: 0.5700\n",
      "Epoch 81/200\n",
      "1/1 [==============================] - 0s 63ms/step - loss: 0.6041 - acc: 0.6150 - val_loss: 0.7008 - val_acc: 0.5700\n",
      "Epoch 82/200\n",
      "1/1 [==============================] - 0s 65ms/step - loss: 0.5985 - acc: 0.6700 - val_loss: 0.7007 - val_acc: 0.5650\n",
      "Epoch 83/200\n",
      "1/1 [==============================] - 0s 64ms/step - loss: 0.6126 - acc: 0.6600 - val_loss: 0.7010 - val_acc: 0.5650\n",
      "Epoch 84/200\n",
      "1/1 [==============================] - 0s 81ms/step - loss: 0.5976 - acc: 0.6900 - val_loss: 0.7017 - val_acc: 0.5650\n",
      "Epoch 85/200\n",
      "1/1 [==============================] - 0s 79ms/step - loss: 0.6049 - acc: 0.6400 - val_loss: 0.7025 - val_acc: 0.5650\n",
      "Epoch 86/200\n",
      "1/1 [==============================] - 0s 76ms/step - loss: 0.6270 - acc: 0.6300 - val_loss: 0.7033 - val_acc: 0.5700\n",
      "Epoch 87/200\n",
      "1/1 [==============================] - 0s 79ms/step - loss: 0.6350 - acc: 0.6400 - val_loss: 0.7037 - val_acc: 0.5700\n",
      "Epoch 88/200\n",
      "1/1 [==============================] - 0s 77ms/step - loss: 0.6361 - acc: 0.6450 - val_loss: 0.7032 - val_acc: 0.5650\n",
      "Epoch 89/200\n",
      "1/1 [==============================] - 0s 76ms/step - loss: 0.6072 - acc: 0.6500 - val_loss: 0.7029 - val_acc: 0.5650\n",
      "Epoch 90/200\n",
      "1/1 [==============================] - 0s 80ms/step - loss: 0.6218 - acc: 0.6000 - val_loss: 0.7024 - val_acc: 0.5650\n",
      "Epoch 91/200\n",
      "1/1 [==============================] - 0s 84ms/step - loss: 0.5835 - acc: 0.6400 - val_loss: 0.7018 - val_acc: 0.5650\n",
      "Epoch 92/200\n",
      "1/1 [==============================] - 0s 77ms/step - loss: 0.5821 - acc: 0.6600 - val_loss: 0.7015 - val_acc: 0.5650\n",
      "Epoch 93/200\n",
      "1/1 [==============================] - 0s 76ms/step - loss: 0.6072 - acc: 0.6600 - val_loss: 0.7016 - val_acc: 0.5650\n",
      "Epoch 94/200\n",
      "1/1 [==============================] - 0s 81ms/step - loss: 0.6168 - acc: 0.6400 - val_loss: 0.7021 - val_acc: 0.5750\n",
      "Epoch 95/200\n",
      "1/1 [==============================] - 0s 79ms/step - loss: 0.5948 - acc: 0.6250 - val_loss: 0.7028 - val_acc: 0.5800\n",
      "Epoch 96/200\n",
      "1/1 [==============================] - 0s 77ms/step - loss: 0.5955 - acc: 0.6600 - val_loss: 0.7037 - val_acc: 0.5750\n",
      "Epoch 97/200\n",
      "1/1 [==============================] - 0s 80ms/step - loss: 0.5968 - acc: 0.6350 - val_loss: 0.7046 - val_acc: 0.5750\n",
      "Epoch 98/200\n",
      "1/1 [==============================] - 0s 81ms/step - loss: 0.6075 - acc: 0.6300 - val_loss: 0.7054 - val_acc: 0.5800\n",
      "Epoch 99/200\n",
      "1/1 [==============================] - 0s 75ms/step - loss: 0.5771 - acc: 0.6800 - val_loss: 0.7067 - val_acc: 0.5850\n",
      "Epoch 100/200\n",
      "1/1 [==============================] - 0s 76ms/step - loss: 0.6169 - acc: 0.6150 - val_loss: 0.7077 - val_acc: 0.5800\n",
      "Epoch 101/200\n",
      "1/1 [==============================] - 0s 84ms/step - loss: 0.6134 - acc: 0.6600 - val_loss: 0.7087 - val_acc: 0.5800\n",
      "Epoch 102/200\n",
      "1/1 [==============================] - 0s 79ms/step - loss: 0.6008 - acc: 0.6400 - val_loss: 0.7096 - val_acc: 0.5650\n",
      "Epoch 103/200\n",
      "1/1 [==============================] - 0s 81ms/step - loss: 0.5640 - acc: 0.6650 - val_loss: 0.7106 - val_acc: 0.5700\n",
      "Epoch 104/200\n",
      "1/1 [==============================] - 0s 76ms/step - loss: 0.5867 - acc: 0.6500 - val_loss: 0.7119 - val_acc: 0.5750\n",
      "Epoch 105/200\n",
      "1/1 [==============================] - 0s 80ms/step - loss: 0.6012 - acc: 0.6500 - val_loss: 0.7135 - val_acc: 0.5750\n",
      "Epoch 106/200\n",
      "1/1 [==============================] - 0s 81ms/step - loss: 0.6099 - acc: 0.6050 - val_loss: 0.7147 - val_acc: 0.5650\n",
      "Epoch 107/200\n",
      "1/1 [==============================] - 0s 75ms/step - loss: 0.6130 - acc: 0.6250 - val_loss: 0.7152 - val_acc: 0.5650\n",
      "Epoch 108/200\n",
      "1/1 [==============================] - 0s 78ms/step - loss: 0.6140 - acc: 0.6050 - val_loss: 0.7152 - val_acc: 0.5700\n",
      "Epoch 109/200\n",
      "1/1 [==============================] - 0s 76ms/step - loss: 0.5929 - acc: 0.6250 - val_loss: 0.7157 - val_acc: 0.5600\n",
      "Epoch 110/200\n",
      "1/1 [==============================] - 0s 80ms/step - loss: 0.6148 - acc: 0.6100 - val_loss: 0.7162 - val_acc: 0.5600\n",
      "Epoch 111/200\n",
      "1/1 [==============================] - 0s 80ms/step - loss: 0.5998 - acc: 0.6300 - val_loss: 0.7167 - val_acc: 0.5500\n",
      "Epoch 112/200\n",
      "1/1 [==============================] - 0s 78ms/step - loss: 0.6013 - acc: 0.6150 - val_loss: 0.7168 - val_acc: 0.5400\n",
      "Epoch 113/200\n",
      "1/1 [==============================] - 0s 81ms/step - loss: 0.6298 - acc: 0.6100 - val_loss: 0.7163 - val_acc: 0.5400\n",
      "Epoch 114/200\n",
      "1/1 [==============================] - 0s 82ms/step - loss: 0.5650 - acc: 0.6700 - val_loss: 0.7163 - val_acc: 0.5500\n",
      "Epoch 115/200\n",
      "1/1 [==============================] - 0s 93ms/step - loss: 0.6214 - acc: 0.6500 - val_loss: 0.7164 - val_acc: 0.5500\n",
      "Epoch 116/200\n",
      "1/1 [==============================] - 0s 102ms/step - loss: 0.6001 - acc: 0.6350 - val_loss: 0.7168 - val_acc: 0.5500\n",
      "Epoch 117/200\n",
      "1/1 [==============================] - 0s 106ms/step - loss: 0.6340 - acc: 0.6250 - val_loss: 0.7169 - val_acc: 0.5500\n",
      "Epoch 118/200\n",
      "1/1 [==============================] - 0s 96ms/step - loss: 0.5924 - acc: 0.6450 - val_loss: 0.7172 - val_acc: 0.5500\n",
      "Epoch 119/200\n",
      "1/1 [==============================] - 0s 96ms/step - loss: 0.6437 - acc: 0.6450 - val_loss: 0.7178 - val_acc: 0.5500\n",
      "Epoch 120/200\n",
      "1/1 [==============================] - 0s 97ms/step - loss: 0.6160 - acc: 0.6350 - val_loss: 0.7181 - val_acc: 0.5550\n",
      "Epoch 121/200\n",
      "1/1 [==============================] - 0s 96ms/step - loss: 0.6052 - acc: 0.6200 - val_loss: 0.7184 - val_acc: 0.5550\n",
      "Epoch 122/200\n",
      "1/1 [==============================] - 0s 97ms/step - loss: 0.6008 - acc: 0.6400 - val_loss: 0.7188 - val_acc: 0.5550\n",
      "Epoch 123/200\n",
      "1/1 [==============================] - 0s 97ms/step - loss: 0.5844 - acc: 0.6400 - val_loss: 0.7194 - val_acc: 0.5550\n",
      "Epoch 124/200\n",
      "1/1 [==============================] - 0s 97ms/step - loss: 0.5851 - acc: 0.6500 - val_loss: 0.7202 - val_acc: 0.5550\n",
      "Epoch 125/200\n",
      "1/1 [==============================] - 0s 92ms/step - loss: 0.6199 - acc: 0.6200 - val_loss: 0.7212 - val_acc: 0.5550\n",
      "Epoch 126/200\n",
      "1/1 [==============================] - 0s 76ms/step - loss: 0.6084 - acc: 0.6150 - val_loss: 0.7223 - val_acc: 0.5500\n",
      "Epoch 127/200\n",
      "1/1 [==============================] - 0s 75ms/step - loss: 0.6095 - acc: 0.6450 - val_loss: 0.7238 - val_acc: 0.5500\n",
      "Epoch 128/200\n",
      "1/1 [==============================] - 0s 77ms/step - loss: 0.5777 - acc: 0.6450 - val_loss: 0.7253 - val_acc: 0.5500\n",
      "Epoch 129/200\n",
      "1/1 [==============================] - 0s 75ms/step - loss: 0.5849 - acc: 0.6700 - val_loss: 0.7275 - val_acc: 0.5500\n",
      "Epoch 130/200\n",
      "1/1 [==============================] - 0s 76ms/step - loss: 0.5893 - acc: 0.6650 - val_loss: 0.7297 - val_acc: 0.5400\n",
      "Epoch 131/200\n",
      "1/1 [==============================] - 0s 76ms/step - loss: 0.5890 - acc: 0.6500 - val_loss: 0.7320 - val_acc: 0.5400\n",
      "Epoch 132/200\n",
      "1/1 [==============================] - 0s 76ms/step - loss: 0.6009 - acc: 0.6300 - val_loss: 0.7338 - val_acc: 0.5500\n",
      "Epoch 133/200\n",
      "1/1 [==============================] - 0s 83ms/step - loss: 0.6019 - acc: 0.6250 - val_loss: 0.7352 - val_acc: 0.5500\n",
      "Epoch 134/200\n",
      "1/1 [==============================] - 0s 79ms/step - loss: 0.5978 - acc: 0.6100 - val_loss: 0.7366 - val_acc: 0.5600\n",
      "Epoch 135/200\n",
      "1/1 [==============================] - 0s 77ms/step - loss: 0.5971 - acc: 0.6450 - val_loss: 0.7382 - val_acc: 0.5600\n",
      "Epoch 136/200\n",
      "1/1 [==============================] - 0s 76ms/step - loss: 0.5791 - acc: 0.6300 - val_loss: 0.7397 - val_acc: 0.5650\n",
      "Epoch 137/200\n",
      "1/1 [==============================] - 0s 75ms/step - loss: 0.5991 - acc: 0.6350 - val_loss: 0.7409 - val_acc: 0.5650\n",
      "Epoch 138/200\n",
      "1/1 [==============================] - 0s 76ms/step - loss: 0.6072 - acc: 0.6150 - val_loss: 0.7422 - val_acc: 0.5650\n",
      "Epoch 139/200\n",
      "1/1 [==============================] - 0s 77ms/step - loss: 0.5812 - acc: 0.6500 - val_loss: 0.7432 - val_acc: 0.5750\n",
      "Epoch 140/200\n",
      "1/1 [==============================] - 0s 77ms/step - loss: 0.6067 - acc: 0.6050 - val_loss: 0.7436 - val_acc: 0.5800\n",
      "Epoch 141/200\n",
      "1/1 [==============================] - 0s 79ms/step - loss: 0.6357 - acc: 0.6150 - val_loss: 0.7433 - val_acc: 0.5850\n",
      "Epoch 142/200\n",
      "1/1 [==============================] - 0s 77ms/step - loss: 0.5943 - acc: 0.6000 - val_loss: 0.7426 - val_acc: 0.5850\n",
      "Epoch 143/200\n",
      "1/1 [==============================] - 0s 75ms/step - loss: 0.6070 - acc: 0.6250 - val_loss: 0.7419 - val_acc: 0.5850\n",
      "Epoch 144/200\n",
      "1/1 [==============================] - 0s 162ms/step - loss: 0.6030 - acc: 0.6450 - val_loss: 0.7412 - val_acc: 0.5850\n",
      "Epoch 145/200\n",
      "1/1 [==============================] - 0s 110ms/step - loss: 0.6048 - acc: 0.6050 - val_loss: 0.7402 - val_acc: 0.5750\n",
      "Epoch 146/200\n",
      "1/1 [==============================] - 0s 67ms/step - loss: 0.6141 - acc: 0.6100 - val_loss: 0.7389 - val_acc: 0.5750\n",
      "Epoch 147/200\n",
      "1/1 [==============================] - 0s 66ms/step - loss: 0.5932 - acc: 0.6400 - val_loss: 0.7383 - val_acc: 0.5650\n",
      "Epoch 148/200\n",
      "1/1 [==============================] - 0s 64ms/step - loss: 0.6156 - acc: 0.6550 - val_loss: 0.7374 - val_acc: 0.5600\n",
      "Epoch 149/200\n",
      "1/1 [==============================] - 0s 64ms/step - loss: 0.5927 - acc: 0.6350 - val_loss: 0.7368 - val_acc: 0.5550\n",
      "Epoch 150/200\n",
      "1/1 [==============================] - 0s 65ms/step - loss: 0.5709 - acc: 0.6550 - val_loss: 0.7361 - val_acc: 0.5550\n",
      "Epoch 151/200\n",
      "1/1 [==============================] - 0s 68ms/step - loss: 0.5769 - acc: 0.6800 - val_loss: 0.7363 - val_acc: 0.5550\n",
      "Epoch 152/200\n",
      "1/1 [==============================] - 0s 64ms/step - loss: 0.5709 - acc: 0.6750 - val_loss: 0.7366 - val_acc: 0.5550\n",
      "Epoch 153/200\n",
      "1/1 [==============================] - 0s 66ms/step - loss: 0.5885 - acc: 0.6500 - val_loss: 0.7376 - val_acc: 0.5600\n",
      "Epoch 154/200\n",
      "1/1 [==============================] - 0s 64ms/step - loss: 0.6162 - acc: 0.6100 - val_loss: 0.7383 - val_acc: 0.5600\n",
      "Epoch 155/200\n",
      "1/1 [==============================] - 0s 65ms/step - loss: 0.5757 - acc: 0.6550 - val_loss: 0.7391 - val_acc: 0.5600\n",
      "Epoch 156/200\n",
      "1/1 [==============================] - 0s 65ms/step - loss: 0.5741 - acc: 0.6500 - val_loss: 0.7403 - val_acc: 0.5600\n",
      "Epoch 157/200\n",
      "1/1 [==============================] - 0s 64ms/step - loss: 0.6076 - acc: 0.6350 - val_loss: 0.7410 - val_acc: 0.5600\n",
      "Epoch 158/200\n",
      "1/1 [==============================] - 0s 64ms/step - loss: 0.5934 - acc: 0.6350 - val_loss: 0.7413 - val_acc: 0.5550\n",
      "Epoch 159/200\n",
      "1/1 [==============================] - 0s 64ms/step - loss: 0.5884 - acc: 0.6650 - val_loss: 0.7409 - val_acc: 0.5550\n",
      "Epoch 160/200\n",
      "1/1 [==============================] - 0s 65ms/step - loss: 0.5847 - acc: 0.6350 - val_loss: 0.7409 - val_acc: 0.5550\n",
      "Epoch 161/200\n",
      "1/1 [==============================] - 0s 64ms/step - loss: 0.5912 - acc: 0.6250 - val_loss: 0.7414 - val_acc: 0.5550\n",
      "Epoch 162/200\n",
      "1/1 [==============================] - 0s 64ms/step - loss: 0.5871 - acc: 0.6350 - val_loss: 0.7411 - val_acc: 0.5550\n",
      "Epoch 163/200\n",
      "1/1 [==============================] - 0s 63ms/step - loss: 0.5934 - acc: 0.6750 - val_loss: 0.7411 - val_acc: 0.5600\n",
      "Epoch 164/200\n",
      "1/1 [==============================] - 0s 64ms/step - loss: 0.6055 - acc: 0.6100 - val_loss: 0.7412 - val_acc: 0.5600\n",
      "Epoch 165/200\n",
      "1/1 [==============================] - 0s 64ms/step - loss: 0.5908 - acc: 0.6400 - val_loss: 0.7419 - val_acc: 0.5700\n",
      "Epoch 166/200\n",
      "1/1 [==============================] - 0s 64ms/step - loss: 0.5938 - acc: 0.6350 - val_loss: 0.7425 - val_acc: 0.5700\n",
      "Epoch 167/200\n",
      "1/1 [==============================] - 0s 93ms/step - loss: 0.6066 - acc: 0.6450 - val_loss: 0.7429 - val_acc: 0.5700\n",
      "Epoch 168/200\n",
      "1/1 [==============================] - 0s 96ms/step - loss: 0.5834 - acc: 0.6450 - val_loss: 0.7426 - val_acc: 0.5700\n",
      "Epoch 169/200\n",
      "1/1 [==============================] - 0s 87ms/step - loss: 0.5931 - acc: 0.6650 - val_loss: 0.7425 - val_acc: 0.5700\n",
      "Epoch 170/200\n",
      "1/1 [==============================] - 0s 84ms/step - loss: 0.5721 - acc: 0.6650 - val_loss: 0.7427 - val_acc: 0.5700\n",
      "Epoch 171/200\n",
      "1/1 [==============================] - 0s 76ms/step - loss: 0.5889 - acc: 0.6400 - val_loss: 0.7431 - val_acc: 0.5700\n",
      "Epoch 172/200\n",
      "1/1 [==============================] - 0s 83ms/step - loss: 0.6099 - acc: 0.6250 - val_loss: 0.7420 - val_acc: 0.5700\n",
      "Epoch 173/200\n",
      "1/1 [==============================] - 0s 76ms/step - loss: 0.5712 - acc: 0.6650 - val_loss: 0.7417 - val_acc: 0.5700\n",
      "Epoch 174/200\n",
      "1/1 [==============================] - 0s 81ms/step - loss: 0.5922 - acc: 0.6700 - val_loss: 0.7424 - val_acc: 0.5650\n",
      "Epoch 175/200\n",
      "1/1 [==============================] - 0s 77ms/step - loss: 0.5644 - acc: 0.6750 - val_loss: 0.7432 - val_acc: 0.5600\n",
      "Epoch 176/200\n",
      "1/1 [==============================] - 0s 78ms/step - loss: 0.6040 - acc: 0.6550 - val_loss: 0.7436 - val_acc: 0.5600\n",
      "Epoch 177/200\n",
      "1/1 [==============================] - 0s 76ms/step - loss: 0.5972 - acc: 0.6500 - val_loss: 0.7436 - val_acc: 0.5600\n",
      "Epoch 178/200\n",
      "1/1 [==============================] - 0s 78ms/step - loss: 0.5905 - acc: 0.6200 - val_loss: 0.7436 - val_acc: 0.5550\n",
      "Epoch 179/200\n",
      "1/1 [==============================] - 0s 80ms/step - loss: 0.5921 - acc: 0.6150 - val_loss: 0.7430 - val_acc: 0.5650\n",
      "Epoch 180/200\n",
      "1/1 [==============================] - 0s 78ms/step - loss: 0.5755 - acc: 0.6600 - val_loss: 0.7427 - val_acc: 0.5500\n",
      "Epoch 181/200\n",
      "1/1 [==============================] - 0s 75ms/step - loss: 0.5755 - acc: 0.6650 - val_loss: 0.7428 - val_acc: 0.5500\n",
      "Epoch 182/200\n",
      "1/1 [==============================] - 0s 78ms/step - loss: 0.5326 - acc: 0.7100 - val_loss: 0.7438 - val_acc: 0.5500\n",
      "Epoch 183/200\n",
      "1/1 [==============================] - 0s 81ms/step - loss: 0.5970 - acc: 0.6700 - val_loss: 0.7447 - val_acc: 0.5500\n",
      "Epoch 184/200\n",
      "1/1 [==============================] - 0s 80ms/step - loss: 0.5827 - acc: 0.6550 - val_loss: 0.7455 - val_acc: 0.5500\n",
      "Epoch 185/200\n",
      "1/1 [==============================] - 0s 85ms/step - loss: 0.5808 - acc: 0.6700 - val_loss: 0.7473 - val_acc: 0.5500\n",
      "Epoch 186/200\n",
      "1/1 [==============================] - 0s 91ms/step - loss: 0.5722 - acc: 0.6500 - val_loss: 0.7490 - val_acc: 0.5500\n",
      "Epoch 187/200\n",
      "1/1 [==============================] - 0s 83ms/step - loss: 0.5733 - acc: 0.6600 - val_loss: 0.7506 - val_acc: 0.5500\n",
      "Epoch 188/200\n",
      "1/1 [==============================] - 0s 91ms/step - loss: 0.6091 - acc: 0.6450 - val_loss: 0.7518 - val_acc: 0.5500\n",
      "Epoch 189/200\n",
      "1/1 [==============================] - 0s 82ms/step - loss: 0.5862 - acc: 0.6550 - val_loss: 0.7522 - val_acc: 0.5500\n",
      "Epoch 190/200\n",
      "1/1 [==============================] - 0s 82ms/step - loss: 0.5963 - acc: 0.6350 - val_loss: 0.7519 - val_acc: 0.5500\n",
      "Epoch 191/200\n",
      "1/1 [==============================] - 0s 78ms/step - loss: 0.5797 - acc: 0.6900 - val_loss: 0.7514 - val_acc: 0.5600\n",
      "Epoch 192/200\n",
      "1/1 [==============================] - 0s 75ms/step - loss: 0.6237 - acc: 0.6500 - val_loss: 0.7504 - val_acc: 0.5550\n",
      "Epoch 193/200\n",
      "1/1 [==============================] - 0s 80ms/step - loss: 0.6255 - acc: 0.6300 - val_loss: 0.7491 - val_acc: 0.5450\n",
      "Epoch 194/200\n",
      "1/1 [==============================] - 0s 81ms/step - loss: 0.5744 - acc: 0.6700 - val_loss: 0.7483 - val_acc: 0.5450\n",
      "Epoch 195/200\n",
      "1/1 [==============================] - 0s 79ms/step - loss: 0.5941 - acc: 0.6550 - val_loss: 0.7475 - val_acc: 0.5450\n",
      "Epoch 196/200\n",
      "1/1 [==============================] - 0s 83ms/step - loss: 0.5779 - acc: 0.6600 - val_loss: 0.7467 - val_acc: 0.5550\n",
      "Epoch 197/200\n",
      "1/1 [==============================] - 0s 83ms/step - loss: 0.5917 - acc: 0.6600 - val_loss: 0.7466 - val_acc: 0.5550\n",
      "Epoch 198/200\n",
      "1/1 [==============================] - 0s 79ms/step - loss: 0.5767 - acc: 0.6450 - val_loss: 0.7460 - val_acc: 0.5550\n",
      "Epoch 199/200\n",
      "1/1 [==============================] - 0s 93ms/step - loss: 0.5869 - acc: 0.6550 - val_loss: 0.7455 - val_acc: 0.5450\n",
      "Epoch 200/200\n",
      "1/1 [==============================] - 0s 81ms/step - loss: 0.6084 - acc: 0.6600 - val_loss: 0.7447 - val_acc: 0.5350\n"
     ]
    }
   ],
   "source": [
    "history = model.fit(\n",
    "    train_gen1,\n",
    "    epochs = 200,\n",
    "    validation_data = val_gen1,\n",
    "    verbose = 1,\n",
    "    shuffle=False,         # True: 그래프 전체를 섞는다는 의미\n",
    "#     callbacks=[es_callback]\n",
    ")"
   ]
  },
  {
   "cell_type": "markdown",
   "metadata": {},
   "source": [
    "StellarGraph API를 이용하니 훈련 시간이 훨씬 더 빠르다."
   ]
  },
  {
   "cell_type": "markdown",
   "metadata": {
    "id": "9ALpOOg2EwxF"
   },
   "source": [
    "# Model Evaluation"
   ]
  },
  {
   "cell_type": "code",
   "execution_count": 41,
   "metadata": {
    "id": "doGgar8LFFlG"
   },
   "outputs": [],
   "source": [
    "def evaluate_preds(true, pred):\n",
    "    auc = roc_auc_score(true, pred)\n",
    "    pr = average_precision_score(true, pred)\n",
    "    bin_pred = [1 if p > 0.5 else 0 for p in pred]   # 0.5\n",
    "    f_score = f1_score(true, bin_pred)\n",
    "    print('ROC AUC:', auc)\n",
    "    print('PR AUC:', pr)\n",
    "    print('F1 score:', f_score)\n",
    "    print(confusion_matrix(true, bin_pred, normalize='true'))\n",
    "\n",
    "    return auc, pr, f_score"
   ]
  },
  {
   "cell_type": "code",
   "execution_count": 42,
   "metadata": {},
   "outputs": [
    {
     "data": {
      "text/plain": [
       "array([[[0.5799192 ],\n",
       "        [0.57999974],\n",
       "        [0.56275296],\n",
       "        ...,\n",
       "        [0.50113624],\n",
       "        [0.6097721 ],\n",
       "        [0.61397517]]], dtype=float32)"
      ]
     },
     "execution_count": 42,
     "metadata": {},
     "output_type": "execute_result"
    }
   ],
   "source": [
    "new_preds1 = model.predict(test_gen1)\n",
    "new_preds1"
   ]
  },
  {
   "cell_type": "code",
   "execution_count": 43,
   "metadata": {},
   "outputs": [
    {
     "data": {
      "text/plain": [
       "array([[0],\n",
       "       [0],\n",
       "       [1],\n",
       "       ...,\n",
       "       [0],\n",
       "       [0],\n",
       "       [0]])"
      ]
     },
     "execution_count": 43,
     "metadata": {},
     "output_type": "execute_result"
    }
   ],
   "source": [
    "test_targets1"
   ]
  },
  {
   "cell_type": "code",
   "execution_count": 44,
   "metadata": {},
   "outputs": [
    {
     "data": {
      "text/plain": [
       "array([0, 0, 1, ..., 0, 0, 0])"
      ]
     },
     "execution_count": 44,
     "metadata": {},
     "output_type": "execute_result"
    }
   ],
   "source": [
    "test_targets1.ravel()       # 위의 것을 평평하게 펴준다."
   ]
  },
  {
   "cell_type": "code",
   "execution_count": 45,
   "metadata": {},
   "outputs": [
    {
     "data": {
      "text/plain": [
       "array([0.5799192 , 0.57999974, 0.56275296, ..., 0.50113624, 0.6097721 ,\n",
       "       0.61397517], dtype=float32)"
      ]
     },
     "execution_count": 45,
     "metadata": {},
     "output_type": "execute_result"
    }
   ],
   "source": [
    "new_preds1.ravel()"
   ]
  },
  {
   "cell_type": "code",
   "execution_count": 46,
   "metadata": {},
   "outputs": [
    {
     "name": "stdout",
     "output_type": "stream",
     "text": [
      "ROC AUC: 0.5696582661485982\n",
      "PR AUC: 0.5891777502648926\n",
      "F1 score: 0.6852955508077515\n",
      "[[0.14469361 0.85530639]\n",
      " [0.09660045 0.90339955]]\n"
     ]
    }
   ],
   "source": [
    "# train:val:test=200:200:37585 썻을 때의 결과\n",
    "auc, pr, f_score = evaluate_preds(test_targets1.ravel(), new_preds1[0].ravel())"
   ]
  },
  {
   "cell_type": "markdown",
   "metadata": {
    "id": "QixY-BBUI5gF"
   },
   "source": [
    "# RF Baseline"
   ]
  },
  {
   "cell_type": "code",
   "execution_count": 47,
   "metadata": {
    "id": "njwB5L3CHKsC"
   },
   "outputs": [],
   "source": [
    "from sklearn.ensemble import RandomForestClassifier"
   ]
  },
  {
   "cell_type": "code",
   "execution_count": 48,
   "metadata": {
    "id": "Qrj8FwroHKmn"
   },
   "outputs": [
    {
     "name": "stdout",
     "output_type": "stream",
     "text": [
      "ROC AUC: 0.5605157349510047\n",
      "PR AUC: 0.585998833308655\n",
      "F1 score: 0.6222583632626325\n",
      "[[0.40860091 0.59139909]\n",
      " [0.31939915 0.68060085]]\n"
     ]
    },
    {
     "data": {
      "text/plain": [
       "(0.5605157349510047, 0.585998833308655, 0.6222583632626325)"
      ]
     },
     "execution_count": 48,
     "metadata": {},
     "output_type": "execute_result"
    }
   ],
   "source": [
    "rf = RandomForestClassifier()\n",
    "\n",
    "rf.fit(features_df.loc[train_pages1.index, :], train_targets1.ravel())   # 노드피쳐와 타겟을 훈련(trainset index맞게)\n",
    "\n",
    "test_preds = rf.predict_proba(features_df.loc[test_pages1.index, :])[:,1]  # 예측(testset index맞게)\n",
    "evaluate_preds(test_targets1.ravel(), test_preds)"
   ]
  },
  {
   "cell_type": "markdown",
   "metadata": {
    "id": "4Rk4uCldLWlB"
   },
   "source": [
    "# Adding More Data"
   ]
  },
  {
   "cell_type": "code",
   "execution_count": 64,
   "metadata": {},
   "outputs": [],
   "source": [
    "# 30000 training examples\n",
    "train_pages, test_pages = train_test_split(targets_df, train_size=30000)\n",
    "val_pages, test_pages = train_test_split(test_pages, train_size=3000)\n",
    "\n",
    "train_targets = target_encoding.fit_transform(train_pages['target'])\n",
    "val_targets = target_encoding.transform(val_pages['target'])\n",
    "test_targets = target_encoding.transform(test_pages['target'])"
   ]
  },
  {
   "cell_type": "code",
   "execution_count": 65,
   "metadata": {},
   "outputs": [
    {
     "name": "stdout",
     "output_type": "stream",
     "text": [
      "Using GCN (local pooling) filters...\n"
     ]
    }
   ],
   "source": [
    "# Initialize the generator\n",
    "generator = FullBatchNodeGenerator(G, method=\"gcn\")\n",
    "\n",
    "# Use the .flow method to prepare it for use with GCN\n",
    "train_gen = generator.flow(train_pages.index, train_targets)\n",
    "val_gen = generator.flow(val_pages.index, val_targets)\n",
    "test_gen = generator.flow(test_pages.index, test_targets)"
   ]
  },
  {
   "cell_type": "code",
   "execution_count": 66,
   "metadata": {},
   "outputs": [],
   "source": [
    "# Build necessary layers\n",
    "gcn = GCN(\n",
    "    layer_sizes=[32,32], activations=[\"relu\", \"relu\"], generator=generator, dropout=0.5\n",
    "    )\n",
    "\n",
    "# Access the input and output tensors\n",
    "x_inp, x_out = gcn.in_out_tensors()\n",
    "\n",
    "# Pass the output tensor through the dense layer with sigmoid\n",
    "predictions = layers.Dense(units=train_targets.shape[1], activation=\"sigmoid\")(x_out)"
   ]
  },
  {
   "cell_type": "code",
   "execution_count": 67,
   "metadata": {},
   "outputs": [
    {
     "name": "stderr",
     "output_type": "stream",
     "text": [
      "C:\\Users\\admin\\anaconda3\\lib\\site-packages\\keras\\optimizer_v2\\optimizer_v2.py:355: UserWarning: The `lr` argument is deprecated, use `learning_rate` instead.\n",
      "  warnings.warn(\n"
     ]
    }
   ],
   "source": [
    "model = Model(inputs=x_inp, outputs=predictions)\n",
    "model.compile(\n",
    "    optimizer = optimizers.Adam(lr=0.01),\n",
    "    loss = losses.binary_crossentropy,\n",
    "    metrics = [\"acc\"]\n",
    ")"
   ]
  },
  {
   "cell_type": "code",
   "execution_count": 68,
   "metadata": {},
   "outputs": [
    {
     "name": "stdout",
     "output_type": "stream",
     "text": [
      "Epoch 1/200\n",
      "1/1 - 1s - loss: 0.6949 - acc: 0.5164 - val_loss: 0.6851 - val_acc: 0.5287\n",
      "Epoch 2/200\n",
      "1/1 - 0s - loss: 0.6916 - acc: 0.5425 - val_loss: 0.6838 - val_acc: 0.5583\n",
      "Epoch 3/200\n",
      "1/1 - 0s - loss: 0.6876 - acc: 0.5453 - val_loss: 0.6839 - val_acc: 0.5663\n",
      "Epoch 4/200\n",
      "1/1 - 0s - loss: 0.6867 - acc: 0.5449 - val_loss: 0.6840 - val_acc: 0.5757\n",
      "Epoch 5/200\n",
      "1/1 - 0s - loss: 0.6852 - acc: 0.5497 - val_loss: 0.6833 - val_acc: 0.5710\n",
      "Epoch 6/200\n",
      "1/1 - 0s - loss: 0.6846 - acc: 0.5530 - val_loss: 0.6825 - val_acc: 0.5657\n",
      "Epoch 7/200\n",
      "1/1 - 0s - loss: 0.6839 - acc: 0.5556 - val_loss: 0.6818 - val_acc: 0.5647\n",
      "Epoch 8/200\n",
      "1/1 - 0s - loss: 0.6833 - acc: 0.5559 - val_loss: 0.6811 - val_acc: 0.5667\n",
      "Epoch 9/200\n",
      "1/1 - 0s - loss: 0.6827 - acc: 0.5589 - val_loss: 0.6804 - val_acc: 0.5680\n",
      "Epoch 10/200\n",
      "1/1 - 0s - loss: 0.6825 - acc: 0.5578 - val_loss: 0.6798 - val_acc: 0.5727\n",
      "Epoch 11/200\n",
      "1/1 - 0s - loss: 0.6820 - acc: 0.5612 - val_loss: 0.6794 - val_acc: 0.5857\n",
      "Epoch 12/200\n",
      "1/1 - 0s - loss: 0.6810 - acc: 0.5625 - val_loss: 0.6791 - val_acc: 0.5880\n",
      "Epoch 13/200\n",
      "1/1 - 0s - loss: 0.6808 - acc: 0.5640 - val_loss: 0.6786 - val_acc: 0.5900\n",
      "Epoch 14/200\n",
      "1/1 - 0s - loss: 0.6818 - acc: 0.5631 - val_loss: 0.6783 - val_acc: 0.5920\n",
      "Epoch 15/200\n",
      "1/1 - 0s - loss: 0.6813 - acc: 0.5645 - val_loss: 0.6780 - val_acc: 0.5830\n",
      "Epoch 16/200\n",
      "1/1 - 0s - loss: 0.6799 - acc: 0.5628 - val_loss: 0.6777 - val_acc: 0.5807\n",
      "Epoch 17/200\n",
      "1/1 - 0s - loss: 0.6805 - acc: 0.5635 - val_loss: 0.6776 - val_acc: 0.5797\n",
      "Epoch 18/200\n",
      "1/1 - 0s - loss: 0.6806 - acc: 0.5632 - val_loss: 0.6776 - val_acc: 0.5703\n",
      "Epoch 19/200\n",
      "1/1 - 0s - loss: 0.6793 - acc: 0.5654 - val_loss: 0.6777 - val_acc: 0.5713\n",
      "Epoch 20/200\n",
      "1/1 - 0s - loss: 0.6798 - acc: 0.5649 - val_loss: 0.6779 - val_acc: 0.5700\n",
      "Epoch 21/200\n",
      "1/1 - 0s - loss: 0.6792 - acc: 0.5691 - val_loss: 0.6781 - val_acc: 0.5750\n",
      "Epoch 22/200\n",
      "1/1 - 0s - loss: 0.6789 - acc: 0.5711 - val_loss: 0.6781 - val_acc: 0.5757\n",
      "Epoch 23/200\n",
      "1/1 - 0s - loss: 0.6775 - acc: 0.5680 - val_loss: 0.6778 - val_acc: 0.5757\n",
      "Epoch 24/200\n",
      "1/1 - 0s - loss: 0.6786 - acc: 0.5706 - val_loss: 0.6775 - val_acc: 0.5800\n",
      "Epoch 25/200\n",
      "1/1 - 0s - loss: 0.6777 - acc: 0.5744 - val_loss: 0.6770 - val_acc: 0.5807\n",
      "Epoch 26/200\n",
      "1/1 - 0s - loss: 0.6782 - acc: 0.5685 - val_loss: 0.6765 - val_acc: 0.5807\n",
      "Epoch 27/200\n",
      "1/1 - 0s - loss: 0.6770 - acc: 0.5711 - val_loss: 0.6761 - val_acc: 0.5820\n",
      "Epoch 28/200\n",
      "1/1 - 0s - loss: 0.6778 - acc: 0.5715 - val_loss: 0.6758 - val_acc: 0.5810\n",
      "Epoch 29/200\n",
      "1/1 - 0s - loss: 0.6775 - acc: 0.5749 - val_loss: 0.6757 - val_acc: 0.5803\n",
      "Epoch 30/200\n",
      "1/1 - 0s - loss: 0.6784 - acc: 0.5703 - val_loss: 0.6758 - val_acc: 0.5817\n",
      "Epoch 31/200\n",
      "1/1 - 0s - loss: 0.6783 - acc: 0.5727 - val_loss: 0.6761 - val_acc: 0.5847\n",
      "Epoch 32/200\n",
      "1/1 - 0s - loss: 0.6778 - acc: 0.5719 - val_loss: 0.6766 - val_acc: 0.5857\n",
      "Epoch 33/200\n",
      "1/1 - 0s - loss: 0.6768 - acc: 0.5692 - val_loss: 0.6770 - val_acc: 0.5827\n",
      "Epoch 34/200\n",
      "1/1 - 0s - loss: 0.6774 - acc: 0.5729 - val_loss: 0.6772 - val_acc: 0.5810\n",
      "Epoch 35/200\n",
      "1/1 - 0s - loss: 0.6774 - acc: 0.5708 - val_loss: 0.6774 - val_acc: 0.5817\n",
      "Epoch 36/200\n",
      "1/1 - 0s - loss: 0.6767 - acc: 0.5692 - val_loss: 0.6775 - val_acc: 0.5830\n",
      "Epoch 37/200\n",
      "1/1 - 0s - loss: 0.6770 - acc: 0.5718 - val_loss: 0.6773 - val_acc: 0.5843\n",
      "Epoch 38/200\n",
      "1/1 - 0s - loss: 0.6766 - acc: 0.5701 - val_loss: 0.6770 - val_acc: 0.5880\n",
      "Epoch 39/200\n",
      "1/1 - 0s - loss: 0.6760 - acc: 0.5743 - val_loss: 0.6766 - val_acc: 0.5877\n",
      "Epoch 40/200\n",
      "1/1 - 0s - loss: 0.6769 - acc: 0.5756 - val_loss: 0.6763 - val_acc: 0.5887\n",
      "Epoch 41/200\n",
      "1/1 - 0s - loss: 0.6762 - acc: 0.5735 - val_loss: 0.6760 - val_acc: 0.5873\n",
      "Epoch 42/200\n",
      "1/1 - 0s - loss: 0.6758 - acc: 0.5749 - val_loss: 0.6757 - val_acc: 0.5887\n",
      "Epoch 43/200\n",
      "1/1 - 0s - loss: 0.6757 - acc: 0.5738 - val_loss: 0.6756 - val_acc: 0.5900\n",
      "Epoch 44/200\n",
      "1/1 - 0s - loss: 0.6771 - acc: 0.5762 - val_loss: 0.6756 - val_acc: 0.5913\n",
      "Epoch 45/200\n",
      "1/1 - 0s - loss: 0.6770 - acc: 0.5721 - val_loss: 0.6757 - val_acc: 0.5913\n",
      "Epoch 46/200\n",
      "1/1 - 0s - loss: 0.6766 - acc: 0.5769 - val_loss: 0.6759 - val_acc: 0.5910\n",
      "Epoch 47/200\n",
      "1/1 - 0s - loss: 0.6764 - acc: 0.5738 - val_loss: 0.6762 - val_acc: 0.5893\n",
      "Epoch 48/200\n",
      "1/1 - 0s - loss: 0.6764 - acc: 0.5715 - val_loss: 0.6765 - val_acc: 0.5890\n",
      "Epoch 49/200\n",
      "1/1 - 0s - loss: 0.6761 - acc: 0.5731 - val_loss: 0.6768 - val_acc: 0.5870\n",
      "Epoch 50/200\n",
      "1/1 - 0s - loss: 0.6771 - acc: 0.5711 - val_loss: 0.6771 - val_acc: 0.5883\n",
      "Epoch 51/200\n",
      "1/1 - 0s - loss: 0.6767 - acc: 0.5718 - val_loss: 0.6773 - val_acc: 0.5890\n",
      "Epoch 52/200\n",
      "1/1 - 0s - loss: 0.6766 - acc: 0.5744 - val_loss: 0.6774 - val_acc: 0.5893\n",
      "Epoch 53/200\n",
      "1/1 - 0s - loss: 0.6767 - acc: 0.5771 - val_loss: 0.6775 - val_acc: 0.5883\n",
      "Epoch 54/200\n",
      "1/1 - 0s - loss: 0.6762 - acc: 0.5718 - val_loss: 0.6775 - val_acc: 0.5890\n",
      "Epoch 55/200\n",
      "1/1 - 0s - loss: 0.6771 - acc: 0.5713 - val_loss: 0.6774 - val_acc: 0.5917\n",
      "Epoch 56/200\n",
      "1/1 - 0s - loss: 0.6765 - acc: 0.5758 - val_loss: 0.6773 - val_acc: 0.5920\n",
      "Epoch 57/200\n",
      "1/1 - 0s - loss: 0.6766 - acc: 0.5726 - val_loss: 0.6771 - val_acc: 0.5913\n",
      "Epoch 58/200\n",
      "1/1 - 0s - loss: 0.6754 - acc: 0.5752 - val_loss: 0.6769 - val_acc: 0.5910\n",
      "Epoch 59/200\n",
      "1/1 - 0s - loss: 0.6750 - acc: 0.5778 - val_loss: 0.6767 - val_acc: 0.5910\n",
      "Epoch 60/200\n",
      "1/1 - 0s - loss: 0.6749 - acc: 0.5751 - val_loss: 0.6765 - val_acc: 0.5910\n",
      "Epoch 61/200\n",
      "1/1 - 0s - loss: 0.6759 - acc: 0.5751 - val_loss: 0.6764 - val_acc: 0.5913\n",
      "Epoch 62/200\n",
      "1/1 - 0s - loss: 0.6769 - acc: 0.5726 - val_loss: 0.6765 - val_acc: 0.5913\n",
      "Epoch 63/200\n",
      "1/1 - 0s - loss: 0.6764 - acc: 0.5733 - val_loss: 0.6767 - val_acc: 0.5890\n",
      "Epoch 64/200\n",
      "1/1 - 0s - loss: 0.6753 - acc: 0.5752 - val_loss: 0.6769 - val_acc: 0.5893\n",
      "Epoch 65/200\n",
      "1/1 - 0s - loss: 0.6755 - acc: 0.5761 - val_loss: 0.6771 - val_acc: 0.5890\n",
      "Epoch 66/200\n",
      "1/1 - 0s - loss: 0.6767 - acc: 0.5730 - val_loss: 0.6773 - val_acc: 0.5897\n",
      "Epoch 67/200\n",
      "1/1 - 0s - loss: 0.6752 - acc: 0.5768 - val_loss: 0.6773 - val_acc: 0.5917\n",
      "Epoch 68/200\n",
      "1/1 - 0s - loss: 0.6769 - acc: 0.5713 - val_loss: 0.6773 - val_acc: 0.5903\n",
      "Epoch 69/200\n",
      "1/1 - 0s - loss: 0.6765 - acc: 0.5725 - val_loss: 0.6774 - val_acc: 0.5893\n",
      "Epoch 70/200\n",
      "1/1 - 0s - loss: 0.6754 - acc: 0.5765 - val_loss: 0.6772 - val_acc: 0.5887\n",
      "Epoch 71/200\n",
      "1/1 - 0s - loss: 0.6758 - acc: 0.5766 - val_loss: 0.6770 - val_acc: 0.5883\n",
      "Epoch 72/200\n",
      "1/1 - 0s - loss: 0.6754 - acc: 0.5737 - val_loss: 0.6767 - val_acc: 0.5877\n",
      "Epoch 73/200\n",
      "1/1 - 0s - loss: 0.6742 - acc: 0.5763 - val_loss: 0.6763 - val_acc: 0.5903\n",
      "Epoch 74/200\n",
      "1/1 - 0s - loss: 0.6752 - acc: 0.5772 - val_loss: 0.6760 - val_acc: 0.5907\n",
      "Epoch 75/200\n",
      "1/1 - 0s - loss: 0.6758 - acc: 0.5744 - val_loss: 0.6759 - val_acc: 0.5910\n",
      "Epoch 76/200\n",
      "1/1 - 0s - loss: 0.6747 - acc: 0.5764 - val_loss: 0.6758 - val_acc: 0.5930\n",
      "Epoch 77/200\n",
      "1/1 - 0s - loss: 0.6761 - acc: 0.5741 - val_loss: 0.6759 - val_acc: 0.5950\n",
      "Epoch 78/200\n",
      "1/1 - 0s - loss: 0.6750 - acc: 0.5747 - val_loss: 0.6761 - val_acc: 0.5940\n",
      "Epoch 79/200\n",
      "1/1 - 0s - loss: 0.6753 - acc: 0.5745 - val_loss: 0.6763 - val_acc: 0.5937\n",
      "Epoch 80/200\n",
      "1/1 - 0s - loss: 0.6749 - acc: 0.5746 - val_loss: 0.6766 - val_acc: 0.5897\n",
      "Epoch 81/200\n",
      "1/1 - 0s - loss: 0.6768 - acc: 0.5729 - val_loss: 0.6771 - val_acc: 0.5893\n",
      "Epoch 82/200\n",
      "1/1 - 0s - loss: 0.6751 - acc: 0.5767 - val_loss: 0.6776 - val_acc: 0.5897\n",
      "Epoch 83/200\n",
      "1/1 - 0s - loss: 0.6748 - acc: 0.5747 - val_loss: 0.6777 - val_acc: 0.5897\n",
      "Epoch 84/200\n",
      "1/1 - 0s - loss: 0.6751 - acc: 0.5761 - val_loss: 0.6778 - val_acc: 0.5897\n",
      "Epoch 85/200\n",
      "1/1 - 0s - loss: 0.6751 - acc: 0.5768 - val_loss: 0.6776 - val_acc: 0.5910\n",
      "Epoch 86/200\n",
      "1/1 - 0s - loss: 0.6753 - acc: 0.5769 - val_loss: 0.6775 - val_acc: 0.5907\n",
      "Epoch 87/200\n",
      "1/1 - 0s - loss: 0.6757 - acc: 0.5764 - val_loss: 0.6773 - val_acc: 0.5890\n",
      "Epoch 88/200\n",
      "1/1 - 0s - loss: 0.6761 - acc: 0.5750 - val_loss: 0.6773 - val_acc: 0.5890\n",
      "Epoch 89/200\n",
      "1/1 - 0s - loss: 0.6760 - acc: 0.5779 - val_loss: 0.6772 - val_acc: 0.5887\n",
      "Epoch 90/200\n",
      "1/1 - 0s - loss: 0.6761 - acc: 0.5739 - val_loss: 0.6772 - val_acc: 0.5900\n",
      "Epoch 91/200\n",
      "1/1 - 0s - loss: 0.6755 - acc: 0.5747 - val_loss: 0.6772 - val_acc: 0.5900\n",
      "Epoch 92/200\n",
      "1/1 - 0s - loss: 0.6760 - acc: 0.5708 - val_loss: 0.6773 - val_acc: 0.5870\n",
      "Epoch 93/200\n",
      "1/1 - 0s - loss: 0.6733 - acc: 0.5787 - val_loss: 0.6772 - val_acc: 0.5907\n",
      "Epoch 94/200\n",
      "1/1 - 0s - loss: 0.6739 - acc: 0.5789 - val_loss: 0.6770 - val_acc: 0.5913\n",
      "Epoch 95/200\n",
      "1/1 - 0s - loss: 0.6757 - acc: 0.5752 - val_loss: 0.6769 - val_acc: 0.5923\n",
      "Epoch 96/200\n",
      "1/1 - 0s - loss: 0.6744 - acc: 0.5758 - val_loss: 0.6768 - val_acc: 0.5950\n",
      "Epoch 97/200\n",
      "1/1 - 0s - loss: 0.6746 - acc: 0.5760 - val_loss: 0.6767 - val_acc: 0.5953\n",
      "Epoch 98/200\n",
      "1/1 - 0s - loss: 0.6754 - acc: 0.5738 - val_loss: 0.6767 - val_acc: 0.5953\n",
      "Epoch 99/200\n",
      "1/1 - 0s - loss: 0.6752 - acc: 0.5760 - val_loss: 0.6768 - val_acc: 0.5953\n",
      "Epoch 100/200\n",
      "1/1 - 0s - loss: 0.6752 - acc: 0.5792 - val_loss: 0.6770 - val_acc: 0.5943\n",
      "Epoch 101/200\n",
      "1/1 - 0s - loss: 0.6752 - acc: 0.5790 - val_loss: 0.6772 - val_acc: 0.5933\n",
      "Epoch 102/200\n",
      "1/1 - 0s - loss: 0.6742 - acc: 0.5761 - val_loss: 0.6774 - val_acc: 0.5907\n",
      "Epoch 103/200\n",
      "1/1 - 0s - loss: 0.6740 - acc: 0.5769 - val_loss: 0.6775 - val_acc: 0.5903\n",
      "Epoch 104/200\n",
      "1/1 - 0s - loss: 0.6750 - acc: 0.5768 - val_loss: 0.6776 - val_acc: 0.5887\n",
      "Epoch 105/200\n",
      "1/1 - 0s - loss: 0.6758 - acc: 0.5728 - val_loss: 0.6777 - val_acc: 0.5910\n",
      "Epoch 106/200\n",
      "1/1 - 0s - loss: 0.6751 - acc: 0.5755 - val_loss: 0.6778 - val_acc: 0.5897\n",
      "Epoch 107/200\n",
      "1/1 - 0s - loss: 0.6751 - acc: 0.5737 - val_loss: 0.6780 - val_acc: 0.5883\n",
      "Epoch 108/200\n",
      "1/1 - 0s - loss: 0.6763 - acc: 0.5734 - val_loss: 0.6782 - val_acc: 0.5873\n",
      "Epoch 109/200\n",
      "1/1 - 0s - loss: 0.6748 - acc: 0.5766 - val_loss: 0.6783 - val_acc: 0.5867\n",
      "Epoch 110/200\n",
      "1/1 - 0s - loss: 0.6737 - acc: 0.5804 - val_loss: 0.6780 - val_acc: 0.5870\n",
      "Epoch 111/200\n",
      "1/1 - 0s - loss: 0.6758 - acc: 0.5749 - val_loss: 0.6778 - val_acc: 0.5873\n",
      "Epoch 112/200\n",
      "1/1 - 0s - loss: 0.6745 - acc: 0.5762 - val_loss: 0.6774 - val_acc: 0.5897\n",
      "Epoch 113/200\n",
      "1/1 - 0s - loss: 0.6748 - acc: 0.5763 - val_loss: 0.6772 - val_acc: 0.5890\n",
      "Epoch 114/200\n",
      "1/1 - 0s - loss: 0.6743 - acc: 0.5763 - val_loss: 0.6769 - val_acc: 0.5943\n",
      "Epoch 115/200\n",
      "1/1 - 0s - loss: 0.6745 - acc: 0.5776 - val_loss: 0.6768 - val_acc: 0.5960\n",
      "Epoch 116/200\n",
      "1/1 - 0s - loss: 0.6745 - acc: 0.5770 - val_loss: 0.6767 - val_acc: 0.5977\n",
      "Epoch 117/200\n",
      "1/1 - 0s - loss: 0.6754 - acc: 0.5739 - val_loss: 0.6769 - val_acc: 0.6007\n",
      "Epoch 118/200\n",
      "1/1 - 0s - loss: 0.6747 - acc: 0.5729 - val_loss: 0.6771 - val_acc: 0.5987\n",
      "Epoch 119/200\n",
      "1/1 - 0s - loss: 0.6752 - acc: 0.5741 - val_loss: 0.6774 - val_acc: 0.5950\n",
      "Epoch 120/200\n",
      "1/1 - 0s - loss: 0.6753 - acc: 0.5766 - val_loss: 0.6776 - val_acc: 0.5860\n",
      "Epoch 121/200\n",
      "1/1 - 0s - loss: 0.6737 - acc: 0.5800 - val_loss: 0.6777 - val_acc: 0.5887\n",
      "Epoch 122/200\n",
      "1/1 - 0s - loss: 0.6757 - acc: 0.5729 - val_loss: 0.6777 - val_acc: 0.5870\n",
      "Epoch 123/200\n",
      "1/1 - 0s - loss: 0.6768 - acc: 0.5711 - val_loss: 0.6778 - val_acc: 0.5870\n",
      "Epoch 124/200\n",
      "1/1 - 0s - loss: 0.6739 - acc: 0.5762 - val_loss: 0.6777 - val_acc: 0.5907\n",
      "Epoch 125/200\n",
      "1/1 - 0s - loss: 0.6750 - acc: 0.5749 - val_loss: 0.6774 - val_acc: 0.5943\n",
      "Epoch 126/200\n",
      "1/1 - 0s - loss: 0.6744 - acc: 0.5770 - val_loss: 0.6771 - val_acc: 0.5963\n",
      "Epoch 127/200\n",
      "1/1 - 0s - loss: 0.6744 - acc: 0.5757 - val_loss: 0.6768 - val_acc: 0.5907\n",
      "Epoch 128/200\n",
      "1/1 - 0s - loss: 0.6736 - acc: 0.5793 - val_loss: 0.6764 - val_acc: 0.5900\n",
      "Epoch 129/200\n",
      "1/1 - 0s - loss: 0.6755 - acc: 0.5736 - val_loss: 0.6764 - val_acc: 0.5890\n",
      "Epoch 130/200\n",
      "1/1 - 0s - loss: 0.6759 - acc: 0.5729 - val_loss: 0.6767 - val_acc: 0.5890\n",
      "Epoch 131/200\n",
      "1/1 - 0s - loss: 0.6766 - acc: 0.5733 - val_loss: 0.6772 - val_acc: 0.5860\n",
      "Epoch 132/200\n",
      "1/1 - 0s - loss: 0.6753 - acc: 0.5772 - val_loss: 0.6777 - val_acc: 0.5863\n",
      "Epoch 133/200\n",
      "1/1 - 0s - loss: 0.6766 - acc: 0.5751 - val_loss: 0.6783 - val_acc: 0.5787\n",
      "Epoch 134/200\n",
      "1/1 - 0s - loss: 0.6748 - acc: 0.5758 - val_loss: 0.6786 - val_acc: 0.5787\n",
      "Epoch 135/200\n",
      "1/1 - 0s - loss: 0.6758 - acc: 0.5752 - val_loss: 0.6786 - val_acc: 0.5760\n",
      "Epoch 136/200\n",
      "1/1 - 0s - loss: 0.6746 - acc: 0.5768 - val_loss: 0.6784 - val_acc: 0.5783\n",
      "Epoch 137/200\n",
      "1/1 - 0s - loss: 0.6752 - acc: 0.5752 - val_loss: 0.6780 - val_acc: 0.5787\n",
      "Epoch 138/200\n",
      "1/1 - 0s - loss: 0.6746 - acc: 0.5732 - val_loss: 0.6775 - val_acc: 0.5867\n",
      "Epoch 139/200\n",
      "1/1 - 0s - loss: 0.6745 - acc: 0.5773 - val_loss: 0.6770 - val_acc: 0.5887\n",
      "Epoch 140/200\n",
      "1/1 - 0s - loss: 0.6755 - acc: 0.5773 - val_loss: 0.6767 - val_acc: 0.5933\n",
      "Epoch 141/200\n",
      "1/1 - 0s - loss: 0.6747 - acc: 0.5741 - val_loss: 0.6765 - val_acc: 0.5947\n",
      "Epoch 142/200\n",
      "1/1 - 0s - loss: 0.6744 - acc: 0.5754 - val_loss: 0.6764 - val_acc: 0.5937\n",
      "Epoch 143/200\n",
      "1/1 - 0s - loss: 0.6756 - acc: 0.5746 - val_loss: 0.6765 - val_acc: 0.5950\n",
      "Epoch 144/200\n",
      "1/1 - 0s - loss: 0.6743 - acc: 0.5765 - val_loss: 0.6766 - val_acc: 0.5957\n",
      "Epoch 145/200\n",
      "1/1 - 0s - loss: 0.6751 - acc: 0.5749 - val_loss: 0.6769 - val_acc: 0.5947\n",
      "Epoch 146/200\n",
      "1/1 - 0s - loss: 0.6754 - acc: 0.5724 - val_loss: 0.6771 - val_acc: 0.5937\n",
      "Epoch 147/200\n",
      "1/1 - 0s - loss: 0.6747 - acc: 0.5731 - val_loss: 0.6773 - val_acc: 0.5933\n",
      "Epoch 148/200\n",
      "1/1 - 0s - loss: 0.6744 - acc: 0.5802 - val_loss: 0.6775 - val_acc: 0.5903\n",
      "Epoch 149/200\n",
      "1/1 - 0s - loss: 0.6753 - acc: 0.5718 - val_loss: 0.6777 - val_acc: 0.5877\n",
      "Epoch 150/200\n",
      "1/1 - 0s - loss: 0.6754 - acc: 0.5760 - val_loss: 0.6778 - val_acc: 0.5870\n",
      "Epoch 151/200\n",
      "1/1 - 0s - loss: 0.6741 - acc: 0.5756 - val_loss: 0.6777 - val_acc: 0.5867\n",
      "Epoch 152/200\n",
      "1/1 - 0s - loss: 0.6758 - acc: 0.5744 - val_loss: 0.6777 - val_acc: 0.5880\n",
      "Epoch 153/200\n",
      "1/1 - 0s - loss: 0.6754 - acc: 0.5729 - val_loss: 0.6778 - val_acc: 0.5903\n",
      "Epoch 154/200\n",
      "1/1 - 0s - loss: 0.6736 - acc: 0.5778 - val_loss: 0.6776 - val_acc: 0.5903\n",
      "Epoch 155/200\n",
      "1/1 - 0s - loss: 0.6740 - acc: 0.5773 - val_loss: 0.6772 - val_acc: 0.5913\n",
      "Epoch 156/200\n",
      "1/1 - 0s - loss: 0.6747 - acc: 0.5727 - val_loss: 0.6771 - val_acc: 0.5910\n",
      "Epoch 157/200\n",
      "1/1 - 0s - loss: 0.6746 - acc: 0.5753 - val_loss: 0.6769 - val_acc: 0.5903\n",
      "Epoch 158/200\n",
      "1/1 - 0s - loss: 0.6743 - acc: 0.5762 - val_loss: 0.6767 - val_acc: 0.5943\n",
      "Epoch 159/200\n",
      "1/1 - 0s - loss: 0.6753 - acc: 0.5771 - val_loss: 0.6766 - val_acc: 0.5943\n",
      "Epoch 160/200\n",
      "1/1 - 0s - loss: 0.6737 - acc: 0.5784 - val_loss: 0.6765 - val_acc: 0.5917\n",
      "Epoch 161/200\n",
      "1/1 - 0s - loss: 0.6763 - acc: 0.5753 - val_loss: 0.6767 - val_acc: 0.5920\n",
      "Epoch 162/200\n",
      "1/1 - 0s - loss: 0.6737 - acc: 0.5779 - val_loss: 0.6769 - val_acc: 0.5877\n",
      "Epoch 163/200\n",
      "1/1 - 0s - loss: 0.6750 - acc: 0.5757 - val_loss: 0.6771 - val_acc: 0.5877\n",
      "Epoch 164/200\n",
      "1/1 - 0s - loss: 0.6742 - acc: 0.5757 - val_loss: 0.6773 - val_acc: 0.5870\n",
      "Epoch 165/200\n",
      "1/1 - 0s - loss: 0.6745 - acc: 0.5741 - val_loss: 0.6774 - val_acc: 0.5860\n",
      "Epoch 166/200\n",
      "1/1 - 0s - loss: 0.6750 - acc: 0.5730 - val_loss: 0.6775 - val_acc: 0.5867\n",
      "Epoch 167/200\n",
      "1/1 - 0s - loss: 0.6746 - acc: 0.5776 - val_loss: 0.6775 - val_acc: 0.5867\n",
      "Epoch 168/200\n",
      "1/1 - 0s - loss: 0.6746 - acc: 0.5774 - val_loss: 0.6774 - val_acc: 0.5857\n",
      "Epoch 169/200\n",
      "1/1 - 0s - loss: 0.6757 - acc: 0.5763 - val_loss: 0.6773 - val_acc: 0.5850\n",
      "Epoch 170/200\n",
      "1/1 - 0s - loss: 0.6739 - acc: 0.5781 - val_loss: 0.6770 - val_acc: 0.5883\n",
      "Epoch 171/200\n",
      "1/1 - 0s - loss: 0.6750 - acc: 0.5764 - val_loss: 0.6768 - val_acc: 0.5943\n",
      "Epoch 172/200\n",
      "1/1 - 0s - loss: 0.6739 - acc: 0.5767 - val_loss: 0.6765 - val_acc: 0.5933\n",
      "Epoch 173/200\n",
      "1/1 - 0s - loss: 0.6743 - acc: 0.5764 - val_loss: 0.6765 - val_acc: 0.5933\n",
      "Epoch 174/200\n",
      "1/1 - 0s - loss: 0.6742 - acc: 0.5785 - val_loss: 0.6765 - val_acc: 0.5933\n",
      "Epoch 175/200\n",
      "1/1 - 0s - loss: 0.6754 - acc: 0.5746 - val_loss: 0.6767 - val_acc: 0.5930\n",
      "Epoch 176/200\n",
      "1/1 - 0s - loss: 0.6751 - acc: 0.5750 - val_loss: 0.6770 - val_acc: 0.5950\n",
      "Epoch 177/200\n",
      "1/1 - 0s - loss: 0.6741 - acc: 0.5775 - val_loss: 0.6773 - val_acc: 0.5953\n",
      "Epoch 178/200\n",
      "1/1 - 0s - loss: 0.6751 - acc: 0.5738 - val_loss: 0.6775 - val_acc: 0.5937\n",
      "Epoch 179/200\n",
      "1/1 - 0s - loss: 0.6750 - acc: 0.5754 - val_loss: 0.6777 - val_acc: 0.5943\n",
      "Epoch 180/200\n",
      "1/1 - 0s - loss: 0.6749 - acc: 0.5765 - val_loss: 0.6778 - val_acc: 0.5947\n",
      "Epoch 181/200\n",
      "1/1 - 0s - loss: 0.6754 - acc: 0.5726 - val_loss: 0.6780 - val_acc: 0.5920\n",
      "Epoch 182/200\n",
      "1/1 - 0s - loss: 0.6746 - acc: 0.5739 - val_loss: 0.6782 - val_acc: 0.5893\n",
      "Epoch 183/200\n",
      "1/1 - 0s - loss: 0.6745 - acc: 0.5732 - val_loss: 0.6782 - val_acc: 0.5873\n",
      "Epoch 184/200\n",
      "1/1 - 0s - loss: 0.6754 - acc: 0.5725 - val_loss: 0.6782 - val_acc: 0.5860\n",
      "Epoch 185/200\n",
      "1/1 - 0s - loss: 0.6743 - acc: 0.5748 - val_loss: 0.6780 - val_acc: 0.5860\n",
      "Epoch 186/200\n",
      "1/1 - 0s - loss: 0.6733 - acc: 0.5794 - val_loss: 0.6775 - val_acc: 0.5877\n",
      "Epoch 187/200\n",
      "1/1 - 0s - loss: 0.6761 - acc: 0.5703 - val_loss: 0.6772 - val_acc: 0.5873\n",
      "Epoch 188/200\n",
      "1/1 - 0s - loss: 0.6733 - acc: 0.5794 - val_loss: 0.6768 - val_acc: 0.5890\n",
      "Epoch 189/200\n",
      "1/1 - 0s - loss: 0.6749 - acc: 0.5747 - val_loss: 0.6766 - val_acc: 0.5873\n",
      "Epoch 190/200\n",
      "1/1 - 0s - loss: 0.6736 - acc: 0.5759 - val_loss: 0.6766 - val_acc: 0.5897\n",
      "Epoch 191/200\n",
      "1/1 - 0s - loss: 0.6748 - acc: 0.5767 - val_loss: 0.6767 - val_acc: 0.5897\n",
      "Epoch 192/200\n",
      "1/1 - 0s - loss: 0.6742 - acc: 0.5783 - val_loss: 0.6768 - val_acc: 0.5897\n",
      "Epoch 193/200\n",
      "1/1 - 0s - loss: 0.6743 - acc: 0.5787 - val_loss: 0.6770 - val_acc: 0.5903\n",
      "Epoch 194/200\n",
      "1/1 - 0s - loss: 0.6749 - acc: 0.5722 - val_loss: 0.6773 - val_acc: 0.5900\n",
      "Epoch 195/200\n",
      "1/1 - 0s - loss: 0.6753 - acc: 0.5748 - val_loss: 0.6776 - val_acc: 0.5883\n",
      "Epoch 196/200\n",
      "1/1 - 0s - loss: 0.6739 - acc: 0.5771 - val_loss: 0.6777 - val_acc: 0.5867\n",
      "Epoch 197/200\n",
      "1/1 - 0s - loss: 0.6757 - acc: 0.5712 - val_loss: 0.6777 - val_acc: 0.5827\n",
      "Epoch 198/200\n",
      "1/1 - 0s - loss: 0.6749 - acc: 0.5747 - val_loss: 0.6777 - val_acc: 0.5773\n",
      "Epoch 199/200\n",
      "1/1 - 0s - loss: 0.6743 - acc: 0.5756 - val_loss: 0.6775 - val_acc: 0.5837\n",
      "Epoch 200/200\n",
      "1/1 - 0s - loss: 0.6767 - acc: 0.5707 - val_loss: 0.6776 - val_acc: 0.5857\n"
     ]
    }
   ],
   "source": [
    "history = model.fit(\n",
    "    train_gen,\n",
    "    epochs = 200,\n",
    "    validation_data = val_gen,\n",
    "    verbose = 2,\n",
    "    shuffle=False,         # True: 그래프 전체를 섞는다는 의미\n",
    "#     callbacks=[es_callback]\n",
    ")"
   ]
  },
  {
   "cell_type": "code",
   "execution_count": 69,
   "metadata": {},
   "outputs": [],
   "source": [
    "new_preds = model.predict(test_gen)"
   ]
  },
  {
   "cell_type": "code",
   "execution_count": 70,
   "metadata": {},
   "outputs": [
    {
     "name": "stdout",
     "output_type": "stream",
     "text": [
      "ROC AUC: 0.6134569335201855\n",
      "PR AUC: 0.6269593592691354\n",
      "F1 score: 0.6776123983427957\n",
      "[[0.29302124 0.70697876]\n",
      " [0.17550411 0.82449589]]\n"
     ]
    }
   ],
   "source": [
    "# train:val:test=30000:3000:4985 썻을 때의 결과\n",
    "auc, pr, f_score = evaluate_preds(test_targets.ravel(), new_preds[0].ravel())"
   ]
  },
  {
   "cell_type": "markdown",
   "metadata": {},
   "source": [
    "성능을 높이기 위해 데이터를 조금 더 추가하거나 epoch를 더 늘릴 여지가 있다."
   ]
  }
 ],
 "metadata": {
  "colab": {
   "collapsed_sections": [],
   "name": "GitHub_User_Classification_using_GCN.ipynb",
   "provenance": []
  },
  "kernelspec": {
   "display_name": "Python 3 (ipykernel)",
   "language": "python",
   "name": "python3"
  },
  "language_info": {
   "codemirror_mode": {
    "name": "ipython",
    "version": 3
   },
   "file_extension": ".py",
   "mimetype": "text/x-python",
   "name": "python",
   "nbconvert_exporter": "python",
   "pygments_lexer": "ipython3",
   "version": "3.9.7"
  }
 },
 "nbformat": 4,
 "nbformat_minor": 1
}
