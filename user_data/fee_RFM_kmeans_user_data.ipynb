{
  "cells": [
    {
      "cell_type": "markdown",
      "metadata": {
        "id": "view-in-github",
        "colab_type": "text"
      },
      "source": [
        "<a href=\"https://colab.research.google.com/github/lala991204/AI-based-financial-data-analysis/blob/master/user_data/fee_RFM_kmeans_user_data.ipynb\" target=\"_parent\"><img src=\"https://colab.research.google.com/assets/colab-badge.svg\" alt=\"Open In Colab\"/></a>"
      ]
    },
    {
      "cell_type": "code",
      "execution_count": null,
      "metadata": {
        "id": "03ac_KJ4KWhv"
      },
      "outputs": [],
      "source": [
        "import numpy as np\n",
        "import pandas as pd\n",
        "import matplotlib.pyplot as plt"
      ]
    },
    {
      "cell_type": "code",
      "execution_count": null,
      "metadata": {
        "id": "sHIEJFzhKXGA"
      },
      "outputs": [],
      "source": [
        "user_df1 = pd.read_csv(\"/content/drive/MyDrive/Colab Notebooks/user_data/data/MLRD_UserData_20220120.csv\", encoding='cp949')\n",
        "user_df1"
      ]
    },
    {
      "cell_type": "code",
      "execution_count": null,
      "metadata": {
        "id": "7_a7mZQ2LYdx"
      },
      "outputs": [],
      "source": [
        "user_df1.info()"
      ]
    },
    {
      "cell_type": "code",
      "execution_count": null,
      "metadata": {
        "id": "ggDInWBPb14C"
      },
      "outputs": [],
      "source": [
        "user_df11 = user_df1[['user_id', 'no_of_days_since_last_trade', 'total_no_of_trade_times', 'fee_total_usdt_since_signup']]\n",
        "user_df11"
      ]
    },
    {
      "cell_type": "code",
      "execution_count": null,
      "metadata": {
        "id": "VkNZqMRGlhkb"
      },
      "outputs": [],
      "source": [
        "user_df12 = user_df1[['user_id', 'no_of_days_since_last_trade', 'total_no_of_trade_times', 'accumulative_trading_amount_in_usdt']]\n",
        "user_df12"
      ]
    },
    {
      "cell_type": "code",
      "execution_count": null,
      "metadata": {
        "colab": {
          "base_uri": "https://localhost:8080/"
        },
        "id": "WFtOncMiLvxB",
        "outputId": "4ec3bf8e-47f5-4a64-95f5-d0fc3fb1b470"
      },
      "outputs": [
        {
          "name": "stdout",
          "output_type": "stream",
          "text": [
            "<class 'pandas.core.frame.DataFrame'>\n",
            "Int64Index: 85859 entries, 1 to 371191\n",
            "Data columns (total 4 columns):\n",
            " #   Column                       Non-Null Count  Dtype  \n",
            "---  ------                       --------------  -----  \n",
            " 0   user_id                      85859 non-null  int64  \n",
            " 1   no_of_days_since_last_trade  85859 non-null  float64\n",
            " 2   total_no_of_trade_times      85859 non-null  float64\n",
            " 3   fee_total_usdt_since_signup  85859 non-null  float64\n",
            "dtypes: float64(3), int64(1)\n",
            "memory usage: 3.3 MB\n"
          ]
        }
      ],
      "source": [
        "# user_df = user_df1.dropna(axis=0)        \n",
        "# user_df.info()\n",
        "\n",
        "# 세 개의 컬럼에 대해 결측치 행 모두 제거\n",
        "user_df = user_df11.dropna(axis=0)\n",
        "user_df.info()"
      ]
    },
    {
      "cell_type": "code",
      "execution_count": null,
      "metadata": {
        "colab": {
          "base_uri": "https://localhost:8080/"
        },
        "id": "jBbSMPPolrT3",
        "outputId": "42007b9c-1092-4d50-e17a-bf723a516cba"
      },
      "outputs": [
        {
          "name": "stdout",
          "output_type": "stream",
          "text": [
            "<class 'pandas.core.frame.DataFrame'>\n",
            "Int64Index: 85859 entries, 1 to 371191\n",
            "Data columns (total 4 columns):\n",
            " #   Column                               Non-Null Count  Dtype  \n",
            "---  ------                               --------------  -----  \n",
            " 0   user_id                              85859 non-null  int64  \n",
            " 1   no_of_days_since_last_trade          85859 non-null  float64\n",
            " 2   total_no_of_trade_times              85859 non-null  float64\n",
            " 3   accumulative_trading_amount_in_usdt  85859 non-null  float64\n",
            "dtypes: float64(3), int64(1)\n",
            "memory usage: 3.3 MB\n"
          ]
        }
      ],
      "source": [
        "user_df_old = user_df12.dropna(axis=0)\n",
        "user_df_old.info()"
      ]
    },
    {
      "cell_type": "code",
      "execution_count": null,
      "metadata": {
        "id": "S0KkBBtpKoMa"
      },
      "outputs": [],
      "source": [
        "rfm_df1 = pd.DataFrame()\n",
        "rfm_df1['CustomerID'] = user_df['user_id']\n",
        "rfm_df1['Recency'] = user_df['no_of_days_since_last_trade']            # 최근 거래 후 몇일 지났는지\n",
        "rfm_df1['Frequency'] = user_df['total_no_of_trade_times']              # 거래 총 수\n",
        "rfm_df1['Monetary'] = user_df['fee_total_usdt_since_signup']           # 가입 후 수수료 총 액\n",
        "rfm_df1"
      ]
    },
    {
      "cell_type": "code",
      "execution_count": null,
      "metadata": {
        "id": "zDasqKKtlyBI"
      },
      "outputs": [],
      "source": [
        "rfm_df22 = pd.DataFrame()\n",
        "rfm_df22['CustomerID'] = user_df_old['user_id']\n",
        "rfm_df22['Recency'] = user_df_old['no_of_days_since_last_trade']            # 최근 거래 후 몇일 지났는지\n",
        "rfm_df22['Frequency'] = user_df_old['total_no_of_trade_times']              # 거래 총 수\n",
        "rfm_df22['Monetary'] = user_df_old['accumulative_trading_amount_in_usdt']           # 가입 후 수수료 총 액\n",
        "rfm_df22"
      ]
    },
    {
      "cell_type": "code",
      "execution_count": null,
      "metadata": {
        "id": "AeY_Np3GNKZB"
      },
      "outputs": [],
      "source": [
        "rfm_df2 = rfm_df1.reset_index()\n",
        "rfm_df = rfm_df2.drop('index', axis=1)\n",
        "rfm_df"
      ]
    },
    {
      "cell_type": "code",
      "execution_count": null,
      "metadata": {
        "id": "7rPmvFTMmGZX"
      },
      "outputs": [],
      "source": [
        "rfm_df222 = rfm_df22.reset_index()\n",
        "rfm_df_old = rfm_df222.drop('index', axis=1)\n",
        "rfm_df_old"
      ]
    },
    {
      "cell_type": "code",
      "execution_count": null,
      "metadata": {
        "colab": {
          "base_uri": "https://localhost:8080/"
        },
        "id": "8cEkmY02Kyp_",
        "outputId": "ea5ee267-4aed-4030-b3ae-3958a75c547e"
      },
      "outputs": [
        {
          "name": "stdout",
          "output_type": "stream",
          "text": [
            "<class 'pandas.core.frame.DataFrame'>\n",
            "RangeIndex: 85859 entries, 0 to 85858\n",
            "Data columns (total 4 columns):\n",
            " #   Column      Non-Null Count  Dtype  \n",
            "---  ------      --------------  -----  \n",
            " 0   CustomerID  85859 non-null  int64  \n",
            " 1   Recency     85859 non-null  float64\n",
            " 2   Frequency   85859 non-null  float64\n",
            " 3   Monetary    85859 non-null  float64\n",
            "dtypes: float64(3), int64(1)\n",
            "memory usage: 2.6 MB\n"
          ]
        }
      ],
      "source": [
        "rfm_df.info()"
      ]
    },
    {
      "cell_type": "code",
      "execution_count": null,
      "metadata": {
        "colab": {
          "base_uri": "https://localhost:8080/"
        },
        "id": "QmRlWWWumMmZ",
        "outputId": "86133f18-dad6-4df0-ad9f-4de02092d5fc"
      },
      "outputs": [
        {
          "name": "stdout",
          "output_type": "stream",
          "text": [
            "<class 'pandas.core.frame.DataFrame'>\n",
            "RangeIndex: 85859 entries, 0 to 85858\n",
            "Data columns (total 4 columns):\n",
            " #   Column      Non-Null Count  Dtype  \n",
            "---  ------      --------------  -----  \n",
            " 0   CustomerID  85859 non-null  int64  \n",
            " 1   Recency     85859 non-null  float64\n",
            " 2   Frequency   85859 non-null  float64\n",
            " 3   Monetary    85859 non-null  float64\n",
            "dtypes: float64(3), int64(1)\n",
            "memory usage: 2.6 MB\n"
          ]
        }
      ],
      "source": [
        "rfm_df_old.info()"
      ]
    },
    {
      "cell_type": "code",
      "execution_count": null,
      "metadata": {
        "id": "OB4ZWwXDVU2D"
      },
      "outputs": [],
      "source": [
        "rfm_df_new = rfm_df[rfm_df['Monetary']>0]\n",
        "rfm_df_new"
      ]
    },
    {
      "cell_type": "code",
      "execution_count": null,
      "metadata": {
        "id": "e-hEDfWfPLEt"
      },
      "outputs": [],
      "source": [
        "fig, (ax1, ax2, ax3) = plt.subplots(figsize=(12,4), nrows=1, ncols=3)\n",
        "ax1.set_title('Recency Histogram')\n",
        "ax1.hist(rfm_df['Recency'])\n",
        "\n",
        "ax2.set_title('Frequency Histogram')\n",
        "ax2.hist(rfm_df['Frequency'])\n",
        "\n",
        "ax3.set_title('Monetary Histogram')\n",
        "ax3.hist(rfm_df['Monetary'])"
      ]
    },
    {
      "cell_type": "code",
      "execution_count": null,
      "metadata": {
        "id": "XJyLzqsgPLCd"
      },
      "outputs": [],
      "source": [
        "rfm_df[['Recency', 'Frequency', 'Monetary']].describe()"
      ]
    },
    {
      "cell_type": "code",
      "execution_count": null,
      "metadata": {
        "id": "-0WZQ-AYmQzk"
      },
      "outputs": [],
      "source": [
        "rfm_df_old[['Recency', 'Frequency', 'Monetary']].describe()"
      ]
    },
    {
      "cell_type": "code",
      "execution_count": null,
      "metadata": {
        "id": "zqckQIUKXryi"
      },
      "outputs": [],
      "source": [
        "rfm_df_new[['Recency', 'Frequency', 'Monetary']].describe()"
      ]
    },
    {
      "cell_type": "code",
      "execution_count": null,
      "metadata": {
        "colab": {
          "base_uri": "https://localhost:8080/"
        },
        "id": "f-ybnQ9MPWWP",
        "outputId": "a99649bc-9aa2-4235-8c33-74d408a6558f"
      },
      "outputs": [
        {
          "name": "stdout",
          "output_type": "stream",
          "text": [
            "실루엣 스코어는 : 0.622\n"
          ]
        }
      ],
      "source": [
        "from sklearn.preprocessing import StandardScaler\n",
        "from sklearn.cluster import KMeans\n",
        "from sklearn.metrics import silhouette_score, silhouette_samples\n",
        "\n",
        "X_features = rfm_df[['Recency', 'Frequency', 'Monetary']].values\n",
        "X_features_scaled = StandardScaler().fit_transform(X_features)     # 값 간에 차이가 크기 때문에 scaling함.\n",
        "\n",
        "kmeans = KMeans(n_clusters=3, random_state=0)\n",
        "labels = kmeans.fit_predict(X_features_scaled)\n",
        "rfm_df['cluster_label'] = labels\n",
        "\n",
        "print('실루엣 스코어는 : {0:.3f}'.format(silhouette_score(X_features_scaled, labels)))    # cluster=3일 때의 실루엣 스코어임"
      ]
    },
    {
      "cell_type": "code",
      "execution_count": null,
      "metadata": {
        "colab": {
          "base_uri": "https://localhost:8080/"
        },
        "id": "1FVU9oBcPWUP",
        "outputId": "e15933fc-e7f8-4953-b99d-58c7d3025070"
      },
      "outputs": [
        {
          "data": {
            "text/plain": [
              "array([0.76687012, 0.5399328 , 0.54257861, ..., 0.74873046, 0.7487474 ,\n",
              "       0.74877004])"
            ]
          },
          "execution_count": 13,
          "metadata": {},
          "output_type": "execute_result"
        }
      ],
      "source": [
        "silhouette_samples(X_features_scaled, labels)"
      ]
    },
    {
      "cell_type": "code",
      "execution_count": null,
      "metadata": {
        "id": "ffUrB-_XPWSH"
      },
      "outputs": [],
      "source": [
        "### 여러 개의 클러스터링 갯수를 List로 입력 받아 각각의 실루엣 계수를 면적으로 시각화한 함수\n",
        "def visualize_silhouette(cluster_lists, X_features):\n",
        "    \n",
        "    from sklearn.datasets import make_blobs\n",
        "    from sklearn.cluster import KMeans\n",
        "    from sklearn.metrics import silhouette_samples, silhouette_score\n",
        "\n",
        "    import matplotlib.pyplot as plt\n",
        "    import matplotlib.cm as cm\n",
        "    import math\n",
        "\n",
        "    n_cols = len(cluster_lists)\n",
        "\n",
        "    # plt.subplots()으로 리스트에 기재된 클러스터링 만큼의 sub figures를 가지는 axs 생성\n",
        "    fig, axs = plt.subplots(figsize=(4*n_cols, 4), nrows=1, ncols=n_cols)\n",
        "\n",
        "    # 리스트에 기재된 클러스터링 갯수들을 차례로 iteration 수행하면서 실루엣 계수 시각화\n",
        "    for ind, n_cluster in enumerate(cluster_lists):\n",
        "\n",
        "        # KMeans 클러스터링 수행하고, 실루엣 스코어와 개별 데이터의 실루엣 값 계산\n",
        "        clusterer = KMeans(n_clusters = n_cluster, max_iter=500, random_state=0)\n",
        "        cluster_labels = clusterer.fit_predict(X_features)\n",
        "\n",
        "        sil_avg = silhouette_score(X_features, cluster_labels)\n",
        "        sil_values = silhouette_samples(X_features, cluster_labels)\n",
        "\n",
        "        y_lower = 10\n",
        "        axs[ind].set_title('Number of Cluster : ' + str(n_cluster) + '\\n'\n",
        "                           'Silhouette Score :' + str(round(sil_avg, 3))  )\n",
        "        axs[ind].set_xlabel(\"The silhouette coefficient values\")\n",
        "        axs[ind].set_xlim([-0.1, 1])\n",
        "        axs[ind].set_ylim([0, len(X_features) + (n_cluster + 1) * 10])\n",
        "        axs[ind].set_yticks([])\n",
        "        axs[ind].set_xticks([0, 0.2, 0.4, 0.6, 0.8, 1])\n",
        "\n",
        "        # 클러스터링 갯수 별 fill_betweenx() 형태의 막대 그래프 표현\n",
        "        for i in range(n_cluster):\n",
        "            ith_cluster_sil_values = sil_values[cluster_labels == i]\n",
        "            ith_cluster_sil_values.sort()\n",
        "            \n",
        "            size_cluster_i = ith_cluster_sil_values.shape[0]       # 각 군집의 샘플의 갯수\n",
        "            y_upper = y_lower + size_cluster_i\n",
        "            \n",
        "            color = cm.nipy_spectral(float(i) / n_cluster)\n",
        "\n",
        "            # fill_betweenx(): 두 수직 방향의 곡선 사이를 채움, fill_between(): 두 수평 방향의 곡선 사이를 채움.\n",
        "            axs[ind].fill_betweenx(np.arange(y_lower, y_upper), 0, ith_cluster_sil_values,        # 앞의 array가 y역할, 뒤에 두 개가 각각 x1,x2로 봄.\n",
        "                                   facecolor = color, edgecolor = color, alpha=0.7)        # 범위에 해당하는 부분 색 채움\n",
        "            axs[ind].text(-0.05, y_lower + 0.5 * size_cluster_i, str(i))     # 색 왼쪽부분 숫자 기입\n",
        "            y_lower = y_upper + 10\n",
        "\n",
        "        axs[ind].axvline(x = sil_avg, color = \"red\", linestyle = \"--\")"
      ]
    },
    {
      "cell_type": "code",
      "execution_count": null,
      "metadata": {
        "id": "7RdwwGxrPK_q"
      },
      "outputs": [],
      "source": [
        "### 여러개의 클러스터링 갯수를 List로 입력 받아 각각의 클러스터링 결과를 시각화 \n",
        "def visualize_kmeans_plot_multi(cluster_lists, X_features):\n",
        "    \n",
        "    from sklearn.cluster import KMeans\n",
        "    from sklearn.decomposition import PCA\n",
        "    import pandas as pd\n",
        "    import numpy as np\n",
        "    \n",
        "    # plt.subplots()으로 리스트에 기재된 클러스터링 만큼의 sub figures를 가지는 axs 생성 \n",
        "    n_cols = len(cluster_lists)\n",
        "    fig, axs = plt.subplots(figsize=(4*n_cols, 4), nrows=1, ncols=n_cols)\n",
        "    \n",
        "    # 입력 데이터의 FEATURE가 여러개일 경우 2차원 데이터 시각화가 어려우므로 PCA 변환하여 2차원 시각화\n",
        "    pca = PCA(n_components=2)\n",
        "    pca_transformed = pca.fit_transform(X_features)\n",
        "    dataframe = pd.DataFrame(pca_transformed, columns=['PCA1','PCA2'])\n",
        "    \n",
        "     # 리스트에 기재된 클러스터링 갯수들을 차례로 iteration 수행하면서 KMeans 클러스터링 수행하고 시각화\n",
        "    for ind, n_cluster in enumerate(cluster_lists):\n",
        "        \n",
        "        # KMeans 클러스터링으로 클러스터링 결과를 dataframe에 저장. \n",
        "        clusterer = KMeans(n_clusters = n_cluster, max_iter=500, random_state=0)\n",
        "        cluster_labels = clusterer.fit_predict(pca_transformed)\n",
        "        dataframe['cluster']=cluster_labels\n",
        "        \n",
        "        unique_labels = np.unique(clusterer.labels_)\n",
        "        markers=['o', 's', '^', 'x', '*']\n",
        "       \n",
        "        # 클러스터링 결과값 별로 scatter plot 으로 시각화\n",
        "        for label in unique_labels:\n",
        "            label_df = dataframe[dataframe['cluster']==label]\n",
        "            if label == -1:\n",
        "                cluster_legend = 'Noise'\n",
        "            else :\n",
        "                cluster_legend = 'Cluster '+str(label)           \n",
        "            axs[ind].scatter(x=label_df['PCA1'], y=label_df['PCA2'], s=70,\\\n",
        "                        edgecolor='k', marker=markers[label], label=cluster_legend)\n",
        "\n",
        "        axs[ind].set_title('Number of Cluster : '+ str(n_cluster))    \n",
        "        axs[ind].legend(loc='upper right')\n",
        "    \n",
        "    plt.show()"
      ]
    },
    {
      "cell_type": "code",
      "execution_count": null,
      "metadata": {
        "colab": {
          "base_uri": "https://localhost:8080/",
          "height": 574
        },
        "id": "B_1BaN4KPxMN",
        "outputId": "fb225b1f-96dd-4b21-ce95-d51d034281aa"
      },
      "outputs": [
        {
          "data": {
            "image/png": "[encoded data removed]",
            "text/plain": [
              "<Figure size 1152x288 with 4 Axes>"
            ]
          },
          "metadata": {},
          "output_type": "display_data"
        },
        {
          "data": {
            "image/png": "[encoded data removed]",
            "text/plain": [
              "<Figure size 1152x288 with 4 Axes>"
            ]
          },
          "metadata": {},
          "output_type": "display_data"
        }
      ],
      "source": [
        "visualize_silhouette([2,3,4,5],X_features_scaled)\n",
        "visualize_kmeans_plot_multi([2,3,4,5],X_features_scaled)"
      ]
    },
    {
      "cell_type": "markdown",
      "metadata": {
        "id": "60ZbCfUjQ6TT"
      },
      "source": [
        "지나치게 왜곡된 데이터 세트는 K-평균과 같은 거리 기반 군집화 알고리즘에서 지나치게 일반적인 군집화 결과 도출"
      ]
    },
    {
      "cell_type": "markdown",
      "metadata": {
        "id": "bMZEgAMwRES7"
      },
      "source": [
        "따라서 왜곡 정도 낮추기 위해 데이터 값에 로그 적용"
      ]
    },
    {
      "cell_type": "code",
      "execution_count": null,
      "metadata": {
        "colab": {
          "base_uri": "https://localhost:8080/"
        },
        "id": "YFBV1b57PxKG",
        "outputId": "641f8ce6-f668-4185-ed47-fd5960cf7810"
      },
      "outputs": [
        {
          "name": "stderr",
          "output_type": "stream",
          "text": [
            "/usr/local/lib/python3.7/dist-packages/ipykernel_launcher.py:7: SettingWithCopyWarning: \n",
            "A value is trying to be set on a copy of a slice from a DataFrame.\n",
            "Try using .loc[row_indexer,col_indexer] = value instead\n",
            "\n",
            "See the caveats in the documentation: https://pandas.pydata.org/pandas-docs/stable/user_guide/indexing.html#returning-a-view-versus-a-copy\n",
            "  import sys\n",
            "/usr/local/lib/python3.7/dist-packages/ipykernel_launcher.py:8: SettingWithCopyWarning: \n",
            "A value is trying to be set on a copy of a slice from a DataFrame.\n",
            "Try using .loc[row_indexer,col_indexer] = value instead\n",
            "\n",
            "See the caveats in the documentation: https://pandas.pydata.org/pandas-docs/stable/user_guide/indexing.html#returning-a-view-versus-a-copy\n",
            "  \n",
            "/usr/local/lib/python3.7/dist-packages/ipykernel_launcher.py:9: SettingWithCopyWarning: \n",
            "A value is trying to be set on a copy of a slice from a DataFrame.\n",
            "Try using .loc[row_indexer,col_indexer] = value instead\n",
            "\n",
            "See the caveats in the documentation: https://pandas.pydata.org/pandas-docs/stable/user_guide/indexing.html#returning-a-view-versus-a-copy\n",
            "  if __name__ == '__main__':\n",
            "/usr/local/lib/python3.7/dist-packages/ipykernel_launcher.py:17: SettingWithCopyWarning: \n",
            "A value is trying to be set on a copy of a slice from a DataFrame.\n",
            "Try using .loc[row_indexer,col_indexer] = value instead\n",
            "\n",
            "See the caveats in the documentation: https://pandas.pydata.org/pandas-docs/stable/user_guide/indexing.html#returning-a-view-versus-a-copy\n"
          ]
        },
        {
          "name": "stdout",
          "output_type": "stream",
          "text": [
            "실루엣 스코어는 : 0.411\n"
          ]
        }
      ],
      "source": [
        "### Log 변환을 통해 데이터 변환\n",
        "from sklearn.preprocessing import StandardScaler\n",
        "from sklearn.cluster import KMeans\n",
        "from sklearn.metrics import silhouette_score, silhouette_samples\n",
        "\n",
        "# Recency, Frequecny, Monetary 컬럼에 np.log1p() 로 Log Transformation\n",
        "rfm_df_new['Recency_log'] = np.log1p(rfm_df_new['Recency'])\n",
        "rfm_df_new['Frequency_log'] = np.log1p(rfm_df_new['Frequency'])\n",
        "rfm_df_new['Monetary_log'] = np.log1p(rfm_df_new['Monetary'])\n",
        "\n",
        "# Log Transformation 데이터에 StandardScaler 적용\n",
        "X_features = rfm_df_new[['Recency_log','Frequency_log','Monetary_log']].values\n",
        "X_features_scaled = StandardScaler().fit_transform(X_features)\n",
        "\n",
        "kmeans = KMeans(n_clusters=3, random_state=0)\n",
        "labels = kmeans.fit_predict(X_features_scaled)\n",
        "rfm_df_new['cluster_label'] = labels\n",
        "\n",
        "print('실루엣 스코어는 : {0:.3f}'.format(silhouette_score(X_features_scaled,labels)))     # cluster=3에서의 실루엣 점수(로그 변환 전보다는 스코어가 떨어짐)"
      ]
    },
    {
      "cell_type": "code",
      "execution_count": null,
      "metadata": {
        "id": "eiQ8HZICW4nB"
      },
      "outputs": [],
      "source": [
        ""
      ]
    },
    {
      "cell_type": "code",
      "execution_count": null,
      "metadata": {
        "colab": {
          "base_uri": "https://localhost:8080/"
        },
        "id": "VVJ5MhMhmWHD",
        "outputId": "63d8f387-5d65-4fdc-a0d9-08fe0881e6b6"
      },
      "outputs": [
        {
          "name": "stdout",
          "output_type": "stream",
          "text": [
            "실루엣 스코어는 : 0.367\n"
          ]
        }
      ],
      "source": [
        "### Log 변환을 통해 데이터 변환\n",
        "from sklearn.preprocessing import StandardScaler\n",
        "from sklearn.cluster import KMeans\n",
        "from sklearn.metrics import silhouette_score, silhouette_samples\n",
        "\n",
        "# Recency, Frequecny, Monetary 컬럼에 np.log1p() 로 Log Transformation\n",
        "rfm_df_old['Recency_log'] = np.log1p(rfm_df_old['Recency'])\n",
        "rfm_df_old['Frequency_log'] = np.log1p(rfm_df_old['Frequency'])\n",
        "rfm_df_old['Monetary_log'] = np.log1p(rfm_df_old['Monetary'])\n",
        "\n",
        "# Log Transformation 데이터에 StandardScaler 적용\n",
        "X_features = rfm_df_old[['Recency_log','Frequency_log','Monetary_log']].values\n",
        "X_features_scaled = StandardScaler().fit_transform(X_features)\n",
        "\n",
        "kmeans = KMeans(n_clusters=3, random_state=0)\n",
        "labels = kmeans.fit_predict(X_features_scaled)\n",
        "rfm_df_old['cluster_label'] = labels\n",
        "\n",
        "print('실루엣 스코어는 : {0:.3f}'.format(silhouette_score(X_features_scaled,labels)))     # cluster=3에서의 실루엣 점수(로그 변환 전보다는 스코어가 떨어짐)"
      ]
    },
    {
      "cell_type": "code",
      "execution_count": null,
      "metadata": {
        "colab": {
          "base_uri": "https://localhost:8080/",
          "height": 574
        },
        "id": "hLKgO4-rPxH6",
        "outputId": "6de0f749-c201-48ad-933b-eb787ff67baf"
      },
      "outputs": [
        {
          "data": {
            "image/png": "[encoded data removed]",
            "text/plain": [
              "<Figure size 1152x288 with 4 Axes>"
            ]
          },
          "metadata": {},
          "output_type": "display_data"
        },
        {
          "data": {
            "image/png": "[encoded data removed]",
            "text/plain": [
              "<Figure size 1152x288 with 4 Axes>"
            ]
          },
          "metadata": {},
          "output_type": "display_data"
        }
      ],
      "source": [
        "visualize_silhouette([2,3,4,5],X_features_scaled)\n",
        "visualize_kmeans_plot_multi([2,3,4,5],X_features_scaled)        # 아래를 보고 3개로 cluster하는 방법이 최적이라 판단하였음."
      ]
    },
    {
      "cell_type": "code",
      "execution_count": null,
      "metadata": {
        "id": "Az7o0JhLP0vB"
      },
      "outputs": [],
      "source": [
        "rfm_df_new        # 고객 세그멘테이션(RFM방법) 결과 ['cluster_label']"
      ]
    },
    {
      "cell_type": "markdown",
      "metadata": {
        "id": "Sv-9omcMn0Zv"
      },
      "source": [
        "@@결측치 수정후"
      ]
    },
    {
      "cell_type": "code",
      "execution_count": null,
      "metadata": {
        "colab": {
          "base_uri": "https://localhost:8080/"
        },
        "id": "E9Rhqbqlnuci",
        "outputId": "b2d451fd-3694-4f90-a997-900db15883ac"
      },
      "outputs": [
        {
          "data": {
            "text/plain": [
              "cluster_label\n",
              "0    15666\n",
              "1    19358\n",
              "2    50787\n",
              "Name: CustomerID, dtype: int64"
            ]
          },
          "execution_count": 29,
          "metadata": {},
          "output_type": "execute_result"
        }
      ],
      "source": [
        "rfm_df_new.groupby(['cluster_label']).count()['CustomerID']    "
      ]
    },
    {
      "cell_type": "code",
      "execution_count": null,
      "metadata": {
        "colab": {
          "base_uri": "https://localhost:8080/"
        },
        "id": "eR5SFyJfmbY7",
        "outputId": "f789ae43-d248-44c9-ff6d-488420945dcb"
      },
      "outputs": [
        {
          "data": {
            "text/plain": [
              "cluster_label\n",
              "0    48069\n",
              "1    17551\n",
              "2    20239\n",
              "Name: CustomerID, dtype: int64"
            ]
          },
          "execution_count": 55,
          "metadata": {},
          "output_type": "execute_result"
        }
      ],
      "source": [
        "rfm_df_old.groupby(['cluster_label']).count()['CustomerID']    "
      ]
    },
    {
      "cell_type": "markdown",
      "metadata": {
        "id": "1omQKdnPVbhv"
      },
      "source": [
        "# RFM기법으로 다음과 같이 고객 분류됨"
      ]
    },
    {
      "cell_type": "code",
      "execution_count": null,
      "metadata": {
        "id": "VdLSMc1TOVtk"
      },
      "outputs": [],
      "source": [
        "rfm_df_new[rfm_df_new['cluster_label']==0]['CustomerID']"
      ]
    },
    {
      "cell_type": "code",
      "execution_count": null,
      "metadata": {
        "colab": {
          "base_uri": "https://localhost:8080/"
        },
        "id": "cM2aqVmNVS_J",
        "outputId": "f278a7ea-aa66-4871-ff9d-86003c021d97"
      },
      "outputs": [
        {
          "data": {
            "text/plain": [
              "32       602468859\n",
              "57       602468954\n",
              "61       602468966\n",
              "76       602469042\n",
              "84       602469074\n",
              "           ...    \n",
              "85854    602839890\n",
              "85855    602839893\n",
              "85856    602839899\n",
              "85857    602839900\n",
              "85858    602839909\n",
              "Name: CustomerID, Length: 19358, dtype: int64"
            ]
          },
          "execution_count": 31,
          "metadata": {},
          "output_type": "execute_result"
        }
      ],
      "source": [
        "rfm_df_new[rfm_df_new['cluster_label']==1]['CustomerID']"
      ]
    },
    {
      "cell_type": "code",
      "execution_count": null,
      "metadata": {
        "colab": {
          "base_uri": "https://localhost:8080/"
        },
        "id": "8G_lQElVVjYw",
        "outputId": "ee3a98a1-47cd-425a-fd80-fd23fa5a8cf2"
      },
      "outputs": [
        {
          "data": {
            "text/plain": [
              "0        602468719\n",
              "1        602468721\n",
              "2        602468732\n",
              "3        602468733\n",
              "5        602468737\n",
              "           ...    \n",
              "85794    602839443\n",
              "85805    602839514\n",
              "85808    602839526\n",
              "85811    602839553\n",
              "85819    602839635\n",
              "Name: CustomerID, Length: 50787, dtype: int64"
            ]
          },
          "execution_count": 32,
          "metadata": {},
          "output_type": "execute_result"
        }
      ],
      "source": [
        "rfm_df_new[rfm_df_new['cluster_label']==2]['CustomerID']"
      ]
    },
    {
      "cell_type": "markdown",
      "metadata": {
        "id": "HzjLKl6maA-1"
      },
      "source": [
        "# 결과 분포로 확인"
      ]
    },
    {
      "cell_type": "code",
      "execution_count": null,
      "metadata": {
        "id": "_6BNhWusZfG-"
      },
      "outputs": [],
      "source": [
        "rfm_df_new[rfm_df_new['cluster_label']==0]['Recency'].describe()"
      ]
    },
    {
      "cell_type": "code",
      "execution_count": null,
      "metadata": {
        "id": "WstqG0cfZfEk"
      },
      "outputs": [],
      "source": [
        "rfm_df_new[rfm_df_new['cluster_label']==1]['Recency'].describe()"
      ]
    },
    {
      "cell_type": "code",
      "execution_count": null,
      "metadata": {
        "id": "1vJ-01q9Zn6R"
      },
      "outputs": [],
      "source": [
        "rfm_df_new[rfm_df_new['cluster_label']==2]['Recency'].describe()"
      ]
    },
    {
      "cell_type": "code",
      "execution_count": null,
      "metadata": {
        "id": "6Lr3Afh7Z1bK"
      },
      "outputs": [],
      "source": [
        ""
      ]
    },
    {
      "cell_type": "code",
      "execution_count": null,
      "metadata": {
        "id": "py1xB6gAZ1Zd"
      },
      "outputs": [],
      "source": [
        "rfm_df_new[rfm_df_new['cluster_label']==0]['Frequency'].describe()"
      ]
    },
    {
      "cell_type": "code",
      "execution_count": null,
      "metadata": {
        "id": "lsAoQ4C7Z4HH"
      },
      "outputs": [],
      "source": [
        "rfm_df_new[rfm_df_new['cluster_label']==1]['Frequency'].describe()"
      ]
    },
    {
      "cell_type": "code",
      "execution_count": null,
      "metadata": {
        "id": "cYV85wxkZ4FI"
      },
      "outputs": [],
      "source": [
        "rfm_df_new[rfm_df_new['cluster_label']==2]['Frequency'].describe()"
      ]
    },
    {
      "cell_type": "code",
      "execution_count": null,
      "metadata": {
        "id": "k3p4-SRTZ7EC"
      },
      "outputs": [],
      "source": [
        ""
      ]
    },
    {
      "cell_type": "code",
      "execution_count": null,
      "metadata": {
        "id": "cotPHa5gZ7CR"
      },
      "outputs": [],
      "source": [
        "rfm_df_new[rfm_df_new['cluster_label']==0]['Monetary'].describe()"
      ]
    },
    {
      "cell_type": "code",
      "execution_count": null,
      "metadata": {
        "id": "jfmtS8URZ9Rn"
      },
      "outputs": [],
      "source": [
        "rfm_df_new[rfm_df_new['cluster_label']==1]['Monetary'].describe()"
      ]
    },
    {
      "cell_type": "code",
      "execution_count": null,
      "metadata": {
        "id": "RrDkc0eJZ9P1"
      },
      "outputs": [],
      "source": [
        "rfm_df_new[rfm_df_new['cluster_label']==2]['Monetary'].describe()"
      ]
    },
    {
      "cell_type": "code",
      "execution_count": null,
      "metadata": {
        "id": "tz7Enz_JeM05"
      },
      "outputs": [],
      "source": [
        ""
      ]
    },
    {
      "cell_type": "code",
      "execution_count": null,
      "metadata": {
        "id": "P61LMW3EeWXf"
      },
      "outputs": [],
      "source": [
        ""
      ]
    },
    {
      "cell_type": "markdown",
      "metadata": {
        "id": "eL4wegEKlLmq"
      },
      "source": [
        "# monetary = 총 거래량 vs 총 수수료 고객 비교"
      ]
    },
    {
      "cell_type": "markdown",
      "metadata": {
        "id": "4pijA5Y3q-zc"
      },
      "source": [
        "old 0    :48069\n",
        "1    :17551\n",
        "2    :20239\n",
        "(2,1,0 순으로 거래소에 영향 주는 고객 집단)"
      ]
    },
    {
      "cell_type": "markdown",
      "metadata": {
        "id": "hOdjJpIqq3vw"
      },
      "source": [
        "new\n",
        "0    :15666\n",
        "1    :19358\n",
        "2    :50787\n",
        "(0,1,2 순으로 거래소에 영향 주는 고객 집단)"
      ]
    },
    {
      "cell_type": "code",
      "execution_count": null,
      "metadata": {
        "id": "oRJrOMB5lMTq"
      },
      "outputs": [],
      "source": [
        "lable0_new = list(rfm_df_new[rfm_df_new['cluster_label']==0]['CustomerID'].values)\n",
        "lable1_new = list(rfm_df_new[rfm_df_new['cluster_label']==1]['CustomerID'].values)\n",
        "lable2_new = list(rfm_df_new[rfm_df_new['cluster_label']==2]['CustomerID'].values)\n",
        "\n",
        "lable0_old = list(rfm_df_old[rfm_df_old['cluster_label']==0]['CustomerID'].values)\n",
        "lable1_old = list(rfm_df_old[rfm_df_old['cluster_label']==1]['CustomerID'].values)\n",
        "lable2_old = list(rfm_df_old[rfm_df_old['cluster_label']==2]['CustomerID'].values)"
      ]
    },
    {
      "cell_type": "markdown",
      "metadata": {
        "id": "4xgjODQDuGpV"
      },
      "source": [
        "교집합"
      ]
    },
    {
      "cell_type": "code",
      "execution_count": null,
      "metadata": {
        "id": "mc-I8FZIo1cm"
      },
      "outputs": [],
      "source": [
        "first_interaction = list(set(lable2_old) & set(lable0_new))\n",
        "print( first_interaction )\n",
        "print(len(first_interaction))"
      ]
    },
    {
      "cell_type": "code",
      "execution_count": null,
      "metadata": {
        "id": "Zxf7GwonpFO4"
      },
      "outputs": [],
      "source": [
        "second_interaction = list(set(lable1_old) & set(lable1_new))\n",
        "print( second_interaction )\n",
        "print(len(second_interaction))"
      ]
    },
    {
      "cell_type": "code",
      "execution_count": null,
      "metadata": {
        "id": "AxDk6DqXpYRM"
      },
      "outputs": [],
      "source": [
        "third_interaction = list(set(lable0_old) & set(lable2_new))\n",
        "print( third_interaction )\n",
        "print(len(third_interaction))"
      ]
    },
    {
      "cell_type": "markdown",
      "metadata": {
        "id": "YKX9_AR1uKu3"
      },
      "source": [
        "차집합"
      ]
    },
    {
      "cell_type": "code",
      "execution_count": null,
      "metadata": {
        "id": "h5DOWEL4pu6B"
      },
      "outputs": [],
      "source": [
        "first_complement = list(set(lable0_new) - set(lable2_old))\n",
        "print( first_complement )\n",
        "print( len(first_complement) )"
      ]
    },
    {
      "cell_type": "code",
      "execution_count": null,
      "metadata": {
        "id": "ZTSsRyu4p8kL"
      },
      "outputs": [],
      "source": [
        "second_complement = list(set(lable1_new) - set(lable1_old))\n",
        "print( second_complement )\n",
        "print( len(second_complement) )"
      ]
    },
    {
      "cell_type": "code",
      "execution_count": null,
      "metadata": {
        "id": "PnfFkA9dqLfh"
      },
      "outputs": [],
      "source": [
        "third_complement = list(set(lable2_new) - set(lable0_old))\n",
        "print( third_complement )\n",
        "print( len(third_complement) )"
      ]
    },
    {
      "cell_type": "code",
      "execution_count": null,
      "metadata": {
        "id": "Ir9CHbTguNcj"
      },
      "outputs": [],
      "source": [
        "first_complement_1 = list(set(lable2_old) - set(lable0_new))\n",
        "print( first_complement_1 )\n",
        "print( len(first_complement_1) )"
      ]
    },
    {
      "cell_type": "code",
      "execution_count": null,
      "metadata": {
        "id": "BN58XQv9uVEo"
      },
      "outputs": [],
      "source": [
        "second_complement_1 = list(set(lable1_old) - set(lable1_new))\n",
        "print( second_complement_1 )\n",
        "print( len(second_complement_1) )"
      ]
    },
    {
      "cell_type": "code",
      "execution_count": null,
      "metadata": {
        "id": "JhGKUwCpubGH"
      },
      "outputs": [],
      "source": [
        "third_complement_1 = list(set(lable0_old)-set(lable2_new))\n",
        "print( third_complement_1 )\n",
        "print( len(third_complement_1) )"
      ]
    },
    {
      "cell_type": "markdown",
      "metadata": {
        "id": "BeSQ5BmrXihK"
      },
      "source": [
        "# cluster=5"
      ]
    },
    {
      "cell_type": "code",
      "execution_count": null,
      "metadata": {
        "colab": {
          "base_uri": "https://localhost:8080/"
        },
        "id": "5OE_EDmGW99O",
        "outputId": "af1bd740-6ab0-4f45-9b8e-1e95a66e17db"
      },
      "outputs": [
        {
          "name": "stderr",
          "output_type": "stream",
          "text": [
            "/usr/local/lib/python3.7/dist-packages/ipykernel_launcher.py:7: SettingWithCopyWarning: \n",
            "A value is trying to be set on a copy of a slice from a DataFrame.\n",
            "Try using .loc[row_indexer,col_indexer] = value instead\n",
            "\n",
            "See the caveats in the documentation: https://pandas.pydata.org/pandas-docs/stable/user_guide/indexing.html#returning-a-view-versus-a-copy\n",
            "  import sys\n",
            "/usr/local/lib/python3.7/dist-packages/ipykernel_launcher.py:8: SettingWithCopyWarning: \n",
            "A value is trying to be set on a copy of a slice from a DataFrame.\n",
            "Try using .loc[row_indexer,col_indexer] = value instead\n",
            "\n",
            "See the caveats in the documentation: https://pandas.pydata.org/pandas-docs/stable/user_guide/indexing.html#returning-a-view-versus-a-copy\n",
            "  \n",
            "/usr/local/lib/python3.7/dist-packages/ipykernel_launcher.py:9: SettingWithCopyWarning: \n",
            "A value is trying to be set on a copy of a slice from a DataFrame.\n",
            "Try using .loc[row_indexer,col_indexer] = value instead\n",
            "\n",
            "See the caveats in the documentation: https://pandas.pydata.org/pandas-docs/stable/user_guide/indexing.html#returning-a-view-versus-a-copy\n",
            "  if __name__ == '__main__':\n",
            "/usr/local/lib/python3.7/dist-packages/ipykernel_launcher.py:17: SettingWithCopyWarning: \n",
            "A value is trying to be set on a copy of a slice from a DataFrame.\n",
            "Try using .loc[row_indexer,col_indexer] = value instead\n",
            "\n",
            "See the caveats in the documentation: https://pandas.pydata.org/pandas-docs/stable/user_guide/indexing.html#returning-a-view-versus-a-copy\n"
          ]
        },
        {
          "name": "stdout",
          "output_type": "stream",
          "text": [
            "실루엣 스코어는 : 0.395\n"
          ]
        }
      ],
      "source": [
        "### Log 변환을 통해 데이터 변환\n",
        "from sklearn.preprocessing import StandardScaler\n",
        "from sklearn.cluster import KMeans\n",
        "from sklearn.metrics import silhouette_score, silhouette_samples\n",
        "\n",
        "# Recency, Frequecny, Monetary 컬럼에 np.log1p() 로 Log Transformation\n",
        "rfm_df_new['Recency_log'] = np.log1p(rfm_df_new['Recency'])\n",
        "rfm_df_new['Frequency_log'] = np.log1p(rfm_df_new['Frequency'])\n",
        "rfm_df_new['Monetary_log'] = np.log1p(rfm_df_new['Monetary'])\n",
        "\n",
        "# Log Transformation 데이터에 StandardScaler 적용\n",
        "X_features = rfm_df_new[['Recency_log','Frequency_log','Monetary_log']].values\n",
        "X_features_scaled = StandardScaler().fit_transform(X_features)\n",
        "\n",
        "kmeans = KMeans(n_clusters=5, random_state=0)\n",
        "labels = kmeans.fit_predict(X_features_scaled)\n",
        "rfm_df_new['cluster_label_5'] = labels\n",
        "\n",
        "print('실루엣 스코어는 : {0:.3f}'.format(silhouette_score(X_features_scaled,labels)))     # cluster=3에서의 실루엣 점수(로그 변환 전보다는 스코어가 떨어짐)"
      ]
    },
    {
      "cell_type": "code",
      "execution_count": null,
      "metadata": {
        "colab": {
          "background_save": true
        },
        "id": "duqVXZ94eGmR"
      },
      "outputs": [],
      "source": [
        "cluster_labels = kmeans.fit_predict(X_features)\n",
        "\n",
        "sil_avg = silhouette_score(X_features, cluster_labels)\n",
        "sil_values = silhouette_samples(X_features, cluster_labels)"
      ]
    },
    {
      "cell_type": "code",
      "execution_count": null,
      "metadata": {
        "id": "W8l9ESeBeXif"
      },
      "outputs": [],
      "source": [
        "ith_cluster_sil_values = sil_values[cluster_labels == 0]\n",
        "ith_cluster_sil_values.sort()\n",
        "ith_cluster_sil_values[ith_cluster_sil_values<0]"
      ]
    },
    {
      "cell_type": "code",
      "execution_count": null,
      "metadata": {
        "id": "tR_aOTTieXgZ"
      },
      "outputs": [],
      "source": [
        "i2th_cluster_sil_values = sil_values[cluster_labels == 1]\n",
        "i2th_cluster_sil_values.sort()\n",
        "# i2th_cluster_sil_values\n",
        "i2th_cluster_sil_values[i2th_cluster_sil_values<0]"
      ]
    },
    {
      "cell_type": "code",
      "execution_count": null,
      "metadata": {
        "id": "VnlndCKMetJg",
        "colab": {
          "base_uri": "https://localhost:8080/"
        },
        "outputId": "691aed74-7103-46cc-9365-86b9c33fad1d"
      },
      "outputs": [
        {
          "output_type": "execute_result",
          "data": {
            "text/plain": [
              "(38223,)"
            ]
          },
          "metadata": {},
          "execution_count": 42
        }
      ],
      "source": [
        "i3th_cluster_sil_values = sil_values[cluster_labels == 2]\n",
        "i3th_cluster_sil_values.sort()\n",
        "i3th_cluster_sil_values.shape"
      ]
    },
    {
      "cell_type": "code",
      "execution_count": null,
      "metadata": {
        "id": "3BZWD3MZetHe",
        "colab": {
          "base_uri": "https://localhost:8080/"
        },
        "outputId": "4904c9e2-beef-404f-c790-c36a412daf2e"
      },
      "outputs": [
        {
          "output_type": "execute_result",
          "data": {
            "text/plain": [
              "array([-0.15820736, -0.15652841, -0.15256203, ...,  0.49028741,\n",
              "        0.49058815,  0.4906325 ])"
            ]
          },
          "metadata": {},
          "execution_count": 34
        }
      ],
      "source": [
        "i4th_cluster_sil_values = sil_values[cluster_labels == 3]\n",
        "i4th_cluster_sil_values.sort()\n",
        "i4th_cluster_sil_values"
      ]
    },
    {
      "cell_type": "code",
      "source": [
        "i5th_cluster_sil_values = sil_values[cluster_labels == 4]\n",
        "i5th_cluster_sil_values.sort()\n",
        "i5th_cluster_sil_values"
      ],
      "metadata": {
        "colab": {
          "base_uri": "https://localhost:8080/"
        },
        "id": "shHQRrywg2Fu",
        "outputId": "9ba6e6eb-5f3f-4a0f-cc4f-62881cd88246"
      },
      "execution_count": null,
      "outputs": [
        {
          "output_type": "execute_result",
          "data": {
            "text/plain": [
              "array([-0.04789611, -0.04744761, -0.04725345, ...,  0.57746676,\n",
              "        0.57754643,  0.578231  ])"
            ]
          },
          "metadata": {},
          "execution_count": 35
        }
      ]
    },
    {
      "cell_type": "code",
      "execution_count": null,
      "metadata": {
        "id": "cDFHUiCLXH4R"
      },
      "outputs": [],
      "source": [
        "rfm_df_new"
      ]
    },
    {
      "cell_type": "code",
      "execution_count": null,
      "metadata": {
        "colab": {
          "base_uri": "https://localhost:8080/"
        },
        "id": "xmtm-NXVXdZT",
        "outputId": "38eb03f8-8ebe-464c-9a3e-7e5875ab1b74"
      },
      "outputs": [
        {
          "data": {
            "text/plain": [
              "cluster_label_5\n",
              "0    39781\n",
              "1    16538\n",
              "2     7810\n",
              "3     6277\n",
              "4    15405\n",
              "Name: CustomerID, dtype: int64"
            ]
          },
          "execution_count": 10,
          "metadata": {},
          "output_type": "execute_result"
        }
      ],
      "source": [
        "rfm_df_new.groupby(['cluster_label_5']).count()['CustomerID']    "
      ]
    },
    {
      "cell_type": "code",
      "execution_count": null,
      "metadata": {
        "id": "-HhtdbXbXroa"
      },
      "outputs": [],
      "source": [
        "rfm_df_new[rfm_df_new['cluster_label_5']==0]['Recency'].describe()"
      ]
    },
    {
      "cell_type": "code",
      "execution_count": null,
      "metadata": {
        "id": "raLJi1-QXvvP"
      },
      "outputs": [],
      "source": [
        "rfm_df_new[rfm_df_new['cluster_label_5']==1]['Recency'].describe()"
      ]
    },
    {
      "cell_type": "code",
      "execution_count": null,
      "metadata": {
        "id": "pwAg-JCdX9vi"
      },
      "outputs": [],
      "source": [
        "rfm_df_new[rfm_df_new['cluster_label_5']==2]['Recency'].describe()"
      ]
    },
    {
      "cell_type": "code",
      "execution_count": null,
      "metadata": {
        "id": "pTjxj8rQX-mm"
      },
      "outputs": [],
      "source": [
        "rfm_df_new[rfm_df_new['cluster_label_5']==3]['Recency'].describe()"
      ]
    },
    {
      "cell_type": "code",
      "execution_count": null,
      "metadata": {
        "id": "1gIKiKmaYA6E"
      },
      "outputs": [],
      "source": [
        "rfm_df_new[rfm_df_new['cluster_label_5']==4]['Recency'].describe()"
      ]
    },
    {
      "cell_type": "code",
      "execution_count": null,
      "metadata": {
        "id": "m0nRFi4jYKja"
      },
      "outputs": [],
      "source": [
        ""
      ]
    },
    {
      "cell_type": "code",
      "execution_count": null,
      "metadata": {
        "id": "642cNOTvYKeW"
      },
      "outputs": [],
      "source": [
        ""
      ]
    },
    {
      "cell_type": "code",
      "execution_count": null,
      "metadata": {
        "id": "Q6QzOvxCYAoj"
      },
      "outputs": [],
      "source": [
        "rfm_df_new[rfm_df_new['cluster_label_5']==0]['Frequency'].describe()"
      ]
    },
    {
      "cell_type": "code",
      "execution_count": null,
      "metadata": {
        "id": "6rviGESBYDQi"
      },
      "outputs": [],
      "source": [
        "rfm_df_new[rfm_df_new['cluster_label_5']==1]['Frequency'].describe()"
      ]
    },
    {
      "cell_type": "code",
      "execution_count": null,
      "metadata": {
        "id": "XSI2Woq1YE0E"
      },
      "outputs": [],
      "source": [
        "rfm_df_new[rfm_df_new['cluster_label_5']==2]['Frequency'].describe()"
      ]
    },
    {
      "cell_type": "code",
      "execution_count": null,
      "metadata": {
        "id": "S1FnROQUYF54"
      },
      "outputs": [],
      "source": [
        "rfm_df_new[rfm_df_new['cluster_label_5']==3]['Frequency'].describe()"
      ]
    },
    {
      "cell_type": "code",
      "execution_count": null,
      "metadata": {
        "id": "rDr9AdmRYNyM"
      },
      "outputs": [],
      "source": [
        "rfm_df_new[rfm_df_new['cluster_label_5']==4]['Frequency'].describe()"
      ]
    },
    {
      "cell_type": "code",
      "execution_count": null,
      "metadata": {
        "id": "GyL6KO_kYO0m"
      },
      "outputs": [],
      "source": [
        ""
      ]
    },
    {
      "cell_type": "code",
      "execution_count": null,
      "metadata": {
        "id": "MiBSn-kWYQlp"
      },
      "outputs": [],
      "source": [
        ""
      ]
    },
    {
      "cell_type": "code",
      "execution_count": null,
      "metadata": {
        "id": "X03ta4-hYQVA"
      },
      "outputs": [],
      "source": [
        "rfm_df_new[rfm_df_new['cluster_label_5']==0]['Monetary'].describe()"
      ]
    },
    {
      "cell_type": "code",
      "execution_count": null,
      "metadata": {
        "id": "UtOw4kaYYVMF"
      },
      "outputs": [],
      "source": [
        "rfm_df_new[rfm_df_new['cluster_label_5']==1]['Monetary'].describe()"
      ]
    },
    {
      "cell_type": "code",
      "execution_count": null,
      "metadata": {
        "id": "exAvm2jTYW8D"
      },
      "outputs": [],
      "source": [
        "rfm_df_new[rfm_df_new['cluster_label_5']==2]['Monetary'].describe()"
      ]
    },
    {
      "cell_type": "code",
      "execution_count": null,
      "metadata": {
        "id": "X3hYHi6PYYAk"
      },
      "outputs": [],
      "source": [
        "rfm_df_new[rfm_df_new['cluster_label_5']==3]['Monetary'].describe()"
      ]
    },
    {
      "cell_type": "code",
      "execution_count": null,
      "metadata": {
        "id": "m5EQyZQKYZCG"
      },
      "outputs": [],
      "source": [
        "rfm_df_new[rfm_df_new['cluster_label_5']==4]['Monetary'].describe()"
      ]
    },
    {
      "cell_type": "code",
      "execution_count": null,
      "metadata": {
        "id": "OYR2ZWBpYaBb"
      },
      "outputs": [],
      "source": [
        ""
      ]
    },
    {
      "cell_type": "code",
      "execution_count": null,
      "metadata": {
        "id": "dLlHNbTwYbbk"
      },
      "outputs": [],
      "source": [
        ""
      ]
    }
  ],
  "metadata": {
    "colab": {
      "collapsed_sections": [],
      "name": "fee_RFM_kmeans_user_data.ipynb",
      "provenance": [],
      "toc_visible": true,
      "mount_file_id": "1Z0-Unz4CSUQzn0TZoevWBE34qgEnkTHd",
      "authorship_tag": "ABX9TyMWOT2T8DWsvSRJazWF4XUo",
      "include_colab_link": true
    },
    "kernelspec": {
      "display_name": "Python 3",
      "name": "python3"
    },
    "language_info": {
      "name": "python"
    }
  },
  "nbformat": 4,
  "nbformat_minor": 0
}